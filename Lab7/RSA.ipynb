{
 "cells": [
  {
   "cell_type": "markdown",
   "id": "af3a31d8-8832-4e49-903f-2799511a8024",
   "metadata": {
    "tags": []
   },
   "source": [
    "# Public-Key Encryption (Optional)"
   ]
  },
  {
   "cell_type": "markdown",
   "id": "2d8c6fae-57b5-4a39-8c1e-ad452888e951",
   "metadata": {},
   "source": [
    "**CS1302 Introduction to Computer Programming**\n",
    "___"
   ]
  },
  {
   "cell_type": "markdown",
   "id": "71815bbc-2863-4550-b5c1-b1c041cbf7e0",
   "metadata": {},
   "source": [
    "This notebook will introduce the idea of public-key (asymmetric key) cryptography called the [RSA algorithm](https://en.wikipedia.org/wiki/RSA_(cryptosystem))."
   ]
  },
  {
   "cell_type": "markdown",
   "id": "7ce8bf1f-f36d-4489-a2eb-bdacc5733ff2",
   "metadata": {
    "tags": []
   },
   "source": [
    "## Motivation"
   ]
  },
  {
   "cell_type": "markdown",
   "id": "75821a7c-6112-4241-b4a2-4f060b54dfeb",
   "metadata": {},
   "source": [
    "**What is public key encryption?**"
   ]
  },
  {
   "cell_type": "markdown",
   "id": "acdf4e09-3e4a-43df-b2ef-c57b377d75e9",
   "metadata": {},
   "source": [
    "Suppose there is one receiving trying to receive private messsages from multiple senders."
   ]
  },
  {
   "cell_type": "markdown",
   "id": "ceed767d-c7e6-4577-a1c7-db2be38ad0e8",
   "metadata": {},
   "source": [
    "---\n",
    "\n",
    "**Definition** (Asymmetric key cipher)\n",
    "\n",
    "Every sender uses the same public key $k_e$ to encrypt a plaintext $x$ to a ciphertext $y$ as\n",
    "\n",
    "$$\n",
    "y = E(x, k_e).\n",
    "$$ (encrypt)\n",
    "\n",
    "The receiver with the private key $k_d$ decrypts the ciphertext back to the plaintext as\n",
    "\n",
    "$$\n",
    "x = D(y, k_d).\n",
    "$$ (decrypt)\n",
    "\n",
    "$k_e, k_d, E, D$ is chosen to ensure\n",
    "\n",
    "- Decryptability: The receiver can recover the plaintext.\n",
    "- Secrecy: Anyone with only the public key but not the private key cannot recover the plaintext.\n",
    "\n",
    "---"
   ]
  },
  {
   "cell_type": "markdown",
   "id": "9489e486-ccd1-4d7b-9cf8-849bff8017aa",
   "metadata": {},
   "source": [
    "**Exercise** (Optional) What is the benefit of asymmetric key cipher over symmetric key cipher?"
   ]
  },
  {
   "cell_type": "markdown",
   "id": "3375dc3a-bd36-4ec1-be2b-5e38901413f8",
   "metadata": {
    "deletable": false,
    "editable": false,
    "nbgrader": {
     "cell_type": "markdown",
     "checksum": "bec3846fcd481c2109fca324cb49edf5",
     "grade": false,
     "grade_id": "benefits",
     "locked": true,
     "points": 0,
     "schema_version": 3,
     "solution": false,
     "task": true
    },
    "tags": [
     "hide-input"
    ]
   },
   "source": [
    "- Easy to share keys: Encryption key can be shared to all senders publicly.\n",
    "- Easy to store keys: Only the receiver needs to know the private key."
   ]
  },
  {
   "cell_type": "markdown",
   "id": "e4ab3d7f-59f5-4ff2-92f5-e8c869243604",
   "metadata": {},
   "source": [
    "**Is public key encryption possible?**"
   ]
  },
  {
   "cell_type": "markdown",
   "id": "9f2b9a47-053d-4563-8f7d-0803b533760d",
   "metadata": {},
   "source": [
    "Unfortunately, public key encryption is an invertible function given a public key:"
   ]
  },
  {
   "cell_type": "markdown",
   "id": "0a5c8d12-bd76-4c80-ac48-711369a2b0ec",
   "metadata": {},
   "source": [
    "---\n",
    "\n",
    "**Proposition**\n",
    "\n",
    "The plaintext can be recovered from the ciphertext using the public key, even without the private key.  \n",
    "  \n",
    "--- \n"
   ]
  },
  {
   "cell_type": "markdown",
   "id": "ad755690-7d73-4359-ad40-da69c65193b3",
   "metadata": {},
   "source": [
    "**Exercise** (Optional) Prove the above proposition."
   ]
  },
  {
   "cell_type": "markdown",
   "id": "73ec0fed-ceef-4f44-8f94-92ae56e5fd8e",
   "metadata": {
    "deletable": false,
    "nbgrader": {
     "cell_type": "markdown",
     "checksum": "d05a74c8b8e76a1782e8ad4c451ebbad",
     "grade": true,
     "grade_id": "invertible",
     "locked": false,
     "points": 0,
     "schema_version": 3,
     "solution": true,
     "task": false
    },
    "tags": [
     "hide-input"
    ]
   },
   "source": [
    "YOUR ANSWER HERE"
   ]
  },
  {
   "cell_type": "markdown",
   "id": "276832a9-4064-4b0a-be51-cda9da32a4c1",
   "metadata": {},
   "source": [
    "**How to make public key encryption secure?**"
   ]
  },
  {
   "cell_type": "markdown",
   "id": "399b33c2-fbf5-4576-8d47-bd8bf8e219e5",
   "metadata": {},
   "source": [
    "We can make it computationally infeasible to invert $E(\\cdot, k_e)$ unless with the private key $k_d$ is available. Such a function is called the [trapdoor function](https://en.wikipedia.org/wiki/Trapdoor_function#:~:text=A%20trapdoor%20function%20is%20a,are%20widely%20used%20in%20cryptography.). An example of a trapdoor function is:"
   ]
  },
  {
   "cell_type": "markdown",
   "id": "481159af-2775-4f18-a898-806c0aced72a",
   "metadata": {},
   "source": [
    "---\n",
    "\n",
    "**Proposition** (Integer factorization)  \n",
    "\n",
    "Computing the product of of two prime numbers $p$ and $q$, i.e.,\n",
    "\n",
    "$$\n",
    "(p,q)\\mapsto n,\n",
    "$$\n",
    "\n",
    "is a trapdoor function because integer factorization (computing $p$ and $q$ from $n$) is [co-NP](https://en.wikipedia.org/wiki/Integer_factorization) (difficult).\n",
    "\n",
    "---"
   ]
  },
  {
   "cell_type": "markdown",
   "id": "13e2e588-4276-4108-b89b-677c160d5eb2",
   "metadata": {},
   "source": [
    "As the size of $p$ and $q$ increases, the time required to factor $n$ increases dramatically as illustrated [here](https://www.khanacademy.org/computing/computer-science/cryptography/modern-crypt/pi/time-complexity-exploration)."
   ]
  },
  {
   "cell_type": "markdown",
   "id": "492586b3-ef88-49b3-b5ad-2447c3da3633",
   "metadata": {
    "tags": []
   },
   "source": [
    "## RSA Algorithm"
   ]
  },
  {
   "cell_type": "markdown",
   "id": "07edf21c-a707-405e-b896-b1b99a9887d5",
   "metadata": {},
   "source": [
    "**How to encrypt/decrypt?**"
   ]
  },
  {
   "cell_type": "markdown",
   "id": "21489243-e214-44cb-b5bc-74503d35a609",
   "metadata": {},
   "source": [
    "The encryption and decryption use modulo exponentiation instead of addition:\n",
    "\n",
    "$$\n",
    "\\begin{align}\n",
    "E(x, k_e) &:= x^e \\bmod n && \\text{where }k_e:=(e,n)\\\\\n",
    "D(c, k_d) &:= c^d \\bmod n && \\text{where }k_d:=(d,n),\n",
    "\\end{align}\n",
    "$$\n",
    " \n",
    "and $e$, $d$, and $n$ are positive integers."
   ]
  },
  {
   "cell_type": "markdown",
   "id": "6136309d-abce-49ae-add2-56b391bf5cf7",
   "metadata": {},
   "source": [
    "Computing exponentiation can be fast using [repeated squaring](https://en.wikipedia.org/wiki/Exponentiation_by_squaring). The built-in function `pow` already has an efficient implementation:"
   ]
  },
  {
   "cell_type": "code",
   "execution_count": null,
   "id": "421c7caa-0724-464f-b3f6-1d25d677eb01",
   "metadata": {},
   "outputs": [],
   "source": [
    "%%timeit\n",
    "x, e, n = 3, 2 ** 1000000, 4\n",
    "pow(x, e, n)"
   ]
  },
  {
   "cell_type": "markdown",
   "id": "ad376423-39b8-49e6-bfbc-4b0bf330768d",
   "metadata": {},
   "source": [
    "**Exercise** (Optional) Implement you own `modulo_power` using a recusion."
   ]
  },
  {
   "cell_type": "code",
   "execution_count": null,
   "id": "f4d0abdd-8ffc-4892-ba77-d1efc87ba0d7",
   "metadata": {
    "deletable": false,
    "nbgrader": {
     "cell_type": "code",
     "checksum": "20e9f32d01ddde3dca8c60bd914d313a",
     "grade": false,
     "grade_id": "modulo_power",
     "locked": false,
     "schema_version": 3,
     "solution": true,
     "task": false
    },
    "tags": [
     "hide-input"
    ]
   },
   "outputs": [],
   "source": [
    "%%timeit\n",
    "def modulo_power(x, e, n):\n",
    "    # YOUR CODE HERE\n",
    "    raise NotImplementedError()\n",
    "\n",
    "\n",
    "x, e, n = 3, 2 ** 1000000, 4\n",
    "pow(x, e, n)"
   ]
  },
  {
   "cell_type": "markdown",
   "id": "466d8171-d1a2-4c7a-a07e-cee8c7015663",
   "metadata": {},
   "source": [
    "**How to ensure decryptability?**"
   ]
  },
  {
   "cell_type": "markdown",
   "id": "d778b8ad-0fae-499c-8f0e-47ffc0b4839d",
   "metadata": {},
   "source": [
    "For $x = D(E(x, k_e), k_d) = x^{ed} \\bmod n$, we need $0\\leq x < n$ and\n",
    "\n",
    "$$\n",
    "x^{ed} \\equiv x \\mod n.\n",
    "$$ (decryptability)"
   ]
  },
  {
   "cell_type": "markdown",
   "id": "5a99a443-51f0-48fb-b015-898494ede326",
   "metadata": {},
   "source": [
    "**Exercise** (Optional) Derive the above condition using $(a^c \\bmod b) = (a\\bmod b)^c \\bmod b$."
   ]
  },
  {
   "cell_type": "markdown",
   "id": "ad24e017-fadf-43d0-905b-faa8d5a88f92",
   "metadata": {
    "deletable": false,
    "editable": false,
    "nbgrader": {
     "cell_type": "markdown",
     "checksum": "a981384b9185e9a5651baa5e3610ad19",
     "grade": false,
     "grade_id": "decryptability",
     "locked": true,
     "points": 0,
     "schema_version": 3,
     "solution": false,
     "task": true
    },
    "tags": [
     "hide-input"
    ]
   },
   "source": [
    "$$\n",
    "\\begin{align}\n",
    "x &= D(E(x, k_e), k_d) \\\\\n",
    "&= (x^{e} \\bmod n)^{d} \\bmod n \\\\\n",
    "&= x^{ed} \\bmod n.\n",
    "\\end{align}\n",
    "$$\n"
   ]
  },
  {
   "cell_type": "markdown",
   "id": "6182142b-7b9f-4b56-aa01-1d13f329a77d",
   "metadata": {},
   "source": [
    "RSA makes use of the following result to choose $(e, d, n)$:"
   ]
  },
  {
   "cell_type": "markdown",
   "id": "c10bd773-33e7-4666-ac5d-c4f01a5a2910",
   "metadata": {},
   "source": [
    "---\n",
    "\n",
    "**Theorem** (Fermat's little Theorem)\n",
    "\n",
    "If $p$ is prime, then\n",
    "\n",
    "$$\n",
    "x^{p-1}\\equiv 1 \\mod p\n",
    "$$ (fermat)\n",
    "\n",
    "for any integer $x$.\n",
    "\n",
    "---"
   ]
  },
  {
   "cell_type": "markdown",
   "id": "9c4b1edf-669c-42f4-af36-7e5e5733f3be",
   "metadata": {},
   "source": [
    "There are elegant and elementary [combinatorial proofs](https://en.wikipedia.org/wiki/Proofs_of_Fermat%27s_little_theorem#Combinatorial_proofs)."
   ]
  },
  {
   "cell_type": "markdown",
   "id": "21f07132-9547-4fd9-b55b-2b359015fb78",
   "metadata": {},
   "source": [
    "Since {eq}`fermat` implies $x^p = x \\bmod p$, can we choose   \n",
    "- $n=p$ and \n",
    "- $ed=p$\n",
    "\n",
    "to satisfies {eq}`decryptability`?"
   ]
  },
  {
   "cell_type": "markdown",
   "id": "d9489320-760d-4676-b95d-c11d12cc5803",
   "metadata": {},
   "source": [
    "No because the private key can then be easily computed from the public key: $d = n/e$."
   ]
  },
  {
   "cell_type": "markdown",
   "id": "4aa18a4a-5c3a-4aff-9a73-f7a4e84d99b3",
   "metadata": {},
   "source": [
    "Alternatively, by raising {eq}`fermat` to the power of any integer $m$,\n",
    "\n",
    "$$\n",
    "x^{m(p-1)} \\equiv 1 \\mod p.\n",
    "$$ (fermat-m)"
   ]
  },
  {
   "cell_type": "markdown",
   "id": "559f98c9-0c94-403b-ab9a-0675cca6bbd9",
   "metadata": {},
   "source": [
    "Can we have $n=p$ and $ed \\equiv 1 \\bmod p-1$?"
   ]
  },
  {
   "cell_type": "markdown",
   "id": "888848d0-aa79-46de-a47d-67d52cf62fd7",
   "metadata": {},
   "source": [
    "No because $d$ is the modular multiplicative inverse of $e$, which is [easy to compute](https://en.wikipedia.org/wiki/Modular_multiplicative_inverse#Computation), e.g., using `pow` with an exponent of `-1`. In particular, for prime modulus here, the inverse is $d=e^{p-2}\\bmod p$:"
   ]
  },
  {
   "cell_type": "code",
   "execution_count": null,
   "id": "17174910-dfb2-4031-bc6e-8b517485dccf",
   "metadata": {},
   "outputs": [],
   "source": [
    "e, n = 3, 7\n",
    "d = pow(e, -1, n)\n",
    "d, e * d % n == 1 and d == e ** (n - 2) % n"
   ]
  },
  {
   "cell_type": "markdown",
   "id": "95d4f582-4f50-4cad-af35-b3463f08f2fd",
   "metadata": {},
   "source": [
    "**How to make it difficult to compute $d$?**"
   ]
  },
  {
   "cell_type": "markdown",
   "id": "78c01d8d-7b04-40fa-bbc2-25c4fbcd73b7",
   "metadata": {},
   "source": [
    "RSA makes use of the hardness of factoring a product of large primes to create the desired trapdoor function."
   ]
  },
  {
   "cell_type": "markdown",
   "id": "4422db3c-74d3-4e37-8a8f-396a7656b674",
   "metadata": {},
   "source": [
    "In particular, with $m(p-1)$ in {eq}`fermat-m` being the least common multiple $\\operatorname{lcm}(p-1,q-1)$ for another prime number $q$, we have\n",
    "\n",
    "$$\n",
    "\\begin{align}\n",
    "x^{\\operatorname{lcm}(p-1, q-1)} &\\equiv 1 \\mod p && \\text{and}\\\\\n",
    "x^{\\operatorname{lcm}(p-1, q-1)} &\\equiv 1 \\mod q && \\text{by symmetry.}\n",
    "\\end{align}\n",
    "$$"
   ]
  },
  {
   "cell_type": "markdown",
   "id": "43aa8349-8e05-4100-a774-3b87f80187d6",
   "metadata": {},
   "source": [
    "This implies $x^{\\operatorname{lcm}(p-1, q-1)} - 1$ is divisible by both $p$ and $q$, and so\n",
    "\n",
    "$$\n",
    "x^{\\operatorname{lcm}(p-1, q-1)} \\equiv 1 \\mod p q.\n",
    "$$\n",
    "\n",
    "Raising both sides to the power of any positive integer $m$ give:"
   ]
  },
  {
   "cell_type": "markdown",
   "id": "e41fcfbc-ac6c-4fbd-b85e-cfc605346f73",
   "metadata": {},
   "source": [
    "---\n",
    "\n",
    "**Proposition** (RSA)  \n",
    "\n",
    "If $p$ and $q$ are prime, then\n",
    "\n",
    "$$\n",
    "x^{\\overbrace{m \\operatorname{lcm}(p-1, q-1)}^{ed - 1}} \\equiv 1 \\mod \\overbrace{p q}^n\n",
    "$$ (rsa)\n",
    "\n",
    "for any integer $x$. This implies {eq}`decryptability` with by choosing $n = pq$ and\n",
    "\n",
    "$$\n",
    "ed \\equiv 1 \\mod \\operatorname{lcm}(p-1, q-1).\n",
    "$$ (ed)\n",
    "\n",
    "---"
   ]
  },
  {
   "cell_type": "markdown",
   "id": "32a20ede-18b9-4765-8e14-2a0524b88967",
   "metadata": {},
   "source": [
    "Although $d$ is still the modulo multiplicative inverse of $e$, it is with respect to $\\operatorname{lcm}(p-1, q-1)$, which is not easy to compute without knowing the factors of $n$, namely $p$ and $q$. It can be shown that computing $d$ is [as hard as](https://crypto.stackexchange.com/questions/16036/is-knowing-the-private-key-of-rsa-equivalent-to-the-factorization-of-n) computing $\\operatorname{lcm}(p-1, q-1)$ or factoring $n$."
   ]
  },
  {
   "cell_type": "markdown",
   "id": "dfe57c93-29ea-4e03-8dd2-cf27ecbb3047",
   "metadata": {},
   "source": [
    "**How to generate the public key and private key?**"
   ]
  },
  {
   "cell_type": "markdown",
   "id": "6809098e-608d-49ae-894d-ebe9951b3b73",
   "metadata": {},
   "source": [
    "By {eq}`ed`, we can compute $d$ as the modulo multiplicative inverse of $e$. How to choose $e$ then?"
   ]
  },
  {
   "cell_type": "markdown",
   "id": "18ef0b6a-92b6-487f-ba22-c6d1b0552573",
   "metadata": {},
   "source": [
    "We can choose any $e \\in \\{1, \\dots, \\operatorname{lcm}(p-1, q-1)\\}$ such that $e$ does not divide $\\operatorname{lcm}(p-1, q-1)$."
   ]
  },
  {
   "cell_type": "markdown",
   "id": "531ae272-9a91-411e-9b87-40d36c29f6ca",
   "metadata": {},
   "source": [
    "**Exercise** (Optional) For $e$ to have the modulo multiplicative inverse, it should not divide $\\operatorname{lcm}(p-1, q-1)$. Why? "
   ]
  },
  {
   "cell_type": "markdown",
   "id": "749da570-c635-4229-adb6-1726a06fb72e",
   "metadata": {
    "deletable": false,
    "nbgrader": {
     "cell_type": "markdown",
     "checksum": "ce1d2461804920db0bcff59fd0709d2d",
     "grade": true,
     "grade_id": "inverse",
     "locked": false,
     "points": 0,
     "schema_version": 3,
     "solution": true,
     "task": false
    },
    "tags": [
     "hide-input"
    ]
   },
   "source": [
    "YOUR ANSWER HERE"
   ]
  },
  {
   "cell_type": "markdown",
   "id": "796b2dd0-f3c0-4f5b-b67b-e75632d1c4b6",
   "metadata": {},
   "source": [
    "The following function randomly generate the `e, d, n` for some given prime numbers `p` and `q`:"
   ]
  },
  {
   "cell_type": "code",
   "execution_count": null,
   "id": "b06cd2a0-5d7f-46b5-8c0e-c46cad6c1fc5",
   "metadata": {},
   "outputs": [],
   "source": [
    "from math import gcd\n",
    "from random import randint\n",
    "\n",
    "\n",
    "def get_rsa_keys(p, q):\n",
    "    n = p * q\n",
    "    lcm = (p - 1) * (q - 1) // gcd(p - 1, q - 1)\n",
    "    while True:\n",
    "        e = randint(1, lcm - 1)\n",
    "        if gcd(e, lcm) == 1:\n",
    "            break\n",
    "    d = pow(e, -1, lcm)\n",
    "    return e, d, n, lcm"
   ]
  },
  {
   "cell_type": "markdown",
   "id": "d1522fc8-7d51-4a3d-89f7-0763edd9ad70",
   "metadata": {},
   "source": [
    "Note that\n",
    "\n",
    "$$\n",
    "\\operatorname{lcm}(p-1, q-1) = \\frac{(p-1)(q-1)}{\\operatorname{gcd}(p-1, q-1)}.\n",
    "$$"
   ]
  },
  {
   "cell_type": "markdown",
   "id": "80540ad5-6d2e-476c-ba76-1a4b3bd7d5f6",
   "metadata": {},
   "source": [
    "As an example, if we choose two prime numbers $p=17094589121$ and $q=1062873761$:"
   ]
  },
  {
   "cell_type": "code",
   "execution_count": null,
   "id": "d252653b-1fcc-4f1c-98e4-e781a12427d0",
   "metadata": {},
   "outputs": [],
   "source": [
    "e, d, n, lcm = get_rsa_keys(17094589121, 1062873761)\n",
    "e, d, n, e * d % lcm == 1"
   ]
  },
  {
   "cell_type": "markdown",
   "id": "1c6ccc19-d1e6-4ff6-9417-040efb87c63f",
   "metadata": {},
   "source": [
    "The integer $1302$ can be encrypted as follows:"
   ]
  },
  {
   "cell_type": "code",
   "execution_count": null,
   "id": "6e2a3cf7-9a6c-4dc9-a1c8-7b1ae7c650c1",
   "metadata": {},
   "outputs": [],
   "source": [
    "x = 1302\n",
    "c = pow(x, e, n)\n",
    "print(f'The plain text \"{x}\" has been encrypted into \"{c}\".')"
   ]
  },
  {
   "cell_type": "markdown",
   "id": "4d6f8302-56ad-4dd5-985f-5912437ac3cc",
   "metadata": {},
   "source": [
    "With the private key $k_d$, the ciphertext can be decrypted easily as"
   ]
  },
  {
   "cell_type": "code",
   "execution_count": null,
   "id": "e18ddc25-9feb-4fed-955b-00ae8a70d181",
   "metadata": {},
   "outputs": [],
   "source": [
    "output = pow(c, d, n)\n",
    "print(f'The cipher \"{c}\" has been decrypted into \"{output}\".')"
   ]
  },
  {
   "cell_type": "markdown",
   "id": "7c3c3e1a-29b2-46c9-a24a-12174d26eefe",
   "metadata": {},
   "source": [
    "**Exercise** (optional) Using the `rsa` module, [generate a RSA key pair](https://stuvel.eu/python-rsa-doc/usage.html#generating-keys) with suitable length and then use it to encrypt and decrypt your own message. You can install the module as follows:"
   ]
  },
  {
   "cell_type": "code",
   "execution_count": null,
   "id": "f869d824-6ba0-4d61-b18d-24d5b7d60eff",
   "metadata": {
    "tags": [
     "remove-output"
    ]
   },
   "outputs": [],
   "source": [
    "!pip install rsa"
   ]
  }
 ],
 "metadata": {
  "kernelspec": {
   "display_name": "Python 3 (ipykernel)",
   "language": "python",
   "name": "python3"
  },
  "language_info": {
   "codemirror_mode": {
    "name": "ipython",
    "version": 3
   },
   "file_extension": ".py",
   "mimetype": "text/x-python",
   "name": "python",
   "nbconvert_exporter": "python",
   "pygments_lexer": "ipython3",
   "version": "3.8.12"
  },
  "widgets": {
   "application/vnd.jupyter.widget-state+json": {
    "state": {},
    "version_major": 2,
    "version_minor": 0
   }
  }
 },
 "nbformat": 4,
 "nbformat_minor": 5
}
