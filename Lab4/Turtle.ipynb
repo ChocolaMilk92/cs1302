{
 "cells": [
  {
   "cell_type": "markdown",
   "id": "d809a4f8-6017-4b95-95cb-2521ce28bc44",
   "metadata": {},
   "source": [
    "# Turtle Graphics (optional)"
   ]
  },
  {
   "cell_type": "markdown",
   "id": "20ad0257-9427-477f-825a-3b093d34e391",
   "metadata": {
    "slideshow": {
     "slide_type": "-"
    },
    "tags": [
     "remove-cell"
    ]
   },
   "source": [
    "**CS1302 Introduction to Computer Programming**\n",
    "___"
   ]
  },
  {
   "cell_type": "markdown",
   "id": "4abfec57-74d3-4e66-a571-51ac71db4f38",
   "metadata": {},
   "source": [
    "In this notebok, we will demonstrate the benefit of code reuse with [`turtle`](https://docs.python.org/3/library/p.t.html), which is a module for drawing graphics."
   ]
  },
  {
   "cell_type": "markdown",
   "id": "53e418a0-8298-427a-a3b6-04795666b873",
   "metadata": {},
   "source": [
    "## Start to move the turtle"
   ]
  },
  {
   "cell_type": "markdown",
   "id": "7d829bce-8edd-4a97-bd0d-78d25040153e",
   "metadata": {},
   "source": [
    "Because Jupyter notebook does not fully support `turtle` (the [`Tkinter` GUI toolkit](https://docs.python.org/3/library/tkinter.html)), we will use `Thonny` under the Linux `Desktop` instead."
   ]
  },
  {
   "cell_type": "markdown",
   "id": "583b5184-e992-4b76-822f-6d1a34271f1c",
   "metadata": {},
   "source": [
    "**How to start a python script in `Thonny`?**"
   ]
  },
  {
   "cell_type": "markdown",
   "id": "118d5e6e-713c-4bcf-8dfb-356205b7313d",
   "metadata": {},
   "source": [
    "- Open a `Desktop` from the Launcher.\n",
    "- Open `Thonny` via `Application->Development->Thonny` from the menu at the top left corner.\n",
    "- Create a new Python script via `File->New`.\n",
    "- Save the file using `File->Save as...` to `cs1302/Lab3b/myscript.py` under your home directory."
   ]
  },
  {
   "cell_type": "markdown",
   "id": "338b1fd5-ef56-41ea-8266-cf331c231cfb",
   "metadata": {},
   "source": [
    "---\n",
    "\n",
    "**Note**\n",
    "\n",
    "- You may also use Xpra on Windows/Mac/Linux, in which case you can run Thonny from the menu item `Start->Applications->Thonny`. For mobile devices or devices with limited memory, `Desktop` is recommended.\n",
    "- A python script ends with the extension `.py`.\n",
    "- `myscript.py` should be placed in the same folder as your Lab3b for the later code to work.\n",
    "\n",
    "---"
   ]
  },
  {
   "cell_type": "markdown",
   "id": "3314b849-c69b-4cac-b624-5e3384a82b0a",
   "metadata": {},
   "source": [
    "**How to move the turtle?**"
   ]
  },
  {
   "cell_type": "markdown",
   "id": "7426b6f7-f1f2-4404-accc-b0248d4c3d54",
   "metadata": {},
   "source": [
    "Type the following in your python script to import a turle and instruct it to move forward `100` steps:\n",
    "\n",
    "```Python\n",
    "import turtle as t\n",
    "\n",
    "t.forward(100)\n",
    "t.exitonclick()\n",
    "```"
   ]
  },
  {
   "cell_type": "markdown",
   "id": "db22dff5-034c-4034-bb6e-f26ead150211",
   "metadata": {},
   "source": [
    "To get the turtle moving, press `F5` or click the green play button in the toolbar:\n",
    "\n",
    "![Forward](images/forward.dio.svg)"
   ]
  },
  {
   "cell_type": "markdown",
   "id": "2e51118d-a0f6-4085-bf2c-4860ce2c0a5a",
   "metadata": {},
   "source": [
    "To exit, simply click on the display window."
   ]
  },
  {
   "cell_type": "markdown",
   "id": "2f841c3a-b22e-42d6-92ed-b6997e297050",
   "metadata": {},
   "source": [
    "## Draw polygons"
   ]
  },
  {
   "cell_type": "markdown",
   "id": "6973e5dc-919d-4e88-8fce-deaa37504cea",
   "metadata": {},
   "source": [
    "**How to have the turtle draw a triangle?**"
   ]
  },
  {
   "cell_type": "markdown",
   "id": "b98dadab-ceed-44a1-acf5-03f4292eca67",
   "metadata": {},
   "source": [
    "The following code draws a red equilateral triangle:"
   ]
  },
  {
   "cell_type": "markdown",
   "id": "77f6b692-957b-424c-bdc2-44e6f4e259d8",
   "metadata": {},
   "source": [
    "```Python\n",
    "t.fillcolor('red')\n",
    "t.begin_fill()\n",
    "                 \n",
    "t.forward(100)\n",
    "t.left(120)\n",
    "t.forward(100)\n",
    "t.left(120)\n",
    "t.forward(100)\n",
    "t.left(120)\n",
    "                 \n",
    "t.end_fill()\n",
    "t.exitonclick()\n",
    "```"
   ]
  },
  {
   "cell_type": "markdown",
   "id": "36828c13-b4e4-49d1-a31a-cbf725cbd9c5",
   "metadata": {},
   "source": [
    "`t.left(120)` rotates the turtle to the left by `120` degrees."
   ]
  },
  {
   "cell_type": "markdown",
   "id": "84b679b3-8473-41f9-91ad-920cc08d2043",
   "metadata": {},
   "source": [
    "**Exercise** (Optional) The code above is quite *repetitive*. Shorten the code using a for loop and run it using your python script."
   ]
  },
  {
   "cell_type": "markdown",
   "id": "44fa4059-b3e8-4440-b513-9a1a89acbbe6",
   "metadata": {},
   "source": [
    "**How to draw a square, a regular pentagon, or even any regular polygon?**"
   ]
  },
  {
   "cell_type": "markdown",
   "id": "944f7b63-1d5b-4acd-bff7-10b23a73bb67",
   "metadata": {},
   "source": [
    "Instead of writing a new script for each polygon, we can write a function:\n",
    "\n",
    "```Python\n",
    "def polygon(n, edge, color):\n",
    "    \"\"\"Draw a colored polygon.\n",
    "\n",
    "    A function using turtle to draw a polygon \n",
    "    with arbitrary color and number of edges.\n",
    "\n",
    "    Parameters\n",
    "    ----------\n",
    "    n: int\n",
    "        number of edges.\n",
    "    edge: int\n",
    "        length of each edge.\n",
    "    color: string\n",
    "        color of the polygon\n",
    "    \"\"\"\n",
    "    ...\n",
    "```"
   ]
  },
  {
   "cell_type": "markdown",
   "id": "3877591c-c091-4517-9947-f2d89a3911d5",
   "metadata": {},
   "source": [
    "**Exercise** (Optional) Complete the function `polygon` and call it to draw a `'blue'` pentagon with length `50`."
   ]
  },
  {
   "cell_type": "markdown",
   "id": "b72839e9-11a3-46e4-93a7-90b5d04cca50",
   "metadata": {},
   "source": [
    "---\n",
    "\n",
    "**Hint**\n",
    "\n",
    "For a $n$-sided polygon, the turtle should turn by an angle of $\\frac{360}{n}$ at each corner of the polygon. E.g., for the equilateral triangle with `n=3`, the turning angle should be $\\frac{360}3=120$.\n",
    "\n",
    "---"
   ]
  },
  {
   "cell_type": "markdown",
   "id": "92165762-4578-4d3f-bb13-d514f3b971d8",
   "metadata": {},
   "source": [
    "## Tesselation"
   ]
  },
  {
   "cell_type": "markdown",
   "id": "0838ade8-c130-463f-b025-e5cbe256001d",
   "metadata": {},
   "source": [
    "**Tessellation problem**"
   ]
  },
  {
   "cell_type": "markdown",
   "id": "bb7d12f8-eb40-44c3-9e49-0dc64b5cb061",
   "metadata": {},
   "source": [
    "[Tessellation](https://en.wikipedia.org/wiki/Tessellation) refers to the problem of using geometric shapes to tile a flat plane. E.g., [rhombitrihexagonal tiling](https://en.wikipedia.org/wiki/Rhombitrihexagonal_tiling) is a beautiful tessellation often used by temples and museums. Each hexagon is surrounded by 6 triangles and 6 squares."
   ]
  },
  {
   "cell_type": "markdown",
   "id": "8417ee75-0e66-4d88-b57d-420dcf5b09d8",
   "metadata": {},
   "source": [
    "<center><figure>\n",
    "<a title=\"Unsplash\" href=\"https://commons.wikimedia.org/wiki/File:Tiling_small_rhombi_3-6_simple.svg\"><img width=\"400\" alt=\"Rhombitrihexagonal tiling\" src=\"https://upload.wikimedia.org/wikipedia/commons/thumb/a/a0/Tiling_small_rhombi_3-6_simple.svg/900px-Tiling_small_rhombi_3-6_simple.svg.png\"></a>\n",
    "  <figcaption>Rhombitrihexagonal tiling</figcaption>\n",
    "</figure>\n",
    "</center>"
   ]
  },
  {
   "cell_type": "markdown",
   "id": "e8b60f5d-5b9b-4d37-98ee-3929bc1fc0a6",
   "metadata": {},
   "source": [
    "The following code draws:\n",
    "\n",
    "![Rhombitrihexagon](images/rhombitrihexagon.dio.svg)\n",
    " \n",
    "``` Python\n",
    "from polygons import *\n",
    "\n",
    "t.speed('fast')\n",
    "edge = 50\n",
    "\n",
    "t.left(180)\n",
    "hexagon(edge, 'red')\n",
    "t.right(180)\n",
    "\n",
    "for _ in range(6):\n",
    "    t.left(30)\n",
    "    triangle(edge, 'yellow')\n",
    "    t.right(90)\n",
    "    square(edge, 'purple')\n",
    "    t.forward(edge)\n",
    "    \n",
    "t.hideturle()\n",
    "t.exitonclick()\n",
    "```"
   ]
  },
  {
   "cell_type": "markdown",
   "id": "66541d81-41cb-4294-93ff-2d683769eea1",
   "metadata": {},
   "source": [
    "---\n",
    "\n",
    "**Tip**\n",
    "\n",
    "- The module `polygons` implements the functions `triangle`, `square`, `hexagon`, as well as the more general function `polygon`.\n",
    "- `t.speed('fast')` speeds up the turle. You can also use `'fastest'`.\n",
    "- `t.hideturtle()` hides the turtle.\n",
    "\n",
    "---"
   ]
  },
  {
   "cell_type": "markdown",
   "id": "ff42a31f-3985-4a5e-9a99-ea2e2e1da847",
   "metadata": {},
   "source": [
    "**Exercise** Modify the above code to draw the following pattern:\n",
    "\n",
    "![Rhombitrihexagons](images/rhombitrihexagons.dio.svg)\n",
    "\n",
    "Challenge yourself making the code as efficient as possible, e.g., by avoiding double drawing."
   ]
  }
 ],
 "metadata": {
  "kernelspec": {
   "display_name": "Python 3 (ipykernel)",
   "language": "python",
   "name": "python3"
  },
  "language_info": {
   "codemirror_mode": {
    "name": "ipython",
    "version": 3
   },
   "file_extension": ".py",
   "mimetype": "text/x-python",
   "name": "python",
   "nbconvert_exporter": "python",
   "pygments_lexer": "ipython3",
   "version": "3.8.8"
  },
  "widgets": {
   "application/vnd.jupyter.widget-state+json": {
    "state": {},
    "version_major": 2,
    "version_minor": 0
   }
  }
 },
 "nbformat": 4,
 "nbformat_minor": 5
}
