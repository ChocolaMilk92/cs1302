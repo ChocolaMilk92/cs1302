{
 "cells": [
  {
   "cell_type": "markdown",
   "id": "dcdabdc2",
   "metadata": {
    "deletable": false,
    "editable": false,
    "nbgrader": {
     "cell_type": "markdown",
     "checksum": "39ab151938c5dde87b44ba94ac791bf2",
     "grade": false,
     "grade_id": "mock-midterm",
     "locked": true,
     "points": 1,
     "schema_version": 3,
     "solution": false,
     "task": true
    }
   },
   "source": [
    "# Mock Midterm"
   ]
  },
  {
   "cell_type": "markdown",
   "id": "2f9e1636-c931-41e0-b367-ba0d3b8140ae",
   "metadata": {
    "slideshow": {
     "slide_type": "-"
    },
    "tags": [
     "remove-cell"
    ]
   },
   "source": [
    "**CS1302 Introduction to Computer Programming**\n",
    "___"
   ]
  },
  {
   "cell_type": "markdown",
   "id": "3ef80375-9795-4a68-8f66-dd81fc310938",
   "metadata": {},
   "source": [
    "To get you prepared for the midterm and final examinations, 1 point of this Lab is allocated to a successful submission of the Mock Midterm using Safe Exam Browser. Ideally, you should try this on a laptop you can bring to the midterm/exam but you will receive the point regardless of what computer you use, and how much you score in the mock midterm. It is unnecessary to delay the Mock Midterm until you have revised the course materials because you can attempt the Mock Midterm many times, unlike the actual midterm."
   ]
  },
  {
   "cell_type": "markdown",
   "id": "1477b39e-69f6-408e-a934-98aa8190e360",
   "metadata": {},
   "source": [
    "Please also read other important information about the Midterm in the Midterm Section regarding the  \n",
    "- midterm date,\n",
    "- midterm venue,\n",
    "- required/optional equipment to bring, and\n",
    "- differences between the Mock Midterm and the actual Midterm."
   ]
  },
  {
   "cell_type": "markdown",
   "id": "fe46a6e6-82a2-47a1-9829-4302cbe2db29",
   "metadata": {},
   "source": [
    "## Install Safe Exam Browser"
   ]
  },
  {
   "cell_type": "markdown",
   "id": "497681a1",
   "metadata": {},
   "source": [
    "Open the course home page using the **usual web browser** such as Chrome. Click the **Mock Midterm** link posted under the Midterm section. You should see the quiz cover page below:"
   ]
  },
  {
   "cell_type": "markdown",
   "id": "d58a7ad0",
   "metadata": {},
   "source": [
    "![png](images_Mock_Midterm/attempt_quiz_by_launching_SEB.png)"
   ]
  },
  {
   "cell_type": "markdown",
   "id": "21969401-3410-43b6-835b-dda88b0fabc1",
   "metadata": {},
   "source": [
    "If you have not installed Safe Exam Browser, click `Download Safe Exam Browser` to download and install the browser on your computer."
   ]
  },
  {
   "cell_type": "markdown",
   "id": "1633a1e4-cb10-4545-a95b-85242e5759b6",
   "metadata": {},
   "source": [
    "After installing Safe Exam Browser, **do not** run it just yet. Instead, open "
   ]
  },
  {
   "cell_type": "markdown",
   "id": "7bdb5378",
   "metadata": {},
   "source": [
    "Instead, access the Mock Midterm again with a **usual** web browser such as Chrome. Click `Launch Safe Exam Browser`. You should see a dialog box similar to the following. If not, try using a recent version of Chrome."
   ]
  },
  {
   "cell_type": "markdown",
   "id": "0ac954f9",
   "metadata": {},
   "source": [
    "![png](images_Mock_Midterm/confirm_launch_SEB.png)"
   ]
  },
  {
   "cell_type": "markdown",
   "id": "83cfcf93",
   "metadata": {},
   "source": [
    "Confirm opening the url to Safe Exam Browser. You should see the login page opened in Safe Exam Browser."
   ]
  },
  {
   "cell_type": "markdown",
   "id": "942fd521",
   "metadata": {},
   "source": [
    "![png](images_Mock_Midterm/login.dio.svg) "
   ]
  },
  {
   "cell_type": "markdown",
   "id": "e949366c-c52d-453f-ac2c-b686269b1bb6",
   "metadata": {},
   "source": [
    "Click `CityU EID Login` and enter your CityU EID and password to login. You will see the midterm cover page again."
   ]
  },
  {
   "cell_type": "markdown",
   "id": "875b6367-6d78-4897-8249-0059b709d4da",
   "metadata": {},
   "source": [
    "## Start Mock Midterm"
   ]
  },
  {
   "cell_type": "markdown",
   "id": "a8c57e01-a93d-47c4-8704-0e866f8f6751",
   "metadata": {},
   "source": [
    "There should be a button `Attempt quiz now` on the midterm cover page."
   ]
  },
  {
   "cell_type": "markdown",
   "id": "1242971b",
   "metadata": {},
   "source": [
    "![png](images_Mock_Midterm/confirm_attempt_quiz.png)"
   ]
  },
  {
   "cell_type": "markdown",
   "id": "43c589fc",
   "metadata": {},
   "source": [
    "Click `Attempt quiz now` and click `Start attempt` to confirm the time limit. You will see all the quiz question numbers listed under `Quiz navigation`."
   ]
  },
  {
   "cell_type": "markdown",
   "id": "9fbf7ad5",
   "metadata": {},
   "source": [
    "![png](images_Mock_Midterm/interface_quiz.png)"
   ]
  },
  {
   "cell_type": "markdown",
   "id": "fa005579-726e-45c1-b796-b324461bd6f6",
   "metadata": {},
   "source": [
    "## Answer questions"
   ]
  },
  {
   "cell_type": "markdown",
   "id": "aeb189c8",
   "metadata": {},
   "source": [
    "You can click the link `online python tutor` to open a python interpreter.\n",
    "- In Safe Exam Browser, you can copy and paste your code to the online python tutor to test run without penalty.\n",
    "- You can switch between the quiz and online python tutor using the menu at the bottom left corner."
   ]
  },
  {
   "cell_type": "markdown",
   "id": "7f096e5f",
   "metadata": {},
   "source": [
    "![png](images_Mock_Midterm/python_tutor.png)"
   ]
  },
  {
   "cell_type": "markdown",
   "id": "0a2e674c",
   "metadata": {},
   "source": [
    "![png](images_Mock_Midterm/switch_to_python_tutor.png)"
   ]
  },
  {
   "cell_type": "markdown",
   "id": "32f73885",
   "metadata": {},
   "source": [
    "You can jump to other questions using `Quiz navigation`. \n",
    "- There can be multiple questions on one page. You can click `Next Page` to go to the next page.\n",
    "- Changing pages is very useful because: \n",
    "  - It saves your current answer so you will not loose them when the browser closes.\n",
    "  - It can reload the contents if they were not properly loaded due to network issues."
   ]
  },
  {
   "cell_type": "markdown",
   "id": "e6756a45",
   "metadata": {},
   "source": [
    "![png](images_Mock_Midterm/check_and_penality.png)"
   ]
  },
  {
   "cell_type": "markdown",
   "id": "78d537fc",
   "metadata": {},
   "source": [
    "- To avoid careless mistakes, you can click `Check` to check your answer. \n",
    "- There is a penalty for incorrect answer. E.g., for MC questions, the penalty depends on the number of answers available to discourage random guessing.\n",
    "- As long as the score does drop to 0 for the question, you can re-attempt it and check your answer again. Not checking your answer before submission can be costly."
   ]
  },
  {
   "cell_type": "markdown",
   "id": "5c427bf4",
   "metadata": {},
   "source": [
    "## Submit answers"
   ]
  },
  {
   "cell_type": "markdown",
   "id": "c5c3dbfb-3306-4b26-bc73-bdc9baae6959",
   "metadata": {},
   "source": [
    "When time is up, the Mock Midterm Quiz will be submitted automatically. "
   ]
  },
  {
   "cell_type": "markdown",
   "id": "0314e39e",
   "metadata": {},
   "source": [
    "If you want to submit earlier, you can click `Finish attempt` either in *Quiz navigation* or at the bottom right of the last page. "
   ]
  },
  {
   "cell_type": "markdown",
   "id": "1618602c",
   "metadata": {},
   "source": [
    "![png](images_Mock_Midterm/finish_attempt.png)\n"
   ]
  },
  {
   "cell_type": "markdown",
   "id": "5aaf7e2a",
   "metadata": {},
   "source": [
    "![png](images_Mock_Midterm/finish_attemp_bottom.png)"
   ]
  },
  {
   "cell_type": "markdown",
   "id": "aff117ca",
   "metadata": {},
   "source": [
    "You can see the summary of your attempt. Click `Submit all and finish` and click again `Submit all and finish` again to confirm. "
   ]
  },
  {
   "cell_type": "markdown",
   "id": "487050fe",
   "metadata": {},
   "source": [
    "![png](images_Mock_Midterm/summary_befor_submission.png)"
   ]
  },
  {
   "cell_type": "markdown",
   "id": "4c158946",
   "metadata": {},
   "source": [
    "![png](images_Mock_Midterm/confirm_submit_finish.png)"
   ]
  },
  {
   "cell_type": "markdown",
   "id": "23f899ef",
   "metadata": {},
   "source": [
    "You will able to review your score once you submitted your attempt. In the actual Midterm/Exam, however, you will not be able to see your score as manual grading and moderation may be necessary."
   ]
  }
 ],
 "metadata": {
  "kernelspec": {
   "display_name": "Python 3 (ipykernel)",
   "language": "python",
   "name": "python3"
  },
  "language_info": {
   "codemirror_mode": {
    "name": "ipython",
    "version": 3
   },
   "file_extension": ".py",
   "mimetype": "text/x-python",
   "name": "python",
   "nbconvert_exporter": "python",
   "pygments_lexer": "ipython3",
   "version": "3.8.8"
  },
  "toc": {
   "base_numbering": 1,
   "nav_menu": {},
   "number_sections": true,
   "sideBar": true,
   "skip_h1_title": false,
   "title_cell": "Table of Contents",
   "title_sidebar": "Contents",
   "toc_cell": false,
   "toc_position": {},
   "toc_section_display": true,
   "toc_window_display": false
  },
  "widgets": {
   "application/vnd.jupyter.widget-state+json": {
    "state": {},
    "version_major": 2,
    "version_minor": 0
   }
  }
 },
 "nbformat": 4,
 "nbformat_minor": 5
}
