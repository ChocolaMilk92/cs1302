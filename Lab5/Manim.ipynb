{
 "cells": [
  {
   "cell_type": "markdown",
   "id": "cb0b29e3-853f-41d7-a92a-8da9190cee5b",
   "metadata": {},
   "source": [
    "# Manim (optional)"
   ]
  },
  {
   "cell_type": "markdown",
   "id": "f139436c-47b0-4212-9e27-66f187f350fa",
   "metadata": {
    "slideshow": {
     "slide_type": "-"
    },
    "tags": [
     "remove-cell"
    ]
   },
   "source": [
    "**CS1302 Introduction to Computer Programming**\n",
    "___"
   ]
  },
  {
   "cell_type": "code",
   "execution_count": null,
   "id": "0ce83125-662e-4697-9dce-599703155a2d",
   "metadata": {},
   "outputs": [],
   "source": [
    "import math\n",
    "\n",
    "from manim import *\n",
    "\n",
    "%reload_ext mytutor"
   ]
  },
  {
   "cell_type": "markdown",
   "id": "32a0853e-d8f0-41a2-88a6-5d40cc9fdc81",
   "metadata": {},
   "source": [
    "[Manim](https://github.com/3b1b/manim) is a powerful **anim**ation engine for **ma**themetics developed by [3Blue1Brown](https://www.youtube.com/channel/UCYO_jab_esuFRV4b17AJtAw). We will use manim to domenstrate how object-oriented programming uses classes and objects to make it create complex animation."
   ]
  },
  {
   "cell_type": "markdown",
   "id": "119ce6a6-a33b-4898-a294-f303b52797ea",
   "metadata": {},
   "source": [
    "## Creating a scene"
   ]
  },
  {
   "cell_type": "markdown",
   "id": "5bedbe4c-94d9-43e6-a318-04a41e253f06",
   "metadata": {},
   "source": [
    "**How to create an animation with `manim`?**"
   ]
  },
  {
   "cell_type": "markdown",
   "id": "4e9d510a-3886-4aea-a973-95e5cddbe647",
   "metadata": {},
   "source": [
    "In jupyter notebook, we can use `%%manim` cell magic:"
   ]
  },
  {
   "cell_type": "code",
   "execution_count": null,
   "id": "93a7476c-7b91-462c-b5e7-77e04f8460cb",
   "metadata": {},
   "outputs": [],
   "source": [
    "%%manim -qm --progress_bar=none --disable_caching --flush_cache -v ERROR HelloWorld\n",
    "class HelloWorld(Scene):\n",
    "    def construct(self):\n",
    "        self.play(Write(Text(\"Hello, World!\")))"
   ]
  },
  {
   "cell_type": "markdown",
   "id": "290a6341-c4fd-4f54-b5ef-515e8eaab8d2",
   "metadata": {},
   "source": [
    "In the line starting with `%%`:\n",
    "- `-qm` is the alias for `--quality=m`, which means the video is rendered in medium quality. Change it to `-ql` (`-qh`) for low (high) quality.\n",
    "- `--progress_bar=none --disable_caching --flush_cache -v ERROR` are [additional configurations](https://docs.manim.community/en/stable/tutorials/configuration.html) to turn off some features. \n",
    "- `HelloWorld` is the class to render, which is defined in the body:\n",
    "    ```Python \n",
    "    class HelloWorld(Scene):\n",
    "        def construct(self):\n",
    "            ...\n",
    "    ```"
   ]
  },
  {
   "cell_type": "markdown",
   "id": "a9d5c926-fa08-489d-9876-1c25ebb5ae1c",
   "metadata": {},
   "source": [
    "**How to define a class?**"
   ]
  },
  {
   "cell_type": "markdown",
   "id": "315c5766-46b2-4fc1-9a21-c9004ea368c0",
   "metadata": {},
   "source": [
    "As a toy example, the following [defines a class](https://docs.python.org/3/tutorial/classes.html?highlight=inheritance#class-definition-syntax) `Pet` and its [subclasses](https://docs.python.org/3/tutorial/classes.html?highlight=inheritance#inheritance) `Cat` and `Dog`:"
   ]
  },
  {
   "cell_type": "code",
   "execution_count": null,
   "id": "c9cf7db0-87aa-4303-9cf9-f7672a30a760",
   "metadata": {},
   "outputs": [],
   "source": [
    "%%mytutor -h 700\n",
    "class Pet:\n",
    "    kind = \"Pet\"\n",
    "\n",
    "    def __init__(self, name):\n",
    "        self.name = name\n",
    "\n",
    "    def __str__(self):\n",
    "        return f\"{self.kind} {self.name}\"\n",
    "\n",
    "\n",
    "class Cat(Pet):\n",
    "    kind = \"Cat\"\n",
    "\n",
    "\n",
    "class Dog(Pet):\n",
    "    kind = \"Dog\"\n",
    "\n",
    "\n",
    "p1 = Pet(\"Alfie\")\n",
    "p2 = Dog(\"Bobbie\")\n",
    "p3, p4 = Cat(\"Bella\"), Cat(\"Kelly\")\n",
    "print(p1, p2, p3, p4, sep=\", \")"
   ]
  },
  {
   "cell_type": "markdown",
   "id": "a2c3060f-2acc-4de2-97d9-6c3fe67b1088",
   "metadata": {},
   "source": [
    "- Each pet has its own `name` but they share `kind` from their class without duplicating it.\n",
    "- Subclasses can reuse (inherit) code from their superclass but produce different results:\n",
    "    - Line 19-21 calls `Pet.__init__` implicitly to create pets with different `name`s.\n",
    "    - Line 22 calls `Pet.__str__` implicitly to return a string containing pets' specific `kind` in addition to its `name`."
   ]
  },
  {
   "cell_type": "markdown",
   "id": "63924bf8-afa7-4d18-b8f3-370b3ce1f536",
   "metadata": {},
   "source": [
    "## Animating an Object"
   ]
  },
  {
   "cell_type": "markdown",
   "id": "7d5f724d-0396-46fe-8bc4-ade5aed63be0",
   "metadata": {},
   "source": [
    "**How to add objects to a `Scene`?**"
   ]
  },
  {
   "cell_type": "markdown",
   "id": "5c8f6e03-acd5-418f-a332-a24f66b8904a",
   "metadata": {},
   "source": [
    "We can create a square and add it to the scene as follows:"
   ]
  },
  {
   "cell_type": "code",
   "execution_count": null,
   "id": "fce8230d-cdac-4118-9b7e-fec699865593",
   "metadata": {},
   "outputs": [],
   "source": [
    "%%manim -qm --progress_bar=none --disable_caching --flush_cache -v ERROR BlueSquare1\n",
    "class BlueSquare1(Scene):\n",
    "    def construct(self):\n",
    "        s = Square(fill_color=BLUE, color=WHITE)\n",
    "        self.add(s)"
   ]
  },
  {
   "cell_type": "markdown",
   "id": "6ae7406c-48d8-4af6-9857-b5f6ba235b8b",
   "metadata": {},
   "source": [
    "- The square object is create using `Square`, `BLUE` and `WHITE` imported from `manim`.\n",
    "- It is then placed to to the scene using `self.add` inherited from `Scene`."
   ]
  },
  {
   "cell_type": "markdown",
   "id": "dfc5361f-3732-47e8-80b9-4b6469d9e797",
   "metadata": {},
   "source": [
    "**How to animate an object?**"
   ]
  },
  {
   "cell_type": "markdown",
   "id": "6b09e952-1e1f-4c1c-8519-84f12f3e5f80",
   "metadata": {},
   "source": [
    "The following shows the creation of a square:"
   ]
  },
  {
   "cell_type": "code",
   "execution_count": null,
   "id": "b713a0ad-c8d0-4d67-ad85-6ac8a8396eeb",
   "metadata": {},
   "outputs": [],
   "source": [
    "%%manim -qm --progress_bar=none --disable_caching --flush_cache -v ERROR BlueSquare2\n",
    "class BlueSquare2(Scene):\n",
    "    def construct(self):\n",
    "        s = Square(color=WHITE, fill_color=BLUE, fill_opacity=0.8)\n",
    "        self.play(Create(s))\n",
    "        self.wait()"
   ]
  },
  {
   "cell_type": "markdown",
   "id": "53b08b3e-d066-49b0-90d3-6fd6dd24bb7b",
   "metadata": {},
   "source": [
    "- `self.play` plays the animation `Create(s)`.\n",
    "- `self.wait()` creates a pause \"animation\"."
   ]
  },
  {
   "cell_type": "markdown",
   "id": "4f4cf521-d6fc-4cfe-8f0b-30c3daa73b76",
   "metadata": {},
   "source": [
    "**How to transform an object?**"
   ]
  },
  {
   "cell_type": "markdown",
   "id": "4b6c9913-3dd2-4036-8eee-fed092be4e20",
   "metadata": {},
   "source": [
    "To scale, move, or rotate the shape:"
   ]
  },
  {
   "cell_type": "code",
   "execution_count": null,
   "id": "6ad1d575-8a04-405f-8814-7431804a3b67",
   "metadata": {},
   "outputs": [],
   "source": [
    "%%manim -qm --progress_bar=none --disable_caching --flush_cache -v ERROR BlueSquare3\n",
    "class BlueSquare3(Scene):\n",
    "    def construct(self):\n",
    "        s = Square(color=WHITE, fill_color=BLUE, fill_opacity=0.8)\n",
    "        self.play(Create(s))\n",
    "        self.play(s.animate.scale(1.5).rotate(PI / 4))\n",
    "        self.play(s.animate.move_to([-3, 0, 0]))\n",
    "        self.play(s.animate.move_to([3, 0, 0]))\n",
    "        self.play(s.animate.scale(0.5).move_to(ORIGIN).rotate(-PI / 4))\n",
    "        self.wait()"
   ]
  },
  {
   "cell_type": "markdown",
   "id": "0a9b3f91-4bdb-4bdd-a396-fd581f28e45d",
   "metadata": {},
   "source": [
    "**Exercise** (Optional) The attribute `s.animate` is an object that provides the methods `scale`, `move_to`, and `rotate`. Note that the methods can be called successively as in `s.animate.scale(0.5).move_to(ORIGIN).rotate(-PI/4)`. Why?"
   ]
  },
  {
   "cell_type": "markdown",
   "id": "38577a3d-a3c7-4a37-829e-80390e41107b",
   "metadata": {},
   "source": [
    "## Animating multiple objects"
   ]
  },
  {
   "cell_type": "markdown",
   "id": "4aa0185a-57c4-48da-8398-7abfd4f08802",
   "metadata": {},
   "source": [
    "**Tessellation with regular polygons**"
   ]
  },
  {
   "cell_type": "markdown",
   "id": "c59729c6-ccd9-458b-998c-401082e9d390",
   "metadata": {},
   "source": [
    "Consider tiling a 12-by-6 plane using squares:"
   ]
  },
  {
   "cell_type": "code",
   "execution_count": null,
   "id": "daa585cb-dd44-43b7-9f33-b2788096e7d0",
   "metadata": {},
   "outputs": [],
   "source": [
    "%%manim -qm --progress_bar=none --disable_caching --flush_cache -v ERROR SquareTiling1\n",
    "class SquareTiling1(Scene):\n",
    "    WIDTH = 12\n",
    "    HEIGHT = 6\n",
    "    EDGE = 1\n",
    "\n",
    "    def construct(self):\n",
    "        plane = Rectangle(width=self.WIDTH, height=self.HEIGHT)\n",
    "        unit = Square(color=WHITE, fill_color=BLUE, fill_opacity=0.8).scale(\n",
    "            self.EDGE / 2\n",
    "        )\n",
    "        self.add(plane, unit)"
   ]
  },
  {
   "cell_type": "markdown",
   "id": "656648ca-8b12-4b4d-a5b4-2a18c4522648",
   "metadata": {},
   "source": [
    "The first line of squares can be animated as follows:"
   ]
  },
  {
   "cell_type": "code",
   "execution_count": null,
   "id": "10a15622-5ac4-4a3a-a00c-132cc5c970e3",
   "metadata": {},
   "outputs": [],
   "source": [
    "%%manim -qm --progress_bar=none --disable_caching --flush_cache -v ERROR SquareTiling2\n",
    "class SquareTiling2(Scene):\n",
    "    WIDTH = 12\n",
    "    HEIGHT = 6\n",
    "    EDGE = 1\n",
    "\n",
    "    def construct(self):\n",
    "\n",
    "        plane = Rectangle(width=self.WIDTH, height=self.HEIGHT)\n",
    "        self.add(plane)\n",
    "\n",
    "        unit = Square(color=WHITE, fill_color=BLUE, fill_opacity=0.8).scale(\n",
    "            self.EDGE / 2\n",
    "        )\n",
    "        self.play(Create(unit))\n",
    "        self.play(\n",
    "            unit.animate.move_to(\n",
    "                [-self.WIDTH / 2 + self.EDGE / 2, self.HEIGHT / 2 - self.EDGE / 2, 0]\n",
    "            )\n",
    "        )\n",
    "\n",
    "        for i in range(1, self.WIDTH // self.EDGE):\n",
    "            self.play(unit.copy().animate.shift([i, 0, 0]), run_time=1 / i)\n",
    "        self.wait()"
   ]
  },
  {
   "cell_type": "markdown",
   "id": "c1f90286-e6f0-400f-a455-4896044cbb08",
   "metadata": {},
   "source": [
    "We can use `VGroup` method to create a group of shapes."
   ]
  },
  {
   "cell_type": "code",
   "execution_count": null,
   "id": "c86069d6-3140-4a21-b0e7-4c7425e030bf",
   "metadata": {},
   "outputs": [],
   "source": [
    "%%manim -qm --progress_bar=none --disable_caching --flush_cache -v ERROR SquareTiling3\n",
    "class SquareTiling3(Scene):\n",
    "    WIDTH = 12\n",
    "    HEIGHT = 6\n",
    "    EDGE = 1\n",
    "\n",
    "    def construct(self):\n",
    "\n",
    "        plane = Rectangle(width=self.WIDTH, height=self.HEIGHT)\n",
    "        self.add(plane)\n",
    "\n",
    "        unit = Square(color=WHITE, fill_color=BLUE, fill_opacity=0.8).scale(\n",
    "            self.EDGE / 2\n",
    "        )\n",
    "        self.play(Create(unit))\n",
    "        self.play(\n",
    "            unit.animate.move_to(\n",
    "                [-self.WIDTH / 2 + self.EDGE / 2, self.HEIGHT / 2 - self.EDGE / 2, 0]\n",
    "            )\n",
    "        )\n",
    "\n",
    "        for i in range(1, math.floor(self.WIDTH / self.EDGE)):\n",
    "            self.play(unit.copy().animate.shift([i * self.EDGE, 0, 0]), run_time=1 / i)\n",
    "\n",
    "        line = VGroup(\n",
    "            *[\n",
    "                unit.copy().shift([i * self.EDGE, 0, 0])\n",
    "                for i in range(math.floor(self.WIDTH / self.EDGE))\n",
    "            ]\n",
    "        )\n",
    "        for i in range(1, math.floor(self.HEIGHT / self.EDGE)):\n",
    "            self.play(line.copy().animate.shift([0, -i * self.EDGE, 0]), run_time=1 / i)\n",
    "\n",
    "        self.wait()"
   ]
  },
  {
   "cell_type": "markdown",
   "id": "02df2ac5-0832-4c1c-be19-e8edb789a9a8",
   "metadata": {},
   "source": [
    "**Exercise** (Optional) Use manim to show the other two ways of tiling with regular polygons (triangle and hexagon). (see [tiling with regular polygons](https://en.wikipedia.org/wiki/Euclidean_tilings_by_convex_regular_polygons))"
   ]
  }
 ],
 "metadata": {
  "kernelspec": {
   "display_name": "Python 3 (ipykernel)",
   "language": "python",
   "name": "python3"
  },
  "language_info": {
   "codemirror_mode": {
    "name": "ipython",
    "version": 3
   },
   "file_extension": ".py",
   "mimetype": "text/x-python",
   "name": "python",
   "nbconvert_exporter": "python",
   "pygments_lexer": "ipython3",
   "version": "3.8.12"
  },
  "widgets": {
   "application/vnd.jupyter.widget-state+json": {
    "state": {},
    "version_major": 2,
    "version_minor": 0
   }
  }
 },
 "nbformat": 4,
 "nbformat_minor": 5
}
