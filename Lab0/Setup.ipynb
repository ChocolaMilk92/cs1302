{
 "cells": [
  {
   "cell_type": "markdown",
   "metadata": {
    "slideshow": {
     "slide_type": "slide"
    }
   },
   "source": [
    "# Setup\n",
    "CS1302 Introduction to Computer Programming\n",
    "___"
   ]
  },
  {
   "cell_type": "markdown",
   "metadata": {
    "slideshow": {
     "slide_type": "slide"
    }
   },
   "source": [
    "## JupyterHub"
   ]
  },
  {
   "cell_type": "markdown",
   "metadata": {
    "slideshow": {
     "slide_type": "subslide"
    }
   },
   "source": [
    "### How to access the JupyterHub server?"
   ]
  },
  {
   "cell_type": "markdown",
   "metadata": {
    "deletable": false,
    "editable": false,
    "nbgrader": {
     "cell_type": "markdown",
     "checksum": "df81959ce18e16f1a3807b3bf33f6666",
     "grade": false,
     "grade_id": "Login",
     "locked": true,
     "schema_version": 3,
     "solution": false,
     "task": false
    },
    "slideshow": {
     "slide_type": "fragment"
    }
   },
   "source": [
    "1. Enter the url of the Jupyterhub server [divedeep.cs.cityu.edu.hk](https://divedeep.cs.cityu.edu.hk) in a web browser.\n",
    "2. Enter your [EID](https://www.cityu.edu.hk/esu/eid.htm) and Password in the fields `Username` and `Password` respectively.\n",
    "3. Click the `Sign in` button.\n",
    "\n",
    "![log in](images/login.dio.svg)"
   ]
  },
  {
   "cell_type": "markdown",
   "metadata": {},
   "source": [
    "4. Choose `CS1302` as the server option and click `Start`.  \n",
    "  N.b., `Minimal` is only for trouble-shooting and is insufficient for running the course materials.\n",
    "\n",
    "![server options](images/serveroptions.dio.svg)"
   ]
  },
  {
   "cell_type": "markdown",
   "metadata": {},
   "source": [
    "5. The JupyterLab interface should appear.\n",
    "\n",
    "![jupyterlab](images/jupyterlab.dio.svg) "
   ]
  },
  {
   "cell_type": "markdown",
   "metadata": {},
   "source": [
    "  - In case or error, you can restart your server using the `Hub Control Panel` under the `File` menu (shown above) or visit:  \n",
    "    https://divedeep.cs.cityu.edu.hk/hub/home  \n",
    "    You can also refresh the page, re-login, or clear your browser cache to reset your browser.\n",
    "  - To submit homework assignment, you will need to `Launch Classic Notebook` interface under the `Help` menu (shown above) or visit:  \n",
    "    https://divedeep.cs.cityu.edu.hk/user-redirect/tree  \n",
    "    or replace `lab` in your browser url (illustrated above in yellow) by `tree` can press `Enter`.  "
   ]
  },
  {
   "cell_type": "markdown",
   "metadata": {
    "slideshow": {
     "slide_type": "slide"
    }
   },
   "source": [
    "## Jupyter Notebook"
   ]
  },
  {
   "cell_type": "markdown",
   "metadata": {
    "slideshow": {
     "slide_type": "slide"
    }
   },
   "source": [
    "### How to access course materials?"
   ]
  },
  {
   "cell_type": "markdown",
   "metadata": {},
   "source": [
    "You can click on the individual links to the lecture/lab notebooks on the [course homepage](https://canvas.cityu.edu.hk/courses/42868) or visit  \n",
    "https://divedeep.cs.cityu.edu.hk/user-redirect/git-pull?repo=https%3A%2F%2Fgithub.com%2Fccha23%2Fcs1302&urlpath=lab%2Ftree%2F%2Fcs1302%2F&branch=main \n"
   ]
  },
  {
   "cell_type": "markdown",
   "metadata": {},
   "source": [
    "The links all go to the JupyterHub server and [*git-pull*](https://git-scm.com/docs/git-pull) the released notebooks to the `cs1302` folder under your home directory."
   ]
  },
  {
   "cell_type": "markdown",
   "metadata": {
    "slideshow": {
     "slide_type": "subslide"
    }
   },
   "source": [
    "### How to complete a lab assignment?"
   ]
  },
  {
   "cell_type": "markdown",
   "metadata": {},
   "source": [
    "After opening a notebook:"
   ]
  },
  {
   "cell_type": "markdown",
   "metadata": {
    "slideshow": {
     "slide_type": "fragment"
    }
   },
   "source": [
    "1. Click `Help->Welcome Tour` to learn the JupyterLab interface. \n",
    "1. Click `Help->Notebook Tour` to learn about the jupyter notebook."
   ]
  },
  {
   "cell_type": "markdown",
   "metadata": {
    "deletable": false,
    "editable": false,
    "nbgrader": {
     "cell_type": "markdown",
     "checksum": "2aac820c2b2cf325387b49f0fcc5b1c9",
     "grade": false,
     "grade_id": "qHelloWorld",
     "locked": true,
     "schema_version": 3,
     "solution": false,
     "task": false
    },
    "slideshow": {
     "slide_type": "fragment"
    }
   },
   "source": [
    "**Exercise** In learning a new programming language, the first program to write is often the [\"Hello, World!\"](https://en.wikipedia.org/wiki/%22Hello,_World!%22_program) program, which says Hello to the world. Type the program `print('Hello, World!')` below and run it with `Shift+Enter`."
   ]
  },
  {
   "cell_type": "code",
   "execution_count": null,
   "metadata": {
    "ExecuteTime": {
     "end_time": "2021-03-17T06:00:02.425532Z",
     "start_time": "2021-03-17T06:00:02.424161Z"
    },
    "code_folding": [],
    "deletable": false,
    "nbgrader": {
     "cell_type": "code",
     "checksum": "351047d00fd4cc7f037ee2059d332b39",
     "grade": false,
     "grade_id": "helloworld",
     "locked": false,
     "schema_version": 3,
     "solution": true,
     "task": false
    },
    "slideshow": {
     "slide_type": "-"
    }
   },
   "outputs": [],
   "source": [
    "# YOUR CODE HERE\n",
    "raise NotImplementedError()"
   ]
  },
  {
   "cell_type": "markdown",
   "metadata": {
    "slideshow": {
     "slide_type": "subslide"
    }
   },
   "source": [
    "We often ask you to write a code in a particular cell. Make sure you fill in any place that says `YOUR CODE HERE` or \"YOUR ANSWER HERE\"."
   ]
  },
  {
   "cell_type": "markdown",
   "metadata": {
    "slideshow": {
     "slide_type": "fragment"
    }
   },
   "source": [
    "In order to check your work thoroughly, there will visible and hidden test cases. The following is a visible test you can run to check your answer: The test returns an assertion error only if your program does not print the correct message."
   ]
  },
  {
   "cell_type": "code",
   "execution_count": null,
   "metadata": {
    "ExecuteTime": {
     "end_time": "2021-03-17T06:00:04.549522Z",
     "start_time": "2021-03-17T06:00:04.495543Z"
    },
    "deletable": false,
    "editable": false,
    "nbgrader": {
     "cell_type": "code",
     "checksum": "8d133e212f2f75082893e2a24806215f",
     "grade": true,
     "grade_id": "test-helloworld",
     "locked": true,
     "points": 1,
     "schema_version": 3,
     "solution": false,
     "task": false
    },
    "slideshow": {
     "slide_type": "-"
    }
   },
   "outputs": [],
   "source": [
    "# Run this test cell right after running your \"Hello, World!\" program.\n",
    "import sys, io\n",
    "old_stdout, sys.stdout = sys.stdout, io.StringIO()\n",
    "exec(In[-2])\n",
    "printed = sys.stdout.getvalue()\n",
    "sys.stdout = old_stdout\n",
    "assert printed == 'Hello, World!\\n'"
   ]
  },
  {
   "cell_type": "markdown",
   "metadata": {
    "slideshow": {
     "slide_type": "subslide"
    }
   },
   "source": [
    "**Tips**\n",
    "1. You can repeatedly modify your solution and run the test cell until your solution passes the test. You are not required to know how the test cell is written. \n",
    "1. To assess your solution thoroughly, we often run new tests hidden from you after you have submitted your notebook. There is no partial credit for a partially correct solution that works for the visible test but fails for the hidden test. Therefore, *you should ensure your solution works in general rather than just the visible tests*.\n",
    "1. If you open the same notebook multiple times in different browser windows, be careful in making changes in different windows. Inconsistent changes may lead to conflicts or loss of your data.\n",
    "1. If your notebook fails to run any code, the Kernel might have died. You can restart the kernel with `Kernel->Restart`. If restarting fails, check your code cells to see if there is any code that breaks the kernel."
   ]
  },
  {
   "cell_type": "markdown",
   "metadata": {
    "slideshow": {
     "slide_type": "slide"
    }
   },
   "source": [
    "### How to submit a notebook"
   ]
  },
  {
   "cell_type": "markdown",
   "metadata": {
    "deletable": false,
    "editable": false,
    "nbgrader": {
     "cell_type": "markdown",
     "checksum": "71ee326cae707b8f0fb49fea34ebf344",
     "grade": false,
     "grade_id": "Check",
     "locked": true,
     "schema_version": 3,
     "solution": false,
     "task": false
    },
    "slideshow": {
     "slide_type": "fragment"
    }
   },
   "source": [
    "- Although the first Lab does not count towards your final grade, you are required to submit it, to get familiar with the procedure.\n",
    "- Before you submit, make sure everything runs as expected:\n",
    "    1. **Restart the kernel**: `Kernel->Restart Kernel...` \n",
    "    1. **run all cells**: `Run->Run All Cells`"
   ]
  },
  {
   "cell_type": "markdown",
   "metadata": {
    "deletable": false,
    "editable": false,
    "nbgrader": {
     "cell_type": "markdown",
     "checksum": "59d07c2b1bbf591324a1f7b0fa0bfa9e",
     "grade": false,
     "grade_id": "Submit",
     "locked": true,
     "schema_version": 3,
     "solution": false,
     "task": false
    },
    "slideshow": {
     "slide_type": "fragment"
    }
   },
   "source": [
    "To submit your notebook:\n",
    "1. Start the classic notebook interface by choosing `Help->Launch Classic Notebook`.\n",
    "1. Go to `Assignment` tab of JupyterHub where you fetched the Lab assignment. \n",
    "1. Expand the Lab folder and click the `validate` button next to the notebook(s) to check if all the visible tests pass.\n",
    "1. Click `Submit` to submit your notebook. \n",
    "1. You may submit as many times as you wish before the due date as we collect your latest submission for grading. \n",
    "    - *No late submission* will be collected without valid justifications.\n",
    "    - *Double check* that you have submitted the correct Lab assignment.\n",
    "    - You are responsible for *recording your submission attempt* with a valid timestamp in case of technical issues."
   ]
  },
  {
   "cell_type": "markdown",
   "metadata": {
    "slideshow": {
     "slide_type": "fragment"
    }
   },
   "source": [
    "**Tips**\n",
    "1. You normally have at least 5 days to work on the lab after your lab session. \n",
    "1. You can check the due dates of all the labs from the course homepage. \n",
    "1. You may seek help from us or your classmates. However, you must write your own solution and indicate who your collaborators are using the code:"
   ]
  },
  {
   "cell_type": "code",
   "execution_count": null,
   "metadata": {
    "ExecuteTime": {
     "end_time": "2021-03-16T15:30:24.494919Z",
     "start_time": "2021-03-16T15:30:24.494298Z"
    }
   },
   "outputs": [],
   "source": [
    "COLLABORATORS = ['WONG Xiu Fong', 'LEE Man Kit']"
   ]
  }
 ],
 "metadata": {
  "kernelspec": {
   "display_name": "Python 3.8 (XPython)",
   "language": "python",
   "name": "xpython"
  },
  "language_info": {
   "file_extension": ".py",
   "mimetype": "text/x-python",
   "name": "python",
   "version": "3.8.10"
  },
  "latex_envs": {
   "LaTeX_envs_menu_present": true,
   "autoclose": false,
   "autocomplete": true,
   "bibliofile": "biblio.bib",
   "cite_by": "apalike",
   "current_citInitial": 1,
   "eqLabelWithNumbers": true,
   "eqNumInitial": 1,
   "hotkeys": {
    "equation": "Ctrl-E",
    "itemize": "Ctrl-I"
   },
   "labels_anchors": false,
   "latex_user_defs": false,
   "report_style_numbering": false,
   "user_envs_cfg": false
  },
  "toc": {
   "base_numbering": 1,
   "nav_menu": {},
   "number_sections": true,
   "sideBar": true,
   "skip_h1_title": true,
   "title_cell": "Table of Contents",
   "title_sidebar": "Contents",
   "toc_cell": false,
   "toc_position": {
    "height": "calc(100% - 180px)",
    "left": "10px",
    "top": "150px",
    "width": "283.396px"
   },
   "toc_section_display": true,
   "toc_window_display": false
  }
 },
 "nbformat": 4,
 "nbformat_minor": 4
}
