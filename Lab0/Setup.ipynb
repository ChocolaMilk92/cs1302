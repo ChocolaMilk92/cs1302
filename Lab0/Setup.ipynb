{
 "cells": [
  {
   "cell_type": "markdown",
   "metadata": {
    "slideshow": {
     "slide_type": "slide"
    }
   },
   "source": [
    "# Setup"
   ]
  },
  {
   "cell_type": "markdown",
   "metadata": {
    "tags": [
     "remove-cell"
    ]
   },
   "source": [
    "CS1302 Introduction to Computer Programming\n",
    "___"
   ]
  },
  {
   "cell_type": "markdown",
   "metadata": {
    "slideshow": {
     "slide_type": "slide"
    }
   },
   "source": [
    "## JupyterHub"
   ]
  },
  {
   "cell_type": "markdown",
   "metadata": {
    "slideshow": {
     "slide_type": "subslide"
    }
   },
   "source": [
    "### How to access the JupyterHub server?"
   ]
  },
  {
   "cell_type": "markdown",
   "metadata": {
    "slideshow": {
     "slide_type": "fragment"
    }
   },
   "source": [
    "- Enter the url of the Jupyterhub server [divedeep.cs.cityu.edu.hk](https://divedeep.cs.cityu.edu.hk) in a web browser.\n",
    "- Enter your [EID](https://www.cityu.edu.hk/esu/eid.htm) and Password in the fields `Username` and `Password` respectively.\n",
    "- Click the `Sign in` button.  \n",
    "\n",
    "![log in](images/login.dio.svg)"
   ]
  },
  {
   "cell_type": "markdown",
   "metadata": {
    "slideshow": {
     "slide_type": "subslide"
    }
   },
   "source": [
    "- Choose `CS1302` as the server option and click `Start`.  \n",
    "\n",
    "![server options](images/serveroptions.dio.svg)"
   ]
  },
  {
   "cell_type": "markdown",
   "metadata": {},
   "source": [
    "---\n",
    "\n",
    "**Note**\n",
    "\n",
    "`Minimal` is only for trouble-shooting and is insufficient for running the course materials. If you accidentally choose it, you can restart your server after entering the JupyterLab interface as described below.\n",
    "\n",
    "---"
   ]
  },
  {
   "cell_type": "markdown",
   "metadata": {
    "slideshow": {
     "slide_type": "subslide"
    }
   },
   "source": [
    "- The JupyterLab interface should appear.  \n",
    "\n",
    "![jupyterlab](images/jupyterlab.dio.svg) "
   ]
  },
  {
   "cell_type": "markdown",
   "metadata": {
    "slideshow": {
     "slide_type": "fragment"
    }
   },
   "source": [
    "---\n",
    "\n",
    "**Note**\n",
    "\n",
    "To submit homework assignments, you will need to use a different interface:\n",
    "\n",
    "- `Help`$\\to$`Launch Classic Notebook` will open the classic notebook interface, which is needed for submitting lab assignments. You may also\n",
    "  - visit https://divedeep.cs.cityu.edu.hk/user-redirect/tree or \n",
    "  - replace `lab` in your browser url (indicated above in yellow) by `tree` can press `Enter`.\n",
    "    \n",
    "---"
   ]
  },
  {
   "cell_type": "markdown",
   "metadata": {},
   "source": [
    "---\n",
    "\n",
    "**Tip**\n",
    "\n",
    "**How to troubleshoot in case or error?**\n",
    "\n",
    "- Refresh the page, re-login, or clear your browser cache to reset your browser.\n",
    "- Restart your server using the `Hub Control Panel` under the `File` menu (shown above) or visit the hub home  \n",
    "  https://divedeep.cs.cityu.edu.hk/hub/home  \n",
    "  and click `Stop My Server` and then `Start My Server`.  \n",
    "  ![Restart my server](images/restart.dio.svg)\n",
    "- Contact your instructor using the contact information on the [course homepage](https://canvas.cityu.edu.hk/courses/42868).\n",
    "\n",
    "---"
   ]
  },
  {
   "cell_type": "markdown",
   "metadata": {
    "slideshow": {
     "slide_type": "slide"
    }
   },
   "source": [
    "## Jupyter Notebook"
   ]
  },
  {
   "cell_type": "markdown",
   "metadata": {
    "slideshow": {
     "slide_type": "slide"
    }
   },
   "source": [
    "### How to access course materials?"
   ]
  },
  {
   "cell_type": "markdown",
   "metadata": {
    "slideshow": {
     "slide_type": "fragment"
    },
    "tags": []
   },
   "source": [
    "The recommended way is to follow the links to the lecture/lab notebooks on the \n",
    "[course homepage](https://canvas.cityu.edu.hk/courses/42868).\n",
    "\n",
    "![course homepage](images/canvas.dio.svg)"
   ]
  },
  {
   "cell_type": "markdown",
   "metadata": {},
   "source": [
    "The released notebooks are also compiled into an ebook:\n",
    "\n",
    "https://www.cs.cityu.edu.hk/~ccha23/cs1302book\n",
    "\n",
    "which allows you to \n",
    "- preview the notebooks conveniently as webpages,\n",
    "- download the notebooks in PDF or ipynb formats, and\n",
    "- open the notebook on the jupyterhub server."
   ]
  },
  {
   "cell_type": "markdown",
   "metadata": {
    "slideshow": {
     "slide_type": "fragment"
    },
    "tags": []
   },
   "source": [
    "---\n",
    "\n",
    "**Important**\n",
    "\n",
    "It is important to open the notebooks using the links on the course homepage as it \n",
    "- [git-pull](https://git-scm.com/docs/git-pull) updates/corrections to the notebooks and \n",
    "- merge them with the notebooks stored under `cs1302` folder in your home directory but\n",
    "- without overwriting your changes.\n",
    "\n",
    "If you open the notebook directly on JupyterHub instead of following the git-pull link, updates will not be pulled, and your notebook may fail to have the updates needed for submission.\n",
    "\n",
    "If you are interested in how [`nbgitpuller`](https://jupyterhub.github.io/nbgitpuller/index.html) works, the following is an example of a git-pull link:\n",
    "\n",
    "[$\n",
    "\\begin{alignat*}{2}\n",
    "&\\text{https://divedeep.cs.cityu.edu.hk/hub/user-redirect/git-pull?} &\\quad&\\leftarrow \\text{send request to nbgitpuller app}\\\\\n",
    "&\\text{repo=https://github.com/ccha23/cs1302\\&} &&\\leftarrow \\text{pull from the repository}\\\\\n",
    "&\\text{urlpath=lab/tree/cs1302/release/Lab0/Setup.ipynb} &&\\leftarrow \\text{follow the path to open the file}\n",
    "\\end{alignat*}\n",
    "$](https://divedeep.cs.cityu.edu.hk/hub/user-redirect/git-pull?repo=https%3A%2F%2Fgithub.com%2Fccha23%2Fcs1302&urlpath=lab%2Ftree%2Fcs1302%2FLab0%2FSetup.ipynb)\n",
    "\n",
    "---"
   ]
  },
  {
   "cell_type": "markdown",
   "metadata": {
    "slideshow": {
     "slide_type": "subslide"
    }
   },
   "source": [
    "### How to complete a lab assignment?"
   ]
  },
  {
   "cell_type": "markdown",
   "metadata": {
    "slideshow": {
     "slide_type": "fragment"
    }
   },
   "source": [
    "Learn how to edit a notebook:"
   ]
  },
  {
   "cell_type": "markdown",
   "metadata": {
    "slideshow": {
     "slide_type": "-"
    }
   },
   "source": [
    "1. Click `Help`$\\to$ `Welcome Tour` to learn the JupyterLab interface.  \n",
    "2. Click `Help`$\\to$ `Notebook Tour` to learn about the jupyter notebook.\n",
    "3. Watch the official [video tutorial](https://youtu.be/A5YyoCKxEOU) to JupyterLab."
   ]
  },
  {
   "cell_type": "markdown",
   "metadata": {
    "deletable": false,
    "editable": false,
    "nbgrader": {
     "cell_type": "markdown",
     "checksum": "dc44e2a01651e3ca511fdd4ee934144e",
     "grade": false,
     "grade_id": "qHelloWorld",
     "locked": true,
     "schema_version": 3,
     "solution": false,
     "task": false
    },
    "slideshow": {
     "slide_type": "subslide"
    }
   },
   "source": [
    "**Exercise** \n",
    "\n",
    "In learning a new programming language, the first program to write is often the [\"Hello, World!\"](https://en.wikipedia.org/wiki/%22Hello,_World!%22_program) program, which says Hello to the world.  \n",
    "\n",
    "Type the program below and run it with `Shift+Enter`. Use tab or 4 spaces to indent.\n",
    "\n",
    "![Hello world program](images/hello.dio.svg) "
   ]
  },
  {
   "cell_type": "code",
   "execution_count": null,
   "metadata": {
    "ExecuteTime": {
     "end_time": "2021-03-17T06:00:02.425532Z",
     "start_time": "2021-03-17T06:00:02.424161Z"
    },
    "code_folding": [],
    "deletable": false,
    "nbgrader": {
     "cell_type": "code",
     "checksum": "3b4449a7fd39c719b8d9d63b8101820c",
     "grade": false,
     "grade_id": "helloworld",
     "locked": false,
     "schema_version": 3,
     "solution": true,
     "task": false
    },
    "slideshow": {
     "slide_type": "-"
    },
    "tags": [
     "remove-output"
    ]
   },
   "outputs": [],
   "source": [
    "def say_hello():\n",
    "    # YOUR CODE HERE\n",
    "    raise NotImplementedError()\n",
    "    \n",
    "say_hello()"
   ]
  },
  {
   "cell_type": "markdown",
   "metadata": {
    "slideshow": {
     "slide_type": "subslide"
    }
   },
   "source": [
    "---\n",
    "\n",
    "**Attention**\n",
    "\n",
    "We often ask you to write your answer/code in a special cells with *unique but hidden id number*. \n",
    "- Make sure you provide your answers only to the answer cells that says `YOUR CODE HERE` or \"YOUR ANSWER HERE\". \n",
    "- For coding exercises, you should also remove `raise NotImplementedError()`.\n",
    "- Do not clone or duplicate the answer cells.\n",
    "\n",
    "---"
   ]
  },
  {
   "cell_type": "markdown",
   "metadata": {
    "slideshow": {
     "slide_type": "fragment"
    }
   },
   "source": [
    "In order to check your work thoroughly, there will be both *visible* and *hidden* test cases. The following is a visible test you can run to check your answer:"
   ]
  },
  {
   "cell_type": "code",
   "execution_count": null,
   "metadata": {
    "ExecuteTime": {
     "end_time": "2021-03-17T06:00:04.549522Z",
     "start_time": "2021-03-17T06:00:04.495543Z"
    },
    "deletable": false,
    "editable": false,
    "nbgrader": {
     "cell_type": "code",
     "checksum": "4068a56e65aec0123a06748ff5b6586b",
     "grade": true,
     "grade_id": "test-helloworld",
     "locked": true,
     "points": 1,
     "schema_version": 3,
     "solution": false,
     "task": false
    },
    "slideshow": {
     "slide_type": "-"
    },
    "tags": [
     "remove-output"
    ]
   },
   "outputs": [],
   "source": [
    "# Run this test cell right after running your \"Hello, World!\" program.\n",
    "import io\n",
    "import sys\n",
    "\n",
    "old_stdout, sys.stdout = sys.stdout, io.StringIO()\n",
    "say_hello()\n",
    "printed = sys.stdout.getvalue()\n",
    "sys.stdout = old_stdout\n",
    "assert printed == \"Hello, World!\\n\""
   ]
  },
  {
   "cell_type": "markdown",
   "metadata": {},
   "source": [
    "The test returns an assertion error only if your program does not print the correct message."
   ]
  },
  {
   "cell_type": "markdown",
   "metadata": {
    "slideshow": {
     "slide_type": "subslide"
    }
   },
   "source": [
    "---\n",
    "\n",
    "**Tip**\n",
    "\n",
    "1. You can repeatedly modify your solution and run the test cell until your solution passes the test. There is no mark penalty in failing the test before submission. \n",
    "1. The test cell often uses more tools that what you might have learned. You are not required to know how to write the test cell but you should try to understand the error messages from a failed test.\n",
    "1. To assess your solution thoroughly, we will run new tests hidden from you after you have submitted your notebook. There is no partial credit for a partially correct solution that works for the visible test but fails for the hidden test. Therefore, *you should ensure your solution works in general rather than just the visible tests*.\n",
    "1. If you open the same notebook multiple times in different browser windows, be careful in making changes in different windows as you may overwrite your own changes.\n",
    "1. If your notebook fails to run any code, the Kernel might have died. You can restart the kernel with `Kernel`$\\to$ `Restart`. If restarting fails, check your code cells to see if there is any code that breaks the kernel.\n",
    "\n",
    "---"
   ]
  },
  {
   "cell_type": "markdown",
   "metadata": {
    "slideshow": {
     "slide_type": "slide"
    }
   },
   "source": [
    "### How to submit a notebook"
   ]
  },
  {
   "cell_type": "markdown",
   "metadata": {},
   "source": [
    "Lecture notebooks under the subfolders `Lecture*\\` need NOT be submitted. You only need to submit the lab notebooks under `Lab*\\`. Although the first Lab (`Lab0`) does not count towards your final grade, you should still submit it, to get familiar with the procedure."
   ]
  },
  {
   "cell_type": "markdown",
   "metadata": {
    "deletable": false,
    "editable": false,
    "nbgrader": {
     "cell_type": "markdown",
     "checksum": "9230f9b186537bd8d09950210594b938",
     "grade": false,
     "grade_id": "Check",
     "locked": true,
     "schema_version": 3,
     "solution": false,
     "task": false
    },
    "slideshow": {
     "slide_type": "fragment"
    }
   },
   "source": [
    "---\n",
    "\n",
    "**Attention**\n",
    "\n",
    "Before you submit, make sure everything runs as expected:\n",
    "\n",
    "1. **Git-pull the notebooks**: Follow any one of the link on the course homepage to a notebook, which will git-pull any updates/corrections to (all) your notebooks.\n",
    "1. **Restart the kernel**: `Kernel`$\\to$ `Restart Kernel...` \n",
    "1. **run all cells**: `Run`$\\to$ `Run All Cells`\n",
    "\n",
    "You may submit as many times as you wish before the due date as we collect your latest submission for grading. \n",
    "- *No late submission* will be collected without valid justifications.\n",
    "- *Double check* that you have submitted the correct Lab assignment.\n",
    "- You are responsible for *recording your submission attempt* with a valid timestamp in case of technical issues.\n",
    "\n",
    "---"
   ]
  },
  {
   "cell_type": "markdown",
   "metadata": {
    "slideshow": {
     "slide_type": "subslide"
    }
   },
   "source": [
    "To submit your notebook:\n",
    "\n",
    "1. Start the classic notebook interface by choosing `Help`$\\to$ `Launch Classic Notebook`.\n",
    "1. Go to the `Assignment` tab. \n",
    "1. Expand the Lab folder and click the `validate` button next to the notebook(s) to check if all the visible tests pass.\n",
    "1. Click `Submit` to submit your notebook."
   ]
  },
  {
   "cell_type": "markdown",
   "metadata": {},
   "source": [
    "---\n",
    "\n",
    "**Important**\n",
    "\n",
    "Auto-grading often **FAILs** (after submission) if:\n",
    "\n",
    "1. The notebook files are renamed, e.g., `Setup.ipynb` changed/copied to `Setup (Copy).ipynb`, or converted to a python script `Setup.py`.\n",
    "2. An html file exists with the same name as a notebook, e.g., `Setup.html` is the default grading feedback file to be generated when grading `Setup.ipynb`.\n",
    "3. The file size is too large, e.g, over `100MB`.\n",
    "4. The notebook is obtained from or shared with another student.\n",
    "\n",
    "---"
   ]
  },
  {
   "cell_type": "markdown",
   "metadata": {
    "slideshow": {
     "slide_type": "subslide"
    }
   },
   "source": [
    "---\n",
    "\n",
    "**Note**\n",
    "\n",
    "You normally have at least 5 days to work on the lab after your lab session. \n",
    "\n",
    "1. You can check the due dates of all the labs from the course homepage. \n",
    "1. You may seek help from us or your classmates. However, you must write your own solution and indicate who your collaborators are by including their EIDs in a code cell:  \n",
    "    ```Python\n",
    "    COLLABORATORS = [\"xfwong2\", \"mklee3\"]\n",
    "    ```\n",
    "---"
   ]
  },
  {
   "cell_type": "markdown",
   "metadata": {
    "slideshow": {
     "slide_type": "fragment"
    }
   },
   "source": [
    "---\n",
    "\n",
    "**Tip**\n",
    "\n",
    "In case of error: \n",
    "\n",
    "1. Download/backup your existing notebooks,\n",
    "2. remove them from the `Lab*` folder,\n",
    "3. click the git-pull links from the course homepage to re-pull the notebooks, and\n",
    "4. copy your solutions to the new notebooks.\n",
    "\n",
    "---"
   ]
  },
  {
   "cell_type": "markdown",
   "metadata": {
    "slideshow": {
     "slide_type": "slide"
    },
    "tags": []
   },
   "source": [
    "## Running notebook outside Jupyterhub (Optional)"
   ]
  },
  {
   "cell_type": "markdown",
   "metadata": {},
   "source": [
    "You may also run the course notebooks outside the jupyterhub server and locally on your computer. For details, see the github repo:  \n",
    "https://github.com/ccha23/cs1302jupyter"
   ]
  },
  {
   "cell_type": "markdown",
   "metadata": {},
   "source": [
    "To submit the assignment, however, you still need to use the jupyterhub server. "
   ]
  }
 ],
 "metadata": {
  "kernelspec": {
   "display_name": "Python 3 (ipykernel)",
   "language": "python",
   "name": "python3"
  },
  "language_info": {
   "codemirror_mode": {
    "name": "ipython",
    "version": 3
   },
   "file_extension": ".py",
   "mimetype": "text/x-python",
   "name": "python",
   "nbconvert_exporter": "python",
   "pygments_lexer": "ipython3",
   "version": "3.8.8"
  },
  "rise": {
   "scroll": true
  },
  "toc": {
   "base_numbering": 1,
   "nav_menu": {},
   "number_sections": true,
   "sideBar": true,
   "skip_h1_title": true,
   "title_cell": "Table of Contents",
   "title_sidebar": "Contents",
   "toc_cell": false,
   "toc_position": {
    "height": "calc(100% - 180px)",
    "left": "10px",
    "top": "150px",
    "width": "283.396px"
   },
   "toc_section_display": true,
   "toc_window_display": false
  },
  "widgets": {
   "application/vnd.jupyter.widget-state+json": {
    "state": {},
    "version_major": 2,
    "version_minor": 0
   }
  }
 },
 "nbformat": 4,
 "nbformat_minor": 4
}
