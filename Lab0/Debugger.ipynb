{
 "cells": [
  {
   "cell_type": "markdown",
   "id": "929d6375-6023-4561-8a8d-1418dced0c8c",
   "metadata": {
    "slideshow": {
     "slide_type": "slide"
    },
    "tags": []
   },
   "source": [
    "# Debugger"
   ]
  },
  {
   "cell_type": "markdown",
   "id": "569e006c-bf3a-436f-8ca7-22d1ecc519a9",
   "metadata": {
    "tags": [
     "remove-cell"
    ]
   },
   "source": [
    "CS1302 Introduction to Computer Programming\n",
    "___"
   ]
  },
  {
   "cell_type": "markdown",
   "id": "ec838d2e-fd33-40f9-9511-53167b38db47",
   "metadata": {
    "slideshow": {
     "slide_type": "slide"
    },
    "tags": []
   },
   "source": [
    "## Why debuggers?"
   ]
  },
  {
   "cell_type": "markdown",
   "id": "b51e36c0-5ab0-4455-b0af-ecc784df4de4",
   "metadata": {
    "slideshow": {
     "slide_type": "fragment"
    },
    "tags": []
   },
   "source": [
    "As a computer programmer, your goal is to write programs which solves some tasks. But sometimes computer programs behaves in an unexpected way due to *Errors* or *Bugs*. For simple programs, finding errors might be easy. However, for programs consisting many lines of code, finding errors can be very hard."
   ]
  },
  {
   "cell_type": "markdown",
   "id": "d2b8bf6d-ba74-4171-a017-1014ea2fc0bf",
   "metadata": {
    "slideshow": {
     "slide_type": "fragment"
    },
    "tags": []
   },
   "source": [
    "A *Debugger* allows us to pause/break the execution of a program at a line, called a breakpoint, we specify. This allows us to find errors more easily."
   ]
  },
  {
   "cell_type": "markdown",
   "id": "78841dd0-dbb3-4029-bbd2-7c1f919203c3",
   "metadata": {
    "slideshow": {
     "slide_type": "fragment"
    },
    "tags": []
   },
   "source": [
    " In this lab, we will have a glipse of the debuggers in the JupyterLab and VSCode. "
   ]
  },
  {
   "cell_type": "markdown",
   "id": "219d69ef-24be-4bde-9da9-64d2c0b75767",
   "metadata": {
    "slideshow": {
     "slide_type": "slide"
    },
    "tags": []
   },
   "source": [
    "## Set breakpoints"
   ]
  },
  {
   "cell_type": "markdown",
   "id": "b3af2678-c068-4704-827a-1f4cd768f211",
   "metadata": {
    "slideshow": {
     "slide_type": "subslide"
    },
    "tags": []
   },
   "source": [
    "Jupyterlab has a visual debugger for the XPython kernel. Check that XPython kernel is running:"
   ]
  },
  {
   "cell_type": "markdown",
   "id": "f5dfa307-9dd7-406e-b243-826eded61ac6",
   "metadata": {},
   "source": [
    "![xpython](images/xpython.dio.svg)\n",
    "\n",
    "If you do not see XPython or a circle next to it on the top-right-hand corner, switch the XPython kernel by clicking the name of the current kernel on the top-right-hand corner."
   ]
  },
  {
   "cell_type": "markdown",
   "id": "db947845-a7cc-4e3c-b765-c9ac415cbe05",
   "metadata": {
    "slideshow": {
     "slide_type": "subslide"
    },
    "tags": []
   },
   "source": [
    "We will use the following code as an example to set a breakpoint. First, execute the code to see the effect."
   ]
  },
  {
   "cell_type": "code",
   "execution_count": null,
   "id": "1601ff84-9865-4bef-bf43-351a5f575809",
   "metadata": {},
   "outputs": [],
   "source": [
    "msg = \"Hello, World!\"\n",
    "print(msg)"
   ]
  },
  {
   "cell_type": "markdown",
   "id": "bfa35f6e-5964-4065-97e1-ff6dc7ec26d0",
   "metadata": {
    "slideshow": {
     "slide_type": "subslide"
    },
    "tags": []
   },
   "source": [
    "To enter the debug mode, turn on the switch near on top right corner of notebook: \n",
    "\n",
    "![jupyterlab debugger switch](images/jupyterlab-debug.dio.svg) "
   ]
  },
  {
   "cell_type": "markdown",
   "id": "067a4ee8-f959-41c6-8871-c9a47f8c897f",
   "metadata": {
    "slideshow": {
     "slide_type": "fragment"
    },
    "tags": []
   },
   "source": [
    "The debugging sidebar should slide open. You can also open/close the sidebar by clicking bug icon on the right. "
   ]
  },
  {
   "cell_type": "markdown",
   "id": "713fa0d7-fc53-40be-a77f-d0e8ce91c8ab",
   "metadata": {
    "slideshow": {
     "slide_type": "subslide"
    },
    "tags": []
   },
   "source": [
    "**Exercise** Code cells also looks different in debug mode. What is the difference?\n",
    "\n",
    "![code cell](images/codecell.dio.svg)"
   ]
  },
  {
   "cell_type": "markdown",
   "id": "7f838fbd-e4dd-4477-b0ea-4f1f4c4594f2",
   "metadata": {
    "deletable": false,
    "nbgrader": {
     "cell_type": "markdown",
     "checksum": "723be0a25c4e145cdd163aa7318f3629",
     "grade": true,
     "grade_id": "line-number",
     "locked": false,
     "points": 1,
     "schema_version": 3,
     "solution": true,
     "task": false
    },
    "tags": []
   },
   "source": [
    "YOUR ANSWER HERE"
   ]
  },
  {
   "cell_type": "markdown",
   "id": "67eb9182-ca25-48e4-8bb2-dae84b61fcd6",
   "metadata": {
    "slideshow": {
     "slide_type": "subslide"
    },
    "tags": []
   },
   "source": [
    "To set a breakpoint, press the dot that appears as you hover to the left of line number 2. Run the cell to see what happens."
   ]
  },
  {
   "cell_type": "code",
   "execution_count": null,
   "id": "c3ea33ad-2a24-4feb-991c-bd09c73ab9b8",
   "metadata": {},
   "outputs": [],
   "source": [
    "msg = \"Hello, World!\"\n",
    "print(msg)"
   ]
  },
  {
   "cell_type": "markdown",
   "id": "6f7692ab-3533-4d3a-abe0-3eabd9880b7b",
   "metadata": {},
   "source": [
    "**Exercise** Explain whether line 1 and 2 are executed. Use the information from the debugger to support your answer:\n",
    "\n",
    "* **Orange line** is the line where the execution is paused.\n",
    "![paused](images/paused.dio.svg)\n",
    "\n",
    "* **Variables panel** shows the current values of different variables.  \n",
    "![variables](images/variables.dio.svg)\n",
    "\n",
    "* **Callstack panel** provides a more detailed context of where the execution is paused. It also provides the flow control buttons to resume/stop the execution.  \n",
    "![callstack](images/callstack.dio.svg)\n",
    "\n",
    "* **Breakpoints panel** shows all the breakpoints of the current debug session.  \n",
    "![breakpoints](images/breakpoints.dio.svg)\n",
    "\n",
    "* **Source panel** highlights the source of the breakpoint at which the execution is currently paused.  \n",
    "![source](images/source.dio.svg)"
   ]
  },
  {
   "cell_type": "markdown",
   "id": "1f33ea1c-7f26-496f-b429-a9a198cf6444",
   "metadata": {
    "deletable": false,
    "nbgrader": {
     "cell_type": "markdown",
     "checksum": "060b14b2b8a2628bca885fc8273395c3",
     "grade": true,
     "grade_id": "executed",
     "locked": false,
     "points": 1,
     "schema_version": 3,
     "solution": true,
     "task": false
    }
   },
   "source": [
    "YOUR ANSWER HERE"
   ]
  },
  {
   "cell_type": "markdown",
   "id": "7030c273-6ea3-4ebe-ab99-70aa6bc9d233",
   "metadata": {},
   "source": [
    "## Resume execution"
   ]
  },
  {
   "cell_type": "markdown",
   "id": "ff0382b6-d766-4dbc-bff3-70b8df0cc612",
   "metadata": {},
   "source": [
    "To resume/terminate the execute, use the following control flow buttons at the top of the callstack panel:  \n",
    "![callstack](images/flowcontrol.dio.svg)\n",
    "- **Continue** button continues the execution and pause again if it hits a breakpoint.\n",
    "- **Terminate** button stops the execution.\n",
    "- **Next/Step-over** button continues the execution of program to the next statement without entering function."
   ]
  },
  {
   "cell_type": "markdown",
   "id": "eca0a8a7-73d4-4cec-a6d4-b388166e67f3",
   "metadata": {},
   "source": [
    "**Exercise** What does the following function `f(n)` computes? Try to set a breakpoint and use the control flow to understand how the program works. Set the breakpoint one at a time but at different locations. If you set your breakpoint at line 5, you should use the **Step In** button to step into the execution of the function."
   ]
  },
  {
   "cell_type": "code",
   "execution_count": null,
   "id": "186c5bed-d625-4744-80c3-e15769e2f7bb",
   "metadata": {},
   "outputs": [],
   "source": [
    "def f(n): # definition of a function\n",
    "    return n * f(n - 1) if n > 0 else 1\n",
    "\n",
    "\n",
    "f(3)"
   ]
  },
  {
   "cell_type": "markdown",
   "id": "de1d7966-1ca9-43dc-9091-9b5db5b952b7",
   "metadata": {
    "deletable": false,
    "nbgrader": {
     "cell_type": "markdown",
     "checksum": "4977f55aff95e93021c125fe6ec165b6",
     "grade": true,
     "grade_id": "factorial",
     "locked": false,
     "points": 1,
     "schema_version": 3,
     "solution": true,
     "task": false
    }
   },
   "source": [
    "YOUR ANSWER HERE"
   ]
  },
  {
   "cell_type": "markdown",
   "id": "81953476-5be9-404a-9e6d-6494f93c86bd",
   "metadata": {},
   "source": [
    "Sometimes, we want to run temporary code without modifying the current notebook. To do so, right click anywhere on a notebook and choose **New Console for Notebook**. "
   ]
  },
  {
   "cell_type": "markdown",
   "id": "e0a6f9a2-6cc4-47aa-8b22-4b06413aea4e",
   "metadata": {},
   "source": [
    "![new console](images/newconsole.dio.svg) "
   ]
  },
  {
   "cell_type": "markdown",
   "id": "1af68777-59c5-460c-9c63-99b5d6fb20d9",
   "metadata": {},
   "source": [
    "You can then type some code such as `msg` into the console input and run it with `Shift-Enter`:\n",
    "\n",
    "![console](images/console.dio.svg) "
   ]
  },
  {
   "cell_type": "markdown",
   "id": "9d805edf-0b0d-4ece-bb89-c5551c3e7bd9",
   "metadata": {},
   "source": [
    "Try the following:\n",
    "\n",
    "- You can run `f(n)` for different values of `n` in the console to understand how the function works. \n",
    "- You can set a breakpoint in line 2 of the previous code cell containing `def f(n): ...` and run `f(3)` in the console to pause at the breakpoint. The source code containing the breakpoint will also be shown in the **Source panel**. \n",
    "- You can also set a breakpoint in the console input, say `f(3)`, and then step into it.\n",
    "- While the execution is paused, you can enter a new line of code such as `print(msg)` below `f(3)` in the console and then continue the execution to run the new line of code. "
   ]
  }
 ],
 "metadata": {
  "kernelspec": {
   "display_name": "Python 3.8 (XPython)",
   "language": "python",
   "name": "xpython"
  },
  "language_info": {
   "file_extension": ".py",
   "mimetype": "text/x-python",
   "name": "python",
   "version": "3.8.10"
  }
 },
 "nbformat": 4,
 "nbformat_minor": 5
}
