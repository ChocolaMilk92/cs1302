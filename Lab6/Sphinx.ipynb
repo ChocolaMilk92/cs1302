{
 "cells": [
  {
   "cell_type": "markdown",
   "id": "157b5906-17a9-404d-8313-496e5eff1b96",
   "metadata": {},
   "source": [
    "# Sphinx Autodoc (Optional)"
   ]
  },
  {
   "cell_type": "markdown",
   "id": "f664c225-8de7-498e-ac4e-290a616adf61",
   "metadata": {
    "slideshow": {
     "slide_type": "-"
    },
    "tags": [
     "remove-cell"
    ]
   },
   "source": [
    "**CS1302 Introduction to Computer Programming**\n",
    "___"
   ]
  },
  {
   "cell_type": "markdown",
   "id": "e20856f2-c986-4088-aafb-979311166357",
   "metadata": {},
   "source": [
    "[Sphinx](https://www.sphinx-doc.org/en/master/index.html) is a tool to generate high-quality documentations such as:\n",
    " - [Python](https://docs.python.org/3/)\n",
    " - [Numpy](https://numpy.org/doc/stable/)\n",
    " - [Pandas](https://pandas.pydata.org/docs/)"
   ]
  },
  {
   "cell_type": "markdown",
   "id": "5f65aa18-0ebf-4703-ab16-8312af7284c1",
   "metadata": {},
   "source": [
    "Sphinx provides an extension called [autodoc](https://www.sphinx-doc.org/en/master/usage/extensions/autodoc.html) that can automatically generate documentations from the docstrings of a module. We will use it to document our `recurtools` module used in Lecture 6."
   ]
  },
  {
   "cell_type": "markdown",
   "id": "0f8a0366-0035-41e8-a438-9ef2ed8078ff",
   "metadata": {},
   "source": [
    "## Getting started"
   ]
  },
  {
   "cell_type": "markdown",
   "id": "eca550a6-6724-4e2a-97db-e06930178a8e",
   "metadata": {},
   "source": [
    "We will run the sphinx in the terminal. To start a termial session in JupyterLab:\n",
    "\n",
    "- Open the Launcher (`File->New Launcher`).\n",
    "- Start a new termial session by clicking the `Terminal` icon under `Other`."
   ]
  },
  {
   "cell_type": "markdown",
   "id": "b3c2d265-d0ed-4a96-a265-56ed983880dd",
   "metadata": {},
   "source": [
    "You should see the terminal tab with a prompt for your input:\n",
    "\n",
    "```\n",
    "(base) {username}@{hostname}:{cd}$ ▯\n",
    "```"
   ]
  },
  {
   "cell_type": "markdown",
   "id": "7e379316-dd68-4eca-92b2-8310917fe5b5",
   "metadata": {},
   "source": [
    "---\n",
    "\n",
    "**Note**\n",
    "\n",
    "- `(base)` indicates the [conda environment](https://conda.io/projects/conda/en/latest/user-guide/getting-started.html#managing-environments) you are using.\n",
    "- `{username}` shows your username.\n",
    "- `{hostname}` shows the name of the server running your jupyter environment.\n",
    "- `{cd}` shows your current directory. By default, it shows `~`, which is an alias of your home directory `/home/{username}`.\n",
    "- ▯ is the cursor, where you can run a [`bash` command](https://en.wikipedia.org/wiki/Bash_(Unix_shell)).\n",
    "\n",
    "---"
   ]
  },
  {
   "cell_type": "markdown",
   "id": "a7813b07-8d2b-474a-9fde-17a12aa9cee6",
   "metadata": {},
   "source": [
    "**How to configure sphinx?**"
   ]
  },
  {
   "cell_type": "markdown",
   "id": "54ff95f7-2987-4f6c-b2a6-9b670f07bb3c",
   "metadata": {
    "tags": []
   },
   "source": [
    "Run the following quick-start command in a terminal to create the configuration files in a folder called `docs` under your home directory:\n",
    "\n",
    "```Bash\n",
    "sphinx-quickstart ~/docs\n",
    "```"
   ]
  },
  {
   "cell_type": "markdown",
   "id": "1822ba4f-1942-4901-9f0d-cc9230da06d4",
   "metadata": {},
   "source": [
    "---\n",
    "\n",
    "**Tip**\n",
    "\n",
    "- You need to press enter to execute the command.\n",
    "- `~/docs` expands to `/home/{username}/docs`. \n",
    "- You can learn more about a command by running it with the option `--help` such as  \n",
    "    ```Bash\n",
    "    sphinx-quickstart --help\n",
    "    ```\n",
    "\n",
    "---"
   ]
  },
  {
   "cell_type": "markdown",
   "id": "82717284-6163-4bd9-9e93-178632eb0da8",
   "metadata": {},
   "source": [
    "You will be asked a few questions:  \n",
    "- Answer `y` to the first question to use separate source and build directories.\n",
    "- Answer whatever you desire for the remaining questions."
   ]
  },
  {
   "cell_type": "markdown",
   "id": "23823fac-33a2-4fc5-b2f7-367058432f08",
   "metadata": {},
   "source": [
    "```\n",
    "You have two options for placing the build directory for Sphinx output.\n",
    "Either, you use a directory \"_build\" within the root path, or you separate\n",
    "\"source\" and \"build\" directories within the root path.\n",
    "> Separate source and build directories (y/n) [n]: y\n",
    "\n",
    "The project name will occur in several places in the built documentation.\n",
    "> Project name: Recurtools\n",
    "> Author name(s): CHAN Chung\n",
    "> Project release []: beta\n",
    "```"
   ]
  },
  {
   "cell_type": "markdown",
   "id": "69891c2c-662d-4293-afb6-45d0ec290d6a",
   "metadata": {},
   "source": [
    "---\n",
    "**Note**\n",
    "\n",
    "- [Project release](https://www.sphinx-doc.org/en/master/usage/configuration.html#confval-release) specifies the full project version. See [software versioning](https://en.wikipedia.org/wiki/Software_versioning) for the convention.\n",
    "- If successful, the command will print the message\n",
    "    ```\n",
    "    Finished: An initial directory structure has been created.\n",
    "    ```\n",
    "\n",
    "---"
   ]
  },
  {
   "cell_type": "markdown",
   "id": "95126dc1-11de-44e4-a8e9-063b7286c092",
   "metadata": {},
   "source": [
    "**How to build the documentation?**"
   ]
  },
  {
   "cell_type": "markdown",
   "id": "c73e2a42-4d77-4f93-b444-5b9ecb8c8c2f",
   "metadata": {},
   "source": [
    "Run the build script：\n",
    "\n",
    "```Bash\n",
    "sphinx-build -b html ~/docs/source ~/www/recurtools\n",
    "```"
   ]
  },
  {
   "cell_type": "markdown",
   "id": "a3e23151-e0da-454a-8630-9c708d727236",
   "metadata": {},
   "source": [
    "---\n",
    "\n",
    "**Note**\n",
    "\n",
    "The command uses the html builder to generate static webpages to `~/docs/recurtools` based on the configuration from `~/docs/source`.\n",
    "\n",
    "---"
   ]
  },
  {
   "cell_type": "markdown",
   "id": "98b64f73-b61f-4b68-8be3-4a5c4185da27",
   "metadata": {},
   "source": [
    "**How to preview the documentation?**"
   ]
  },
  {
   "cell_type": "markdown",
   "id": "f4d912eb-d437-44fd-8294-8b7c7ff9bb32",
   "metadata": {},
   "source": [
    "You can view the documentation by  \n",
    "- clicking `File->New Launcher`, and\n",
    "- clicking the icon `www` and then folder `recurtools`."
   ]
  },
  {
   "cell_type": "markdown",
   "id": "d6c258f9-7554-4e04-a09b-94000122f695",
   "metadata": {},
   "source": [
    "The documentation is currently empty because we have not specified the module to document."
   ]
  },
  {
   "cell_type": "markdown",
   "id": "08f4efa1-2858-4070-b1bc-fa1ec3c61d9d",
   "metadata": {},
   "source": [
    "## Autodoc"
   ]
  },
  {
   "cell_type": "markdown",
   "id": "8e7a9870-026d-412b-97c7-22f9043c0877",
   "metadata": {},
   "source": [
    "**How to configure sphinx to document a module automatically from its docstrings?**"
   ]
  },
  {
   "cell_type": "markdown",
   "id": "9805b54c-a9a8-41ec-9ad2-a166c7ee3ab8",
   "metadata": {},
   "source": [
    "From the `File Browser` tab, navigate to the `docs/source` folder under your home directory and open `conf.py` by double clicking it and modify it as follows. A sample can be found in `cs1302/Lab6/conf.py`."
   ]
  },
  {
   "cell_type": "markdown",
   "id": "57cb4244-f270-4af4-a747-fde0fb389204",
   "metadata": {},
   "source": [
    "**Path setup**"
   ]
  },
  {
   "cell_type": "markdown",
   "id": "dcfbd691-ec12-42ab-9f60-96b54c6fc228",
   "metadata": {
    "tags": []
   },
   "source": [
    "Uncomment and modify the relevant lines as follows to add the module path to the system path:  \n",
    "```Python\n",
    "import os\n",
    "import sys\n",
    "sys.path.insert(0, os.path.abspath('~/cs1302/Lecture6'))\n",
    "```"
   ]
  },
  {
   "cell_type": "markdown",
   "id": "89ea1453-a1f9-49bd-90e0-2868b0d55a3f",
   "metadata": {},
   "source": [
    "---\n",
    "\n",
    "**Note**\n",
    "\n",
    "- The module path `~/cs1302/Lecture6` contains the `recurtools` module. \n",
    "- The module path is searched first as it is added to the beginning of the system path.\n",
    "\n",
    "---"
   ]
  },
  {
   "cell_type": "markdown",
   "id": "d0a0a41c-49a4-4b95-b81b-3b6144198852",
   "metadata": {},
   "source": [
    "**General configuration**"
   ]
  },
  {
   "cell_type": "markdown",
   "id": "ba141df5-9dc5-41ea-bd01-4911427dce7e",
   "metadata": {},
   "source": [
    "Add the necessary extensions as follows to `extensions`:\n",
    "```Python\n",
    "extensions = ['sphinx.ext.autodoc', 'sphinx.ext.napoleon']\n",
    "```"
   ]
  },
  {
   "cell_type": "markdown",
   "id": "6aa52a4f-6517-4184-8433-c53a1bbd4943",
   "metadata": {},
   "source": [
    "---\n",
    "\n",
    "**Note**\n",
    "\n",
    "- [`sphinx.ext.autodoc`](https://www.sphinx-doc.org/en/master/usage/extensions/autodoc.html) generates documentation from docstrings in [reStructuredText format (rst)](https://www.sphinx-doc.org/en/master/usage/restructuredtext/basics.html) format, which is powerful but makes the docstrings difficult to read.\n",
    "- [`sphinx.ext.napoleon`](https://www.sphinx-doc.org/en/master/usage/extensions/napoleon.html) converts the more readable Numpy-style and Google-style docstrings to rst.\n",
    "\n",
    "---"
   ]
  },
  {
   "cell_type": "markdown",
   "id": "e6334884-0918-454c-9d38-040304b25804",
   "metadata": {},
   "source": [
    "Change [`exclude_patterns`](https://nbsphinx.readthedocs.io/en/0.5.0/usage.html#exclude_patterns) to exclude temporary files in the hidden `.ipynb_checkpoints` folder:  \n",
    "```Bash\n",
    "exclude_patterns = ['**.ipynb_checkpoints']\n",
    "```"
   ]
  },
  {
   "cell_type": "markdown",
   "id": "c59528da-a743-4abc-83e4-4119e9c2a8c7",
   "metadata": {},
   "source": [
    "---\n",
    "\n",
    "**Note**\n",
    "\n",
    "`.ipynb_checkpoints` keep a backup of your files so you may recover them. However, `sphinx` will build documentation on those backup files unless we exclude them explicitly. \n",
    "\n",
    "---"
   ]
  },
  {
   "cell_type": "markdown",
   "id": "4356e649-1b43-4e01-8b07-a1e26883aa89",
   "metadata": {},
   "source": [
    "**How to generate the documentation from docstrings?**"
   ]
  },
  {
   "cell_type": "markdown",
   "id": "b9a95ffd-37b4-40b6-bb0d-4e94a462349b",
   "metadata": {},
   "source": [
    "Run API documentation command to create the rst files for `recurtools`:  \n",
    "```Bash\n",
    "sphinx-apidoc -f -o ~/docs/source ~/cs1302/Lecture6\n",
    "```"
   ]
  },
  {
   "cell_type": "markdown",
   "id": "4763f9e9-9a44-4453-8003-190eb8e44b2c",
   "metadata": {},
   "source": [
    "---\n",
    "\n",
    "**Note**\n",
    "\n",
    "The above creates `modules.rst` and `recurtools.rst` under `~/docs/source`. In particular, `modules.rst` points to `recurtools.rst` as follows:\n",
    "\n",
    "```Markdown\n",
    "Lecture6\n",
    "========\n",
    "\n",
    ".. toctree::\n",
    "   :maxdepth: 4\n",
    "\n",
    "   recurtools\n",
    "```\n",
    "\n",
    "---"
   ]
  },
  {
   "cell_type": "markdown",
   "id": "d99fd07b-c5b2-4149-985c-83c0dcf2e872",
   "metadata": {},
   "source": [
    "Modify `index.rst` to point to `modules.rst` as follows:  \n",
    "```Markdown\n",
    ".. Recurtools documentation master file, created by\n",
    "   sphinx-quickstart on Sun Oct 31 11:51:38 2021.\n",
    "   You can adapt this file completely to your liking, but it should at least\n",
    "   contain the root `toctree` directive.\n",
    "\n",
    "Welcome to Recurtools's documentation!\n",
    "======================================\n",
    "\n",
    ".. toctree::\n",
    "   :maxdepth: 2\n",
    "   :caption: Contents:\n",
    "\n",
    "   modules\n",
    "\n",
    "Indices and tables\n",
    "==================\n",
    "\n",
    "* :ref:`genindex`\n",
    "* :ref:`modindex`\n",
    "* :ref:`search`\n",
    "```"
   ]
  },
  {
   "cell_type": "markdown",
   "id": "f982c0fc-a18e-4198-a302-3c38e67bf0a2",
   "metadata": {},
   "source": [
    "---\n",
    "\n",
    "**Tip**\n",
    "\n",
    "- Note that there is no need to add the extension `.rst` as it is the default.\n",
    "- `modules` is the content of the directive `toctree`. It must have the same indentation as the arguments `:maxdepth:` and `:caption:` above and must be separated by a blank line.\n",
    "\n",
    "---"
   ]
  },
  {
   "cell_type": "markdown",
   "id": "cacc6bf3-80ca-4c43-91d4-d8ef2094095d",
   "metadata": {},
   "source": [
    "Rebuild the documentation with  \n",
    "```Bash\n",
    "sphinx-build -b html ~/docs/source ~/www/recurtools\n",
    "```"
   ]
  },
  {
   "cell_type": "markdown",
   "id": "c54075bd-5f50-4973-b2f4-004dc2223c82",
   "metadata": {},
   "source": [
    "Preview the documentation again by refreshing or relaunching the `www` page."
   ]
  },
  {
   "cell_type": "markdown",
   "id": "00a0780e-a014-498e-a5fe-bf9a158657f5",
   "metadata": {},
   "source": [
    "**Exercise** (optional) \n",
    "\n",
    "Create a module `combinatorics` for the functions in Lab 6 and document them together with `recurtools` in Lecture 6."
   ]
  }
 ],
 "metadata": {
  "kernelspec": {
   "display_name": "Python 3 (ipykernel)",
   "language": "python",
   "name": "python3"
  },
  "language_info": {
   "codemirror_mode": {
    "name": "ipython",
    "version": 3
   },
   "file_extension": ".py",
   "mimetype": "text/x-python",
   "name": "python",
   "nbconvert_exporter": "python",
   "pygments_lexer": "ipython3",
   "version": "3.8.12"
  },
  "widgets": {
   "application/vnd.jupyter.widget-state+json": {
    "state": {},
    "version_major": 2,
    "version_minor": 0
   }
  }
 },
 "nbformat": 4,
 "nbformat_minor": 5
}
