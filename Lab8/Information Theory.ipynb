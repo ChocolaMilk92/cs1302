{
 "cells": [
  {
   "cell_type": "markdown",
   "metadata": {
    "slideshow": {
     "slide_type": "slide"
    }
   },
   "source": [
    "# Information Theory"
   ]
  },
  {
   "cell_type": "markdown",
   "metadata": {
    "slideshow": {
     "slide_type": "-"
    },
    "tags": [
     "remove-cell"
    ]
   },
   "source": [
    "**CS1302 Introduction to Computer Programming**\n",
    "___"
   ]
  },
  {
   "cell_type": "markdown",
   "metadata": {
    "slideshow": {
     "slide_type": "subslide"
    }
   },
   "source": [
    "As mentioned in previous lectures, the following two lists `coin_flips` and `dice_rolls` simulate the random coin flips and rollings of a dice:"
   ]
  },
  {
   "cell_type": "code",
   "execution_count": null,
   "metadata": {
    "ExecuteTime": {
     "end_time": "2021-03-20T14:33:36.981555Z",
     "start_time": "2021-03-20T14:33:36.941676Z"
    },
    "deletable": false,
    "editable": false,
    "nbgrader": {
     "cell_type": "code",
     "checksum": "a97ace8ad9849cd240a2783dfe1d06ed",
     "grade": false,
     "grade_id": "random",
     "locked": true,
     "schema_version": 3,
     "solution": false,
     "task": false
    },
    "slideshow": {
     "slide_type": "-"
    }
   },
   "outputs": [],
   "source": [
    "# Do NOT modify any variables defined here because some tests rely on them\n",
    "import random\n",
    "import math\n",
    "\n",
    "random.seed(0)  # for reproducible results.\n",
    "num_trials = 200\n",
    "coin_flips = [\"H\" if random.random() <= 1 / 2 else \"T\" for i in range(num_trials)]\n",
    "dice_rolls = [random.randint(1, 6) for i in range(num_trials)]\n",
    "print(\"coin flips: \", *coin_flips)\n",
    "print(\"dice rolls: \", *dice_rolls)"
   ]
  },
  {
   "cell_type": "markdown",
   "metadata": {
    "slideshow": {
     "slide_type": "subslide"
    }
   },
   "source": [
    "**What is the difference of the two random processes?  \n",
    "Can we say one process has more information content than the other?**"
   ]
  },
  {
   "cell_type": "markdown",
   "metadata": {
    "slideshow": {
     "slide_type": "-"
    }
   },
   "source": [
    "In this Lab, we will use dictionaries to store their distributions and then compute their information content using information theory, which was introduced by *Claude E. Shannon*. It has [numerous applications](https://www.khanacademy.org/computing/computer-science/informationtheory): \n",
    "- *compression* (to keep files small)\n",
    "- *communications* (to send data mobile phones), and \n",
    "- *machine learning* (to identify relevant features to learn from). "
   ]
  },
  {
   "cell_type": "markdown",
   "metadata": {
    "slideshow": {
     "slide_type": "slide"
    }
   },
   "source": [
    "## Entropy"
   ]
  },
  {
   "cell_type": "markdown",
   "metadata": {
    "slideshow": {
     "slide_type": "fragment"
    }
   },
   "source": [
    "Mathematically, we denote a distribution as $\\mathbf{p}=[p_i]_{i\\in \\mathcal{S}}$, where \n",
    "- $\\mathcal{S}$ is the set of distinct outcomes, and\n",
    "- $p_i$ denotes the probability (chance) of seeing outcome $i$."
   ]
  },
  {
   "cell_type": "markdown",
   "metadata": {
    "slideshow": {
     "slide_type": "fragment"
    }
   },
   "source": [
    "The following code shown in the lecture uses a dictionary to store the distribution for a sequence efficiently without storing outcomes with zero counts:"
   ]
  },
  {
   "cell_type": "code",
   "execution_count": null,
   "metadata": {
    "ExecuteTime": {
     "end_time": "2020-11-30T02:36:09.358277Z",
     "start_time": "2020-11-30T02:36:09.352201Z"
    },
    "deletable": false,
    "editable": false,
    "nbgrader": {
     "cell_type": "code",
     "checksum": "7b57cc639b55481c8c09e3f2640a6322",
     "grade": false,
     "grade_id": "dist",
     "locked": true,
     "schema_version": 3,
     "solution": false,
     "task": false
    },
    "slideshow": {
     "slide_type": "-"
    }
   },
   "outputs": [],
   "source": [
    "# Do NOT modify any variables defined here because some tests rely on them\n",
    "def distribute(seq):\n",
    "    \"\"\"Returns a dictionary where each value in a key-value pair is\n",
    "    the probability of the associated key occuring in the sequence.\n",
    "    \"\"\"\n",
    "    p = {}\n",
    "    for i in seq:\n",
    "        p[i] = p.get(i, 0) + 1 / len(seq)\n",
    "    return p\n",
    "\n",
    "\n",
    "# tests\n",
    "coin_flips_dist = distribute(coin_flips)\n",
    "dice_rolls_dist = distribute(dice_rolls)\n",
    "print(\"Distribution of coin flips:\", coin_flips_dist)\n",
    "print(\"Distribution of dice rolls:\", dice_rolls_dist)"
   ]
  },
  {
   "cell_type": "markdown",
   "metadata": {
    "slideshow": {
     "slide_type": "fragment"
    }
   },
   "source": [
    "For $\\mathbf{p}$ to be a valid distribution, the probabilities $p_i$'s have to sum to $1$, i.e.,\n",
    "\n",
    "$$\\sum_{i\\in \\mathcal{S}} p_i = 1, $$\n",
    "which can be verified as follows:"
   ]
  },
  {
   "cell_type": "code",
   "execution_count": null,
   "metadata": {
    "ExecuteTime": {
     "end_time": "2020-11-30T02:36:10.548606Z",
     "start_time": "2020-11-30T02:36:10.543473Z"
    },
    "slideshow": {
     "slide_type": "-"
    }
   },
   "outputs": [],
   "source": [
    "assert math.isclose(sum(coin_flips_dist.values()), 1) and math.isclose(\n",
    "    sum(dice_rolls_dist.values()), 1\n",
    ")"
   ]
  },
  {
   "cell_type": "markdown",
   "metadata": {
    "slideshow": {
     "slide_type": "subslide"
    }
   },
   "source": [
    "**How to measure the information content?**"
   ]
  },
  {
   "cell_type": "code",
   "execution_count": null,
   "metadata": {
    "ExecuteTime": {
     "end_time": "2020-11-30T02:36:11.842356Z",
     "start_time": "2020-11-30T02:36:11.836253Z"
    },
    "slideshow": {
     "slide_type": "-"
    }
   },
   "outputs": [],
   "source": [
    "%%html\n",
    "<iframe width=\"800\" height=\"450\" src=\"https://www.youtube.com/embed/2s3aJfRr9gE\" frameborder=\"0\" allow=\"accelerometer; autoplay; clipboard-write; encrypted-media; gyroscope; picture-in-picture\" allowfullscreen></iframe>"
   ]
  },
  {
   "cell_type": "markdown",
   "metadata": {
    "slideshow": {
     "slide_type": "subslide"
    }
   },
   "source": [
    "---\n",
    "\n",
    "**Definition** (Entropy)\n",
    "\n",
    "In information theory, the information content of a distribution is measured by its [*entropy*](https://en.wikipedia.org/wiki/Entropy_(information_theory)) defined as:\n",
    "\n",
    "$$ \n",
    "\\begin{aligned} \n",
    "H(\\mathbf{p}) &:= \\sum_{i\\in \\mathcal{S}} p_i \\overbrace{\\log_2 \\tfrac{1}{p_i}}^{\\text{called surprise} } \\\\ \n",
    "&= - \\sum_{i\\in \\mathcal{S}} p_i \\log_2 p_i \\kern1em \\text{(bits)} \\end{aligned}  \n",
    "$$\n",
    "\n",
    "with $p_i \\log_2 \\frac{1}{p_i} = 0$ if $p_i = 0$ because $\\lim_{x\\downarrow 0} x \\log_2 \\frac1x = 0$.\n",
    "\n",
    "---"
   ]
  },
  {
   "cell_type": "markdown",
   "metadata": {
    "slideshow": {
     "slide_type": "fragment"
    }
   },
   "source": [
    "For instance, if $\\mathbf{p}=(p_{H},p_{T})=(0.5,0.5)$, then\n",
    "\n",
    "$$\\begin{aligned} H(\\mathbf{p}) &= 0.5 \\log_2 \\frac{1}{0.5} + 0.5 \\log_2 \\frac{1}{0.5} \\\\ &= 0.5 + 0.5 = 1  \\text{ bit,}\\end{aligned} $$\n",
    "i.e., an outcome of a fair coin flip has one bit of information content, as expected. "
   ]
  },
  {
   "cell_type": "markdown",
   "metadata": {
    "slideshow": {
     "slide_type": "fragment"
    }
   },
   "source": [
    "On the other hand, if $\\mathbf{p}=(p_{H},p_{T})=(1,0)$, then\n",
    "$$\\begin{aligned} H(\\mathbf{p}) &= 1 \\log_2 \\frac{1}{1} + 0 \\log_2 \\frac{1}{0} \\\\ &= 0 + 0 = 0  \\text{ bits,}\\end{aligned} $$\n",
    "i.e., an outcome of a biased coin flip that always comes up head has no information content, again as expected."
   ]
  },
  {
   "cell_type": "markdown",
   "metadata": {
    "slideshow": {
     "slide_type": "subslide"
    }
   },
   "source": [
    "**Exercise** Define a function `entropy` that\n",
    "- takes a distribution $\\mathbf{p}$ as its argument, and\n",
    "- returns the entropy $H(\\mathbf{p})$.\n",
    "\n",
    "Handle the case when $p_i=0$, e.g., using the short-circuit evaluation of logical `and`."
   ]
  },
  {
   "cell_type": "code",
   "execution_count": null,
   "metadata": {
    "ExecuteTime": {
     "end_time": "2020-11-30T02:36:14.574396Z",
     "start_time": "2020-11-30T02:36:14.568953Z"
    },
    "deletable": false,
    "nbgrader": {
     "cell_type": "code",
     "checksum": "86985a3479afc26fcc7159dfc27e3bf2",
     "grade": false,
     "grade_id": "entropy",
     "locked": false,
     "schema_version": 3,
     "solution": true,
     "task": false
    },
    "slideshow": {
     "slide_type": "-"
    },
    "tags": [
     "remove-output"
    ]
   },
   "outputs": [],
   "source": [
    "def entropy(dist):\n",
    "    # YOUR CODE HERE\n",
    "    raise NotImplementedError()"
   ]
  },
  {
   "cell_type": "code",
   "execution_count": null,
   "metadata": {
    "ExecuteTime": {
     "end_time": "2020-11-30T02:36:15.154601Z",
     "start_time": "2020-11-30T02:36:15.146213Z"
    },
    "deletable": false,
    "editable": false,
    "nbgrader": {
     "cell_type": "code",
     "checksum": "c1eed6deedf3bc6f5c779b373b29abd9",
     "grade": true,
     "grade_id": "test-entropy",
     "locked": true,
     "points": 1,
     "schema_version": 3,
     "solution": false,
     "task": false
    },
    "slideshow": {
     "slide_type": "-"
    },
    "tags": [
     "hide-input",
     "remove-output"
    ]
   },
   "outputs": [],
   "source": [
    "# tests\n",
    "assert math.isclose(entropy({\"H\": 0.5, \"T\": 0.5}), 1)\n",
    "assert math.isclose(entropy({\"H\": 1, \"T\": 0}), 0)\n",
    "assert math.isclose(entropy(dict.fromkeys(range(1, 7), 1 / 6)), math.log2(6))"
   ]
  },
  {
   "cell_type": "code",
   "execution_count": null,
   "metadata": {
    "deletable": false,
    "editable": false,
    "nbgrader": {
     "cell_type": "code",
     "checksum": "c491b1f6a16eb521a7933e3377e29207",
     "grade": true,
     "grade_id": "h_test-entropy",
     "locked": true,
     "points": 1,
     "schema_version": 3,
     "solution": false,
     "task": false
    },
    "tags": [
     "remove-cell"
    ]
   },
   "outputs": [],
   "source": [
    "# hidden tests"
   ]
  },
  {
   "cell_type": "markdown",
   "metadata": {
    "slideshow": {
     "slide_type": "slide"
    }
   },
   "source": [
    "## Uniform distribution maximizes entropy"
   ]
  },
  {
   "cell_type": "markdown",
   "metadata": {
    "slideshow": {
     "slide_type": "fragment"
    }
   },
   "source": [
    "Intuitively,\n",
    "- for large enough numbers of fair coin flips, we should have $\\mathcal{S}=\\{H,T\\}$ and $p_H=p_T=0.5$, i.e., equal chance for head and tail.\n",
    "- for large enough numbers of fair dice rolls, we should have $p_i=\\frac16$ for all $i\\in \\mathcal{S}=\\{1,2,3,4,5,6\\}$."
   ]
  },
  {
   "cell_type": "code",
   "execution_count": null,
   "metadata": {
    "ExecuteTime": {
     "end_time": "2020-11-30T02:36:16.996779Z",
     "start_time": "2020-11-30T02:36:16.875089Z"
    },
    "slideshow": {
     "slide_type": "-"
    }
   },
   "outputs": [],
   "source": [
    "import matplotlib.pyplot as plt\n",
    "\n",
    "\n",
    "def plot_distribution(seq):\n",
    "    dist = distribute(seq)\n",
    "    plt.stem(\n",
    "        dist.keys(),  # set-like view of the keys\n",
    "        dist.values(),  # view of the values\n",
    "        use_line_collection=True,\n",
    "    )\n",
    "    plt.xlabel(\"Outcomes\")\n",
    "    plt.title(\"Distribution\")\n",
    "    plt.ylim(0, 1)\n",
    "\n",
    "\n",
    "import ipywidgets as widgets\n",
    "\n",
    "n_widget = widgets.IntSlider(\n",
    "    value=1,\n",
    "    min=1,\n",
    "    max=num_trials,\n",
    "    step=1,\n",
    "    description=\"n:\",\n",
    "    continuous_update=False,\n",
    ")\n",
    "\n",
    "widgets.interactive(lambda n: plot_distribution(coin_flips[:n]), n=n_widget)"
   ]
  },
  {
   "cell_type": "code",
   "execution_count": null,
   "metadata": {
    "ExecuteTime": {
     "end_time": "2020-11-30T02:36:17.688814Z",
     "start_time": "2020-11-30T02:36:17.537818Z"
    },
    "slideshow": {
     "slide_type": "-"
    }
   },
   "outputs": [],
   "source": [
    "widgets.interactive(lambda n: plot_distribution(dice_rolls[:n]), n=n_widget)"
   ]
  },
  {
   "cell_type": "markdown",
   "metadata": {
    "slideshow": {
     "slide_type": "fragment"
    }
   },
   "source": [
    "---\n",
    "\n",
    "**Definition** (Uniform)\n",
    "\n",
    "A distribution is called a *uniform distribution* if all its distinct outcomes have the same probability of occuring, i.e.,\n",
    "\n",
    "$$ p_i = \\frac{1}{|\\mathcal{S}|}\\kern1em  \\text{for all }i\\in \\mathcal{S},  $$\n",
    "\n",
    "where $|\\mathcal{S}|$ is the mathematical notation to denote the size of the set $\\mathcal{S}$.\n",
    "\n",
    "---"
   ]
  },
  {
   "cell_type": "markdown",
   "metadata": {
    "slideshow": {
     "slide_type": "subslide"
    }
   },
   "source": [
    "**Exercise** Define a function `uniform` that\n",
    "- takes a sequence of possibly duplicate outcomes, and\n",
    "- returns a uniform distribution on the distinct outcomes."
   ]
  },
  {
   "cell_type": "code",
   "execution_count": null,
   "metadata": {
    "ExecuteTime": {
     "end_time": "2020-11-30T02:36:19.734972Z",
     "start_time": "2020-11-30T02:36:19.729594Z"
    },
    "deletable": false,
    "nbgrader": {
     "cell_type": "code",
     "checksum": "0aa5198d49ee7ae1dab4533dfc8b9b05",
     "grade": false,
     "grade_id": "uniform",
     "locked": false,
     "schema_version": 3,
     "solution": true,
     "task": false
    },
    "slideshow": {
     "slide_type": "-"
    },
    "tags": [
     "remove-output"
    ]
   },
   "outputs": [],
   "source": [
    "def uniform(outcomes):\n",
    "    \"\"\"Returns the uniform distribution (dict) over distinct items in outcomes.\"\"\"\n",
    "    # YOUR CODE HERE\n",
    "    raise NotImplementedError()"
   ]
  },
  {
   "cell_type": "code",
   "execution_count": null,
   "metadata": {
    "ExecuteTime": {
     "end_time": "2020-11-30T02:36:20.416605Z",
     "start_time": "2020-11-30T02:36:20.406608Z"
    },
    "deletable": false,
    "editable": false,
    "nbgrader": {
     "cell_type": "code",
     "checksum": "34ff6d478ccd4d04a8684fb5d5c5a2ed",
     "grade": true,
     "grade_id": "test-uniform",
     "locked": true,
     "points": 1,
     "schema_version": 3,
     "solution": false,
     "task": false
    },
    "slideshow": {
     "slide_type": "-"
    },
    "tags": [
     "remove-output",
     "hide-input"
    ]
   },
   "outputs": [],
   "source": [
    "# tests\n",
    "assert uniform(\"HT\") == {\"H\": 0.5, \"T\": 0.5}\n",
    "assert uniform(\"HTH\") == {\"H\": 0.5, \"T\": 0.5}\n",
    "fair_dice_dist = uniform(range(1, 7))\n",
    "assert all(\n",
    "    math.isclose(fair_dice_dist[k], v)\n",
    "    for k, v in {\n",
    "        1: 0.16666666666666666,\n",
    "        2: 0.16666666666666666,\n",
    "        3: 0.16666666666666666,\n",
    "        4: 0.16666666666666666,\n",
    "        5: 0.16666666666666666,\n",
    "        6: 0.16666666666666666,\n",
    "    }.items()\n",
    ")"
   ]
  },
  {
   "cell_type": "code",
   "execution_count": null,
   "metadata": {
    "deletable": false,
    "editable": false,
    "nbgrader": {
     "cell_type": "code",
     "checksum": "ce7d7550340006f67b4f4ff8f26f5b06",
     "grade": true,
     "grade_id": "h_test-uniform",
     "locked": true,
     "points": 1,
     "schema_version": 3,
     "solution": false,
     "task": false
    },
    "tags": [
     "remove-cell"
    ]
   },
   "outputs": [],
   "source": [
    "# hidden tests"
   ]
  },
  {
   "cell_type": "markdown",
   "metadata": {
    "slideshow": {
     "slide_type": "subslide"
    }
   },
   "source": [
    "**What is the entropy for uniform distributions?**"
   ]
  },
  {
   "cell_type": "markdown",
   "metadata": {
    "slideshow": {
     "slide_type": "fragment"
    }
   },
   "source": [
    "By definition,\n",
    "\n",
    "$$ \\begin{aligned} H(\\mathbf{p}) &:= \\sum_{i\\in \\mathcal{S}} p_i \\log_2 \\tfrac{1}{p_i} \\\\ &= \\sum_{i\\in \\mathcal{S}} \\frac{1}{|\\mathcal{S}|} \\log_2 |\\mathcal{S}| = \\log_2 |\\mathcal{S}|  \\kern1em \\text{(bits)} \\end{aligned}  $$\n",
    "\n",
    "This reduces to the formula you learned in Lecture 1 and Lab 1 regarding the number of bits required to represent a set. This is the maximum possible entropy for a given finite set of possible outcomes."
   ]
  },
  {
   "cell_type": "markdown",
   "metadata": {
    "slideshow": {
     "slide_type": "fragment"
    }
   },
   "source": [
    "You can use this result to test whether you have implemented both `entropy` and `uniform` correctly:"
   ]
  },
  {
   "cell_type": "code",
   "execution_count": null,
   "metadata": {
    "ExecuteTime": {
     "end_time": "2020-11-30T02:36:25.212111Z",
     "start_time": "2020-11-30T02:36:25.207318Z"
    },
    "slideshow": {
     "slide_type": "-"
    },
    "tags": [
     "remove-output"
    ]
   },
   "outputs": [],
   "source": [
    "assert all(\n",
    "    math.isclose(entropy(uniform(range(n))), math.log2(n)) for n in range(1, 100)\n",
    ")"
   ]
  },
  {
   "cell_type": "markdown",
   "metadata": {
    "slideshow": {
     "slide_type": "slide"
    }
   },
   "source": [
    "## Joint distribution and its entropy"
   ]
  },
  {
   "cell_type": "markdown",
   "metadata": {
    "slideshow": {
     "slide_type": "fragment"
    }
   },
   "source": [
    "If we duplicate a sequence of outcomes, the total information content should remain unchanged, NOT doubled, because the duplicate contain the same information as the original. We will verify this fact by creating a [joint distribution](https://en.wikipedia.org/wiki/Joint_probability_distribution) \n",
    "\n",
    "$$\\mathbf{p}=[p_{ij}]_{i\\in \\mathcal{S},j\\in \\mathcal{T}}$$ \n",
    "- where $\\mathcal{S}$ and $\\mathcal{T}$ are sets of outcomes; and\n",
    "- $p_{ij}$ is the chance we see outcomes $i$ and $j$ simultaneously. \n",
    "\n",
    "The subscript $ij$ in $p_{ij}$ denotes a tuple $(i,j)$, NOT the multiplication $i\\times j$. We also have\n",
    "\n",
    "$$\\sum_{i\\in \\mathcal{S}} \\sum_{j\\in \\mathcal{T}} p_{ij} = 1.$$\n",
    "\n",
    "\n",
    "\n"
   ]
  },
  {
   "cell_type": "markdown",
   "metadata": {
    "slideshow": {
     "slide_type": "subslide"
    }
   },
   "source": [
    "**Exercise** Define a function `jointly_distribute` that \n",
    "- takes two sequences `seq1` and `seq2` of outcomes with the same length, and\n",
    "- returns the joint distribution represented as a dictionary where each key-value pair has the key being a tuple `(i,j)` associated with the probability $p_{ij}$ of seeing `(i,j)` in `zip(seq1,seq2)`."
   ]
  },
  {
   "cell_type": "code",
   "execution_count": null,
   "metadata": {
    "ExecuteTime": {
     "end_time": "2020-11-30T02:36:35.375122Z",
     "start_time": "2020-11-30T02:36:35.368117Z"
    },
    "deletable": false,
    "nbgrader": {
     "cell_type": "code",
     "checksum": "125cfad4c0fe2e721c43fe470e14285d",
     "grade": false,
     "grade_id": "jointly_distribute",
     "locked": false,
     "schema_version": 3,
     "solution": true,
     "task": false
    },
    "slideshow": {
     "slide_type": "-"
    },
    "tags": [
     "remove-output"
    ]
   },
   "outputs": [],
   "source": [
    "def jointly_distribute(seq1, seq2):\n",
    "    \"\"\"Returns the joint distribution of the tuple (i,j) of outcomes from zip(seq1,seq2).\"\"\"\n",
    "    # YOUR CODE HERE\n",
    "    raise NotImplementedError()"
   ]
  },
  {
   "cell_type": "code",
   "execution_count": null,
   "metadata": {
    "ExecuteTime": {
     "end_time": "2020-11-30T02:36:37.209709Z",
     "start_time": "2020-11-30T02:36:37.182230Z"
    },
    "code_folding": [],
    "deletable": false,
    "editable": false,
    "nbgrader": {
     "cell_type": "code",
     "checksum": "bfcce3ccfb4e20724ac509135fb23acf",
     "grade": true,
     "grade_id": "test-jointly_distribute",
     "locked": true,
     "points": 1,
     "schema_version": 3,
     "solution": false,
     "task": false
    },
    "slideshow": {
     "slide_type": "-"
    },
    "tags": [
     "remove-output",
     "hide-input"
    ]
   },
   "outputs": [],
   "source": [
    "# tests\n",
    "assert jointly_distribute(\"HT\", \"HT\") == {(\"H\", \"H\"): 0.5, (\"T\", \"T\"): 0.5}\n",
    "assert jointly_distribute(\"HHTT\", \"HTHT\") == {\n",
    "    (\"H\", \"H\"): 0.25,\n",
    "    (\"H\", \"T\"): 0.25,\n",
    "    (\"T\", \"H\"): 0.25,\n",
    "    (\"T\", \"T\"): 0.25,\n",
    "}\n",
    "coin_flips_duplicate_dist = {\n",
    "    (\"T\", \"T\"): 0.5350000000000004,\n",
    "    (\"H\", \"H\"): 0.4650000000000003,\n",
    "}\n",
    "coin_flips_duplicate_ans = jointly_distribute(coin_flips, coin_flips)\n",
    "assert all(\n",
    "    math.isclose(coin_flips_duplicate_ans[i], pi)\n",
    "    for i, pi in coin_flips_duplicate_dist.items()\n",
    ")"
   ]
  },
  {
   "cell_type": "code",
   "execution_count": null,
   "metadata": {
    "deletable": false,
    "editable": false,
    "nbgrader": {
     "cell_type": "code",
     "checksum": "ef951eec230e55c0e722bfbef2bc0701",
     "grade": true,
     "grade_id": "h_test-jointly_distribute",
     "locked": true,
     "points": 1,
     "schema_version": 3,
     "solution": false,
     "task": false
    },
    "tags": [
     "remove-cell"
    ]
   },
   "outputs": [],
   "source": [
    "# hidden tests"
   ]
  },
  {
   "cell_type": "markdown",
   "metadata": {
    "slideshow": {
     "slide_type": "fragment"
    }
   },
   "source": [
    "If you have implemented `entropy` and `jointly_distribute` correctly, you can verify that duplicating a sequence will give the same entropy."
   ]
  },
  {
   "cell_type": "code",
   "execution_count": null,
   "metadata": {
    "ExecuteTime": {
     "end_time": "2020-11-30T02:36:42.862879Z",
     "start_time": "2020-11-30T02:36:42.859494Z"
    },
    "slideshow": {
     "slide_type": "-"
    },
    "tags": [
     "remove-output"
    ]
   },
   "outputs": [],
   "source": [
    "assert math.isclose(\n",
    "    entropy(jointly_distribute(coin_flips, coin_flips)), entropy(distribute(coin_flips))\n",
    ")\n",
    "assert math.isclose(\n",
    "    entropy(jointly_distribute(dice_rolls, dice_rolls)), entropy(distribute(dice_rolls))\n",
    ")"
   ]
  },
  {
   "cell_type": "markdown",
   "metadata": {
    "slideshow": {
     "slide_type": "fragment"
    }
   },
   "source": [
    "However, for two sequences generated independently, the joint entropy is roughly the sum of the individual entropies."
   ]
  },
  {
   "cell_type": "code",
   "execution_count": null,
   "metadata": {
    "ExecuteTime": {
     "end_time": "2020-11-30T02:36:45.483459Z",
     "start_time": "2020-11-30T02:36:45.476684Z"
    },
    "slideshow": {
     "slide_type": "-"
    },
    "tags": [
     "remove-output"
    ]
   },
   "outputs": [],
   "source": [
    "coin_flips_entropy = entropy(distribute(coin_flips))\n",
    "dice_rolls_entropy = entropy(distribute(dice_rolls))\n",
    "cf_dr_entropy = entropy(jointly_distribute(coin_flips, dice_rolls))\n",
    "print(\n",
    "    f\"\"\"Entropy of coin flip: {coin_flips_entropy}\n",
    "Entropy of dice roll: {dice_rolls_entropy}\n",
    "Sum of the above entropies: {coin_flips_entropy + dice_rolls_entropy}\n",
    "Joint entropy: {cf_dr_entropy}\"\"\"\n",
    ")"
   ]
  },
  {
   "cell_type": "markdown",
   "metadata": {
    "slideshow": {
     "slide_type": "subslide"
    }
   },
   "source": [
    "## Conditional distribution and entropy"
   ]
  },
  {
   "cell_type": "markdown",
   "metadata": {
    "slideshow": {
     "slide_type": "fragment"
    }
   },
   "source": [
    "Mathematically, we denote a [conditional distribution](https://en.wikipedia.org/wiki/Conditional_probability_distribution) as $\\mathbf{q}:=[q_{j|i}]_{i\\in \\mathcal{S}, j\\in \\mathcal{T}}$, where \n",
    "- $\\mathcal{S}$ and $\\mathcal{T}$ are two sets of distinct outcomes, and\n",
    "- $q_{j|i}$ denotes the probability (chance) of seeing outcome $j$ given the condition that outcome $i$ is observed.\n",
    "\n",
    "For $\\mathbf{q}$ to be a valid distribution, the probabilities $q_{j|i}$'s have to sum to $1$ for every $i$, i.e.,\n",
    "\n",
    "$$\\sum_{j\\in \\mathcal{T}} q_{j|i} = 1 \\kern1em \\text{for all }i\\in \\mathcal{S} $$"
   ]
  },
  {
   "cell_type": "markdown",
   "metadata": {
    "slideshow": {
     "slide_type": "fragment"
    }
   },
   "source": [
    "For example, suppose we want to compute the distribution of coin flips given dice rolls, then the following assign `q_H_1` and `q_T_1` to the values $q_{H|1}$ and $q_{T|1}$ respectively:"
   ]
  },
  {
   "cell_type": "code",
   "execution_count": null,
   "metadata": {
    "ExecuteTime": {
     "end_time": "2020-11-30T02:36:52.270634Z",
     "start_time": "2020-11-30T02:36:52.260818Z"
    },
    "slideshow": {
     "slide_type": "-"
    }
   },
   "outputs": [],
   "source": [
    "coin_flips_1 = [j for i, j in zip(dice_rolls, coin_flips) if i == 1]\n",
    "q_H_1 = coin_flips_1.count(\"H\") / len(coin_flips_1)\n",
    "q_T_1 = coin_flips_1.count(\"T\") / len(coin_flips_1)\n",
    "print(\"Coin flips given dice roll is 1:\", coin_flips_1)\n",
    "print(\n",
    "    'Distribution of coin flip given dice roll is 1: {{ \"H\": {}, \"T\": {}}}'.format(\n",
    "        q_H_1, q_T_1\n",
    "    )\n",
    ")\n",
    "assert math.isclose(q_H_1 + q_T_1, 1)"
   ]
  },
  {
   "cell_type": "markdown",
   "metadata": {
    "slideshow": {
     "slide_type": "fragment"
    }
   },
   "source": [
    "Note that `q_H_1 + q_T_1` is 1 as expected. Similarly, we can assign `q_H_2` and `q_T_2` to the values $q_{H|2}$ and $q_{T|2}$ respectively."
   ]
  },
  {
   "cell_type": "code",
   "execution_count": null,
   "metadata": {
    "ExecuteTime": {
     "end_time": "2020-11-30T02:36:54.400638Z",
     "start_time": "2020-11-30T02:36:54.391792Z"
    },
    "slideshow": {
     "slide_type": "-"
    }
   },
   "outputs": [],
   "source": [
    "coin_flips_2 = [j for i, j in zip(dice_rolls, coin_flips) if i == 2]\n",
    "q_H_2 = coin_flips_2.count(\"H\") / len(coin_flips_2)\n",
    "q_T_2 = coin_flips_2.count(\"T\") / len(coin_flips_2)\n",
    "print(\"Coin flips given dice roll is 2:\", coin_flips_2)\n",
    "print(\n",
    "    'Distribution of coin flip given dice roll is 2: {{ \"H\": {}, \"T\": {}}}'.format(\n",
    "        q_H_2, q_T_2\n",
    "    )\n",
    ")\n",
    "assert math.isclose(q_H_2 + q_T_2, 1)"
   ]
  },
  {
   "cell_type": "markdown",
   "metadata": {
    "slideshow": {
     "slide_type": "fragment"
    }
   },
   "source": [
    "Finally, we want to store the conditional distribution as a nested dictionary so that `q[i]` points to the distribution \n",
    "\n",
    "$$[q_{j|i}]_{j\\in \\mathcal{T}} \\kern1em \\text{for }i\\in \\mathcal{S}.$$"
   ]
  },
  {
   "cell_type": "code",
   "execution_count": null,
   "metadata": {
    "ExecuteTime": {
     "end_time": "2020-11-30T02:36:55.594506Z",
     "start_time": "2020-11-30T02:36:55.585985Z"
    },
    "slideshow": {
     "slide_type": "-"
    }
   },
   "outputs": [],
   "source": [
    "q = {}\n",
    "q[1] = dict(zip(\"HT\", (q_H_1, q_T_1)))\n",
    "q[2] = dict(zip(\"HT\", (q_H_2, q_T_2)))\n",
    "q"
   ]
  },
  {
   "cell_type": "markdown",
   "metadata": {
    "slideshow": {
     "slide_type": "fragment"
    }
   },
   "source": [
    "Of course, the above dictionary is missing the entries for other possible outcomes of the dice rolls."
   ]
  },
  {
   "cell_type": "markdown",
   "metadata": {
    "slideshow": {
     "slide_type": "subslide"
    }
   },
   "source": [
    "**Exercise** Define a function `conditionally_distribute` that\n",
    "- takes two sequences `seq1` and `seq2` of outcomes of the same length, and\n",
    "- returns the conditional distribution of `seq2` given `seq1` in the form of a nested dictionary efficiently without storing the unobserved outcomes.\n",
    "\n",
    "In the above example, `seq1` is `dice_rolls` while `seq2` is `coin_flips`.\n",
    "\n",
    "*Hint:* For an efficient implementation without traversing the input sequences too many times, consider using the following solution template and the `setdefault` method.\n",
    "```Python\n",
    "def conditionally_distribute(seq1, seq2):\n",
    "    q, count = {}, {}  # NOT q = count = {}\n",
    "    for i in seq1:\n",
    "        count[i] = count.get(i, 0) + 1\n",
    "    for i, j in zip(seq1, seq2):\n",
    "        q[i][j] = ____________________________________________________\n",
    "    return q\n",
    "```"
   ]
  },
  {
   "cell_type": "code",
   "execution_count": null,
   "metadata": {
    "ExecuteTime": {
     "end_time": "2020-11-30T02:37:10.353076Z",
     "start_time": "2020-11-30T02:37:10.344359Z"
    },
    "deletable": false,
    "nbgrader": {
     "cell_type": "code",
     "checksum": "8594de52bcc1c6d3ba64624a68e9fa5d",
     "grade": false,
     "grade_id": "conditionally_distribute",
     "locked": false,
     "schema_version": 3,
     "solution": true,
     "task": false
    },
    "slideshow": {
     "slide_type": "-"
    },
    "tags": [
     "remove-output"
    ]
   },
   "outputs": [],
   "source": [
    "def conditionally_distribute(seq1, seq2):\n",
    "    \"\"\"Returns the conditional distribution q of seq2 given seq1 such that\n",
    "    q[i] is a dictionary for observed outcome i in seq1 and\n",
    "    q[i][j] is the probability of observing j in seq2 given the\n",
    "    corresponding outcome in seq1 is i.\"\"\"\n",
    "    # YOUR CODE HERE\n",
    "    raise NotImplementedError()"
   ]
  },
  {
   "cell_type": "code",
   "execution_count": null,
   "metadata": {
    "ExecuteTime": {
     "end_time": "2020-11-30T02:37:11.920937Z",
     "start_time": "2020-11-30T02:37:11.903512Z"
    },
    "deletable": false,
    "editable": false,
    "nbgrader": {
     "cell_type": "code",
     "checksum": "c93ceb34d906b9dcefb3ebe4b1a71a97",
     "grade": true,
     "grade_id": "test-conditionally_distribute",
     "locked": true,
     "points": 1,
     "schema_version": 3,
     "solution": false,
     "task": false
    },
    "slideshow": {
     "slide_type": "-"
    },
    "tags": [
     "hide-input",
     "remove-output"
    ]
   },
   "outputs": [],
   "source": [
    "# tests\n",
    "cf_given_dr_dist = {\n",
    "    4: {\"T\": 0.5588235294117647, \"H\": 0.4411764705882353},\n",
    "    1: {\"T\": 0.46511627906976744, \"H\": 0.5348837209302325},\n",
    "    3: {\"H\": 0.5135135135135135, \"T\": 0.4864864864864865},\n",
    "    6: {\"H\": 0.5454545454545454, \"T\": 0.45454545454545453},\n",
    "    2: {\"T\": 0.7586206896551724, \"H\": 0.2413793103448276},\n",
    "    5: {\"T\": 0.5416666666666666, \"H\": 0.4583333333333333},\n",
    "}\n",
    "cf_given_dr_ans = conditionally_distribute(dice_rolls, coin_flips)\n",
    "assert all(\n",
    "    math.isclose(cf_given_dr_ans[i][j], v)\n",
    "    for i, d in cf_given_dr_dist.items()\n",
    "    for j, v in d.items()\n",
    ")"
   ]
  },
  {
   "cell_type": "code",
   "execution_count": null,
   "metadata": {
    "deletable": false,
    "editable": false,
    "nbgrader": {
     "cell_type": "code",
     "checksum": "f56be0a7301a0e0983aea9c79f84d7cb",
     "grade": true,
     "grade_id": "h_test-conditionally_distribute",
     "locked": true,
     "points": 1,
     "schema_version": 3,
     "solution": false,
     "task": false
    },
    "tags": [
     "remove-cell"
    ]
   },
   "outputs": [],
   "source": [
    "# hidden tests"
   ]
  },
  {
   "cell_type": "markdown",
   "metadata": {
    "slideshow": {
     "slide_type": "fragment"
    }
   },
   "source": [
    "---\n",
    "\n",
    "**Definition** (Conditional entropy)\n",
    "\n",
    "The [*conditional entropy*](https://en.wikipedia.org/wiki/Conditional_entropy) is defined for a conditional distribution $\\mathbf{q}=[q_{j|i}]_{i\\in \\mathcal{S},j\\in\\mathcal{T}}$ and a distribution $\\mathbf{p}=[p_i]_{i\\in \\mathcal{S}}$ as follows:\n",
    "\n",
    "$$ H(\\mathbf{q}|\\mathbf{p}) = \\sum_{i\\in \\mathcal{S}} p_i \\sum_{j\\in \\mathcal{T}} q_{j|i} \\log_2 \\frac{1}{q_{j|i}}, $$\n",
    "where, by convention,  \n",
    "- the summand of the outer sum is 0 if $p_i=0$ (regardless of the values of $q_{j|i}$), and\n",
    "- the summand of the inner sum is 0 if $q_{j|i}=0$.\n",
    "\n",
    "---"
   ]
  },
  {
   "cell_type": "markdown",
   "metadata": {
    "ExecuteTime": {
     "end_time": "2020-11-10T07:01:43.746409Z",
     "start_time": "2020-11-10T07:01:43.739829Z"
    },
    "slideshow": {
     "slide_type": "subslide"
    }
   },
   "source": [
    "**Exercise** Define a function `conditional_entropy` that\n",
    "- takes \n",
    "  - a distribution p as its first argument,\n",
    "  - a conditional distribution q as its second argument, and\n",
    "- returns the conditional entropy $H(\\mathbf{q}|\\mathbf{p})$.\n",
    "\n",
    "Handle the cases when $p_i=0$ and $q_{j|i}=0$ as well."
   ]
  },
  {
   "cell_type": "code",
   "execution_count": null,
   "metadata": {
    "ExecuteTime": {
     "end_time": "2020-11-30T03:05:53.714506Z",
     "start_time": "2020-11-30T03:05:53.708443Z"
    },
    "deletable": false,
    "nbgrader": {
     "cell_type": "code",
     "checksum": "c6b8cc3d81731e285ecd4c206f7b72cb",
     "grade": false,
     "grade_id": "conditional_entropy",
     "locked": false,
     "schema_version": 3,
     "solution": true,
     "task": false
    },
    "slideshow": {
     "slide_type": "-"
    },
    "tags": [
     "remove-output"
    ]
   },
   "outputs": [],
   "source": [
    "# YOUR CODE HERE\n",
    "raise NotImplementedError()"
   ]
  },
  {
   "cell_type": "code",
   "execution_count": null,
   "metadata": {
    "ExecuteTime": {
     "end_time": "2020-11-30T03:05:54.134252Z",
     "start_time": "2020-11-30T03:05:54.122726Z"
    },
    "deletable": false,
    "editable": false,
    "nbgrader": {
     "cell_type": "code",
     "checksum": "2d1ae55ab94aa96569d2670cdb572dca",
     "grade": true,
     "grade_id": "test-conditional_entropy",
     "locked": true,
     "points": 1,
     "schema_version": 3,
     "solution": false,
     "task": false
    },
    "slideshow": {
     "slide_type": "-"
    },
    "tags": [
     "remove-output",
     "hide-input"
    ]
   },
   "outputs": [],
   "source": [
    "# tests\n",
    "cf_given_dr_dist = {\n",
    "    4: {\"T\": 0.5588235294117647, \"H\": 0.4411764705882353},\n",
    "    1: {\"T\": 0.46511627906976744, \"H\": 0.5348837209302325},\n",
    "    3: {\"H\": 0.5135135135135135, \"T\": 0.4864864864864865},\n",
    "    6: {\"H\": 0.5454545454545454, \"T\": 0.45454545454545453},\n",
    "    2: {\"T\": 0.7586206896551724, \"H\": 0.2413793103448276},\n",
    "    5: {\"T\": 0.5416666666666666, \"H\": 0.4583333333333333},\n",
    "}\n",
    "assert (\n",
    "    conditional_entropy(\n",
    "        {\"H\": 0.5, \"T\": 0.5}, {\"H\": {\"H\": 0.5, \"T\": 0.5}, \"T\": {\"H\": 0.5, \"T\": 0.5}}\n",
    "    )\n",
    "    == 1\n",
    ")\n",
    "assert (\n",
    "    conditional_entropy(\n",
    "        {\"H\": 0, \"T\": 1}, {\"H\": {\"H\": 0.5, \"T\": 0.5}, \"T\": {\"H\": 0.5, \"T\": 0.5}}\n",
    "    )\n",
    "    == 1\n",
    ")\n",
    "assert (\n",
    "    conditional_entropy(\n",
    "        {\"H\": 0.5, \"T\": 0.5}, {\"H\": {\"H\": 1, \"T\": 0}, \"T\": {\"H\": 0, \"T\": 1}}\n",
    "    )\n",
    "    == 0\n",
    ")\n",
    "assert (\n",
    "    conditional_entropy(\n",
    "        {\"H\": 0.5, \"T\": 0.5}, {\"H\": {\"H\": 1, \"T\": 0}, \"T\": {\"H\": 0.5, \"T\": 0.5}}\n",
    "    )\n",
    "    == 0.5\n",
    ")\n",
    "assert math.isclose(\n",
    "    conditional_entropy(dice_rolls_dist, cf_given_dr_dist), 0.9664712793722372\n",
    ")"
   ]
  },
  {
   "cell_type": "code",
   "execution_count": null,
   "metadata": {
    "deletable": false,
    "editable": false,
    "nbgrader": {
     "cell_type": "code",
     "checksum": "b22277acec7715d45059add1de697ab6",
     "grade": true,
     "grade_id": "h_test-conditional_entropy",
     "locked": true,
     "points": 1,
     "schema_version": 3,
     "solution": false,
     "task": false
    },
    "tags": [
     "remove-cell"
    ]
   },
   "outputs": [],
   "source": [
    "# hidden tests"
   ]
  },
  {
   "cell_type": "markdown",
   "metadata": {
    "slideshow": {
     "slide_type": "subslide"
    }
   },
   "source": [
    "The joint probability $p_{ij}$ over $i\\in \\mathcal{S}$ and $j\\in \\mathcal{T}$ can be calculated as follows\n",
    "\n",
    "$$p_{ij} = p_{i} q_{j|i}$$\n",
    "where $p_i$ is the probability of $i$ and $q_{j|i}$ is the conditional probability of $j$ given $i$."
   ]
  },
  {
   "cell_type": "markdown",
   "metadata": {},
   "source": [
    "**Exercise** Define a function `joint_distribution` that\n",
    "- takes the distribution $p$ and conditional distribution $q$ as arguments, and\n",
    "- returns their joint distribution."
   ]
  },
  {
   "cell_type": "code",
   "execution_count": null,
   "metadata": {
    "ExecuteTime": {
     "end_time": "2020-11-16T11:28:14.895895Z",
     "start_time": "2020-11-16T11:28:14.892010Z"
    },
    "deletable": false,
    "nbgrader": {
     "cell_type": "code",
     "checksum": "9926072602132dabef0a83e32a868b52",
     "grade": false,
     "grade_id": "joint_distribution",
     "locked": false,
     "schema_version": 3,
     "solution": true,
     "task": false
    }
   },
   "outputs": [],
   "source": [
    "def joint_distribution(p, q):\n",
    "    # YOUR CODE HERE\n",
    "    raise NotImplementedError()"
   ]
  },
  {
   "cell_type": "code",
   "execution_count": null,
   "metadata": {
    "ExecuteTime": {
     "end_time": "2020-11-16T11:28:18.661291Z",
     "start_time": "2020-11-16T11:28:18.644524Z"
    },
    "deletable": false,
    "editable": false,
    "nbgrader": {
     "cell_type": "code",
     "checksum": "269d98d3de67bf0c28111dba49be4e0f",
     "grade": true,
     "grade_id": "test-joint_distribution",
     "locked": true,
     "points": 1,
     "schema_version": 3,
     "solution": false,
     "task": false
    },
    "tags": [
     "remove-output",
     "hide-input"
    ]
   },
   "outputs": [],
   "source": [
    "# tests\n",
    "assert joint_distribution(\n",
    "    {\"H\": 0.5, \"T\": 0.5}, {\"H\": {\"H\": 0.5, \"T\": 0.5}, \"T\": {\"H\": 0.5, \"T\": 0.5}}\n",
    ") == {(\"H\", \"H\"): 0.25, (\"H\", \"T\"): 0.25, (\"T\", \"H\"): 0.25, (\"T\", \"T\"): 0.25}\n",
    "assert joint_distribution(\n",
    "    {\"H\": 0, \"T\": 1}, {\"H\": {\"H\": 0.5, \"T\": 0.5}, \"T\": {\"H\": 0.5, \"T\": 0.5}}\n",
    ") == {(\"H\", \"H\"): 0.0, (\"H\", \"T\"): 0.0, (\"T\", \"H\"): 0.5, (\"T\", \"T\"): 0.5}\n",
    "assert joint_distribution(\n",
    "    {\"H\": 0.5, \"T\": 0.5}, {\"H\": {\"H\": 1, \"T\": 0}, \"T\": {\"H\": 0, \"T\": 1}}\n",
    ") == {(\"H\", \"H\"): 0.5, (\"H\", \"T\"): 0.0, (\"T\", \"H\"): 0.0, (\"T\", \"T\"): 0.5}, {\n",
    "    \"H\": 0.5,\n",
    "    \"T\": 0.5,\n",
    "}"
   ]
  },
  {
   "cell_type": "code",
   "execution_count": null,
   "metadata": {
    "deletable": false,
    "editable": false,
    "nbgrader": {
     "cell_type": "code",
     "checksum": "5011b0b04d86a03ab5cf47508e4477bd",
     "grade": true,
     "grade_id": "h_test-joint_distribution",
     "locked": true,
     "points": 1,
     "schema_version": 3,
     "solution": false,
     "task": false
    },
    "tags": [
     "remove-cell"
    ]
   },
   "outputs": [],
   "source": [
    "# hidden tests"
   ]
  },
  {
   "cell_type": "markdown",
   "metadata": {
    "slideshow": {
     "slide_type": "subslide"
    }
   },
   "source": [
    "Finally, a fundamental information identity relating the joint and conditional entropies is the [*chain rule*](https://en.wikipedia.org/wiki/Conditional_entropy#Chain_rule):"
   ]
  },
  {
   "cell_type": "markdown",
   "metadata": {},
   "source": [
    "---\n",
    "\n",
    "**Proposition**\n",
    "\n",
    "The joint entropy is equal to\n",
    "\n",
    "$$ H(\\mathbf{p}) + H(\\mathbf{q}|\\mathbf{p})$$\n",
    "\n",
    "for any distribution $\\mathbf{p}$ over outcome $i\\in \\mathcal{S}$ and conditional distribution $\\mathbf{q}$ over outcome $j\\in \\mathcal{T}$ given outcome $i \\in \\mathcal{S}$. \n",
    "\n",
    "---"
   ]
  },
  {
   "cell_type": "markdown",
   "metadata": {
    "ExecuteTime": {
     "end_time": "2020-11-10T12:28:29.339662Z",
     "start_time": "2020-11-10T12:28:29.331637Z"
    },
    "slideshow": {
     "slide_type": "fragment"
    }
   },
   "source": [
    "If you have implemented `jointly_distribute`, `conditionally_distribute`, `entropy`, and `conditional_entropy` correctly, we can verify the identity as follows."
   ]
  },
  {
   "cell_type": "code",
   "execution_count": null,
   "metadata": {
    "ExecuteTime": {
     "end_time": "2020-11-16T11:28:43.031007Z",
     "start_time": "2020-11-16T11:28:43.023358Z"
    },
    "slideshow": {
     "slide_type": "-"
    }
   },
   "outputs": [],
   "source": [
    "def validate_chain_rule(seq1, seq2):\n",
    "    p = distribute(seq1)\n",
    "    q = conditionally_distribute(seq1, seq2)\n",
    "    pq = jointly_distribute(seq1, seq2)\n",
    "    H_pq = entropy(pq)\n",
    "    H_p = entropy(p)\n",
    "    H_q_p = conditional_entropy(p, q)\n",
    "    print(\n",
    "        f\"\"\"Entropy of seq1: {H_p}\n",
    "Conditional entropy of seq2 given seq1: {H_q_p}\n",
    "Sum of the above entropies: {H_p + H_q_p}\n",
    "Joint entropy: {H_pq}\"\"\"\n",
    "    )\n",
    "    assert math.isclose(H_pq, H_p + H_q_p)"
   ]
  },
  {
   "cell_type": "code",
   "execution_count": null,
   "metadata": {
    "ExecuteTime": {
     "end_time": "2020-11-10T14:47:05.282008Z",
     "start_time": "2020-11-10T14:47:05.275719Z"
    },
    "slideshow": {
     "slide_type": "-"
    },
    "tags": [
     "remove-output"
    ]
   },
   "outputs": [],
   "source": [
    "validate_chain_rule(coin_flips, coin_flips)"
   ]
  },
  {
   "cell_type": "code",
   "execution_count": null,
   "metadata": {
    "ExecuteTime": {
     "end_time": "2020-11-10T14:47:08.553680Z",
     "start_time": "2020-11-10T14:47:08.546789Z"
    },
    "slideshow": {
     "slide_type": "-"
    },
    "tags": [
     "remove-output"
    ]
   },
   "outputs": [],
   "source": [
    "validate_chain_rule(dice_rolls, coin_flips)"
   ]
  }
 ],
 "metadata": {
  "kernelspec": {
   "display_name": "Python 3 (ipykernel)",
   "language": "python",
   "name": "python3"
  },
  "language_info": {
   "codemirror_mode": {
    "name": "ipython",
    "version": 3
   },
   "file_extension": ".py",
   "mimetype": "text/x-python",
   "name": "python",
   "nbconvert_exporter": "python",
   "pygments_lexer": "ipython3",
   "version": "3.8.12"
  },
  "latex_envs": {
   "LaTeX_envs_menu_present": true,
   "autoclose": false,
   "autocomplete": true,
   "bibliofile": "biblio.bib",
   "cite_by": "apalike",
   "current_citInitial": 1,
   "eqLabelWithNumbers": true,
   "eqNumInitial": 1,
   "hotkeys": {
    "equation": "Ctrl-E",
    "itemize": "Ctrl-I"
   },
   "labels_anchors": false,
   "latex_user_defs": false,
   "report_style_numbering": false,
   "user_envs_cfg": false
  },
  "rise": {
   "enable_chalkboard": true,
   "scroll": true,
   "theme": "white"
  },
  "toc": {
   "base_numbering": 1,
   "nav_menu": {
    "height": "195px",
    "width": "330px"
   },
   "number_sections": true,
   "sideBar": true,
   "skip_h1_title": true,
   "title_cell": "Table of Contents",
   "title_sidebar": "Contents",
   "toc_cell": false,
   "toc_position": {
    "height": "454.418px",
    "left": "1533px",
    "top": "110.284px",
    "width": "435.327px"
   },
   "toc_section_display": true,
   "toc_window_display": false
  },
  "widgets": {
   "application/vnd.jupyter.widget-state+json": {
    "state": {
     "21ea1275b27443548108a2860f9c926d": {
      "model_module": "@jupyter-widgets/output",
      "model_module_version": "1.0.0",
      "model_name": "OutputModel",
      "state": {
       "layout": "IPY_MODEL_ccaef5be1d1341038cbe7f3550c2c5fc",
       "outputs": [
        {
         "data": {
          "image/png": "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\n",
          "text/plain": "<Figure size 432x288 with 1 Axes>"
         },
         "metadata": {
          "needs_background": "light"
         },
         "output_type": "display_data"
        }
       ]
      }
     },
     "411559c9f9304376a2240cea2329fe60": {
      "model_module": "@jupyter-widgets/base",
      "model_module_version": "1.2.0",
      "model_name": "LayoutModel",
      "state": {}
     },
     "4fb8f0dc38c14078bbb5940680a434df": {
      "model_module": "@jupyter-widgets/output",
      "model_module_version": "1.0.0",
      "model_name": "OutputModel",
      "state": {
       "layout": "IPY_MODEL_80acd9fcd1a04f929ba80fb82b079e12",
       "outputs": [
        {
         "data": {
          "image/png": "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\n",
          "text/plain": "<Figure size 432x288 with 1 Axes>"
         },
         "metadata": {
          "needs_background": "light"
         },
         "output_type": "display_data"
        }
       ]
      }
     },
     "6260be9aec694b5e9cec0459e7e1c98e": {
      "model_module": "@jupyter-widgets/controls",
      "model_module_version": "1.5.0",
      "model_name": "VBoxModel",
      "state": {
       "_dom_classes": [
        "widget-interact"
       ],
       "children": [
        "IPY_MODEL_dd6de7869d7b4857857c6694f6840d0e",
        "IPY_MODEL_21ea1275b27443548108a2860f9c926d"
       ],
       "layout": "IPY_MODEL_cc3d2aa86f1145e2ae4ef12ce9adf2ba"
      }
     },
     "80acd9fcd1a04f929ba80fb82b079e12": {
      "model_module": "@jupyter-widgets/base",
      "model_module_version": "1.2.0",
      "model_name": "LayoutModel",
      "state": {}
     },
     "9dd6312ee558448892df14f8f2dcd5f9": {
      "model_module": "@jupyter-widgets/controls",
      "model_module_version": "1.5.0",
      "model_name": "SliderStyleModel",
      "state": {
       "description_width": ""
      }
     },
     "a026c7a1cb004570b4a4135a4c51ad8f": {
      "model_module": "@jupyter-widgets/controls",
      "model_module_version": "1.5.0",
      "model_name": "VBoxModel",
      "state": {
       "_dom_classes": [
        "widget-interact"
       ],
       "children": [
        "IPY_MODEL_dd6de7869d7b4857857c6694f6840d0e",
        "IPY_MODEL_4fb8f0dc38c14078bbb5940680a434df"
       ],
       "layout": "IPY_MODEL_411559c9f9304376a2240cea2329fe60"
      }
     },
     "ab2c48214f3e45d595e4d3f68660f5c1": {
      "model_module": "@jupyter-widgets/base",
      "model_module_version": "1.2.0",
      "model_name": "LayoutModel",
      "state": {}
     },
     "cc3d2aa86f1145e2ae4ef12ce9adf2ba": {
      "model_module": "@jupyter-widgets/base",
      "model_module_version": "1.2.0",
      "model_name": "LayoutModel",
      "state": {}
     },
     "ccaef5be1d1341038cbe7f3550c2c5fc": {
      "model_module": "@jupyter-widgets/base",
      "model_module_version": "1.2.0",
      "model_name": "LayoutModel",
      "state": {}
     },
     "dd6de7869d7b4857857c6694f6840d0e": {
      "model_module": "@jupyter-widgets/controls",
      "model_module_version": "1.5.0",
      "model_name": "IntSliderModel",
      "state": {
       "continuous_update": false,
       "description": "n:",
       "layout": "IPY_MODEL_ab2c48214f3e45d595e4d3f68660f5c1",
       "max": 200,
       "min": 1,
       "style": "IPY_MODEL_9dd6312ee558448892df14f8f2dcd5f9",
       "value": 91
      }
     }
    },
    "version_major": 2,
    "version_minor": 0
   }
  }
 },
 "nbformat": 4,
 "nbformat_minor": 4
}
