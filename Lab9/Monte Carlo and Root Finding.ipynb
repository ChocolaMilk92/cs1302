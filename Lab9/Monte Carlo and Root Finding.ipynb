{
 "cells": [
  {
   "cell_type": "markdown",
   "metadata": {
    "slideshow": {
     "slide_type": "slide"
    }
   },
   "source": [
    "# Monte Carlo and Root Finding"
   ]
  },
  {
   "cell_type": "markdown",
   "metadata": {
    "slideshow": {
     "slide_type": "-"
    },
    "tags": [
     "remove-cell"
    ]
   },
   "source": [
    "**CS1302 Introduction to Computer Programming**\n",
    "___"
   ]
  },
  {
   "cell_type": "markdown",
   "metadata": {
    "slideshow": {
     "slide_type": "subslide"
    },
    "tags": []
   },
   "source": [
    "## The Monty-Hall Game"
   ]
  },
  {
   "cell_type": "code",
   "execution_count": null,
   "metadata": {
    "ExecuteTime": {
     "end_time": "2021-03-20T14:34:32.757241Z",
     "start_time": "2021-03-20T14:34:32.749359Z"
    },
    "slideshow": {
     "slide_type": "-"
    },
    "tags": [
     "hide-input"
    ]
   },
   "outputs": [],
   "source": [
    "%%html\n",
    "<iframe width=\"800\" height=\"450\" src=\"https://www.youtube.com/embed/rn1y-HrmA5c?end=23\" frameborder=\"0\" allow=\"accelerometer; autoplay; clipboard-write; encrypted-media; gyroscope; picture-in-picture\" allowfullscreen></iframe>"
   ]
  },
  {
   "cell_type": "markdown",
   "metadata": {
    "slideshow": {
     "slide_type": "subslide"
    }
   },
   "source": [
    "**Is it better to change the initial pick? What is the chance of winning if we change?**"
   ]
  },
  {
   "cell_type": "markdown",
   "metadata": {
    "slideshow": {
     "slide_type": "fragment"
    }
   },
   "source": [
    "*Hint:* There are two doors to choose from, and only one of the doors has treasure behind."
   ]
  },
  {
   "cell_type": "markdown",
   "metadata": {
    "slideshow": {
     "slide_type": "fragment"
    }
   },
   "source": [
    "Let's use the following program to play the game a couple of times."
   ]
  },
  {
   "cell_type": "code",
   "execution_count": null,
   "metadata": {
    "ExecuteTime": {
     "end_time": "2021-03-20T14:35:16.953731Z",
     "start_time": "2021-03-20T14:35:16.949245Z"
    },
    "code_folding": [],
    "slideshow": {
     "slide_type": "-"
    }
   },
   "outputs": [],
   "source": [
    "import random\n",
    "\n",
    "\n",
    "def play_monty_hall(num_of_doors=3):\n",
    "    \"\"\"Main function to run the Monty Hall game.\"\"\"\n",
    "    doors = {str(i) for i in range(num_of_doors)}\n",
    "    door_with_treasure = random.sample(doors, 1)[0]\n",
    "\n",
    "    # Input initial pick of the door.\n",
    "    while True:\n",
    "        initial_pick = input(f'Pick a door from {\", \".join(sorted(doors))}: ')\n",
    "        if initial_pick in doors:\n",
    "            break\n",
    "\n",
    "    # Open all but one other door. Opened door must have nothing.\n",
    "    doors_to_open = doors - {initial_pick, door_with_treasure}\n",
    "    other_door = (\n",
    "        door_with_treasure\n",
    "        if initial_pick != door_with_treasure\n",
    "        else doors_to_open.pop()\n",
    "    )\n",
    "    print(\"Door(s) with nothing behind:\", *doors_to_open)\n",
    "\n",
    "    # Allow player to change the initial pick the other (unopened) door.\n",
    "    change_pick = (\n",
    "        input(f\"Would you like to change your choice to {other_door}? [y/N] \").lower()\n",
    "        == \"y\"\n",
    "    )\n",
    "\n",
    "    # Check and record winning.\n",
    "    if not change_pick:\n",
    "        mh_stats[\"# no change\"] += 1\n",
    "        if door_with_treasure == initial_pick:\n",
    "            mh_stats[\"# win without changing\"] += 1\n",
    "            return print(\"You won!\")\n",
    "    else:\n",
    "        mh_stats[\"# change\"] += 1\n",
    "        if door_with_treasure == other_door:\n",
    "            mh_stats[\"# win by changing\"] += 1\n",
    "            return print(\"You won!\")\n",
    "    print(f\"You lost. The door with treasure is {door_with_treasure}.\")\n",
    "\n",
    "\n",
    "mh_stats = dict.fromkeys(\n",
    "    (\"# win by changing\", \"# win without changing\", \"# change\", \"# no change\"), 0\n",
    ")\n",
    "\n",
    "\n",
    "def monty_hall_statistics():\n",
    "    \"\"\"Print the statistics of the Monty Hall games.\"\"\"\n",
    "    print(\"-\" * 30, \"Statistics\", \"-\" * 30)\n",
    "    if mh_stats[\"# change\"]:\n",
    "        print(\n",
    "            f\"% win by changing: \\\n",
    "        {mh_stats['# win by changing'] / mh_stats['# change']:.0%}\"\n",
    "        )\n",
    "    if mh_stats[\"# no change\"]:\n",
    "        print(\n",
    "            f\"% win without changing: \\\n",
    "        {mh_stats['# win without changing']/mh_stats['# no change']:.0%}\"\n",
    "        )"
   ]
  },
  {
   "cell_type": "code",
   "execution_count": null,
   "metadata": {
    "ExecuteTime": {
     "end_time": "2020-11-25T01:23:30.120232Z",
     "start_time": "2020-11-25T01:23:24.086494Z"
    },
    "slideshow": {
     "slide_type": "subslide"
    },
    "tags": [
     "remove-output"
    ]
   },
   "outputs": [],
   "source": [
    "play_monty_hall()\n",
    "monty_hall_statistics()"
   ]
  },
  {
   "cell_type": "markdown",
   "metadata": {
    "slideshow": {
     "slide_type": "fragment"
    }
   },
   "source": [
    "You may also [play the game online](https://math.ucsd.edu/~crypto/Monty/monty.html)."
   ]
  },
  {
   "cell_type": "markdown",
   "metadata": {
    "slideshow": {
     "slide_type": "subslide"
    }
   },
   "source": [
    "To get a good estimate of the chance of winning, we need to play the game many times.  \n",
    "We can write a Monty-Carlo simulation instead."
   ]
  },
  {
   "cell_type": "code",
   "execution_count": null,
   "metadata": {
    "ExecuteTime": {
     "end_time": "2021-03-20T14:35:37.198841Z",
     "start_time": "2021-03-20T14:35:35.984213Z"
    },
    "deletable": false,
    "editable": false,
    "nbgrader": {
     "cell_type": "code",
     "checksum": "e8cf784178caa46c7fbd46c61ba83e54",
     "grade": false,
     "grade_id": "monty-hall",
     "locked": true,
     "schema_version": 3,
     "solution": false,
     "task": false
    },
    "slideshow": {
     "slide_type": "-"
    }
   },
   "outputs": [],
   "source": [
    "# Do not change any variables defined here, or some of the tests may fail.\n",
    "import numpy as np\n",
    "\n",
    "np.random.randint?\n",
    "\n",
    "np.random.seed(0)  # for reproducible result\n",
    "num_of_games = int(10e7)\n",
    "door_with_treasure = np.random.randint(1, 4, num_of_games, dtype=np.uint8)\n",
    "initial_pick = np.random.randint(1, 4, num_of_games, dtype=np.uint8)\n",
    "\n",
    "print(f\"{'Door with treasure:':>19}\", *door_with_treasure[:10], \"...\")\n",
    "print(f\"{'Initial pick:':>19}\", *initial_pick[:10], \"...\")"
   ]
  },
  {
   "cell_type": "markdown",
   "metadata": {
    "slideshow": {
     "slide_type": "fragment"
    }
   },
   "source": [
    "- `door_with_treasure` stores as 8-bit unsigned integers `uint8` the door numbers randomly chosen from $\\{1, 2, 3\\}$ as the doors with treasure behind for a number `num_of_games` of Monty-Hall games.\n",
    "- `initial_pick` stores the initial choices for the different games."
   ]
  },
  {
   "cell_type": "markdown",
   "metadata": {
    "slideshow": {
     "slide_type": "fragment"
    }
   },
   "source": [
    "If players do not change their initial pick, the chance of winning can be estimated as follows:"
   ]
  },
  {
   "cell_type": "code",
   "execution_count": null,
   "metadata": {
    "ExecuteTime": {
     "end_time": "2021-03-20T14:35:41.361942Z",
     "start_time": "2021-03-20T14:35:41.152117Z"
    },
    "code_folding": []
   },
   "outputs": [],
   "source": [
    "def estimate_chance_of_winning_without_change(door_with_treasure, initial_pick):\n",
    "    \"\"\"Estimate the chance of winning the Monty Hall game without changing\n",
    "    the initial pick using the Monte Carlo simulation of door_with_treasure\n",
    "    and initial_pick.\"\"\"\n",
    "    count_of_win = 0\n",
    "    for x, y in zip(door_with_treasure, initial_pick):\n",
    "        if x == y:\n",
    "            count_of_win += 1\n",
    "    return count_of_win / n\n",
    "\n",
    "\n",
    "n = num_of_games // 100\n",
    "estimate_chance_of_winning_without_change(door_with_treasure[:n], initial_pick[:n])"
   ]
  },
  {
   "cell_type": "markdown",
   "metadata": {},
   "source": [
    "However, the above code is inefficient and takes a long time to run. You may try running it on the entire sequences of `door_with_treasure` and `initial_pick` but **DO NOT** put the code in your notebook, as jupyterhub refuses to autograde notebook that take too much time or memory to run."
   ]
  },
  {
   "cell_type": "markdown",
   "metadata": {
    "slideshow": {
     "slide_type": "fragment"
    }
   },
   "source": [
    "A simpler and also more efficient solution with well over 100 times speed up is as follows:"
   ]
  },
  {
   "cell_type": "code",
   "execution_count": null,
   "metadata": {
    "ExecuteTime": {
     "end_time": "2021-03-20T14:35:44.710183Z",
     "start_time": "2021-03-20T14:35:44.591395Z"
    },
    "slideshow": {
     "slide_type": "-"
    }
   },
   "outputs": [],
   "source": [
    "def estimate_chance_of_winning_without_change(door_with_treasure, initial_pick):\n",
    "    \"\"\"Estimate the chance of winning the Monty Hall game without changing\n",
    "    the initial pick using the Monte Carlo simulation of door_with_treasure\n",
    "    and initial_pick.\"\"\"\n",
    "    return (door_with_treasure == initial_pick).mean()\n",
    "\n",
    "\n",
    "estimate_chance_of_winning_without_change(door_with_treasure, initial_pick)"
   ]
  },
  {
   "cell_type": "markdown",
   "metadata": {
    "slideshow": {
     "slide_type": "fragment"
    }
   },
   "source": [
    "The code uses the method `mean` of `ndarray` that computes the mean of the `numpy` array.  \n",
    "In computing the mean, `True` and `False` are regarded as `1` and `0` respectively, as illustrated below."
   ]
  },
  {
   "cell_type": "code",
   "execution_count": null,
   "metadata": {
    "ExecuteTime": {
     "end_time": "2020-11-25T01:27:50.981923Z",
     "start_time": "2020-11-25T01:27:50.976334Z"
    },
    "slideshow": {
     "slide_type": "-"
    }
   },
   "outputs": [],
   "source": [
    "for i in True, False:\n",
    "    for j in True, False:\n",
    "        print(f\"{i} + {j} == {i + j}\")"
   ]
  },
  {
   "cell_type": "markdown",
   "metadata": {
    "slideshow": {
     "slide_type": "subslide"
    }
   },
   "source": [
    "**Exercise** Define the function `estimate_chance_of_winning_by_change` same as `estimate_chance_of_winning_without_change` above but returns the estimate of the chance of winning by changing the initial choice instead. Again, *implement efficiently or jupyterhub may refuse to autograde your entire notebook*.\n",
    "\n",
    "*Hint:* Since there are only two unopened doors at the end of each game, a player will win by changing the initial pick if the initially picked door is not the door with treasure behind."
   ]
  },
  {
   "cell_type": "code",
   "execution_count": null,
   "metadata": {
    "ExecuteTime": {
     "end_time": "2021-03-20T14:35:47.652739Z",
     "start_time": "2021-03-20T14:35:47.650310Z"
    },
    "deletable": false,
    "nbgrader": {
     "cell_type": "code",
     "checksum": "6b9be14256e67db2acf4f2ae073a57ae",
     "grade": false,
     "grade_id": "switch",
     "locked": false,
     "schema_version": 3,
     "solution": true,
     "task": false
    },
    "slideshow": {
     "slide_type": "-"
    },
    "tags": [
     "remove-output"
    ]
   },
   "outputs": [],
   "source": [
    "def estimate_chance_of_winning_by_change(door_with_treasure, initial_pick):\n",
    "    \"\"\"Estimate the chance of winning the Monty Hall game by changing\n",
    "    the initial pick using the Monte Carlo simulation of door_with_treasure\n",
    "    and initial_pick.\"\"\"\n",
    "    # YOUR CODE HERE\n",
    "    raise NotImplementedError()"
   ]
  },
  {
   "cell_type": "code",
   "execution_count": null,
   "metadata": {
    "ExecuteTime": {
     "end_time": "2021-03-20T14:35:48.640288Z",
     "start_time": "2021-03-20T14:35:48.518295Z"
    },
    "deletable": false,
    "editable": false,
    "nbgrader": {
     "cell_type": "code",
     "checksum": "29d0c3318c2c66dbf7c1792859a908ca",
     "grade": true,
     "grade_id": "test-switch",
     "locked": true,
     "points": 1,
     "schema_version": 3,
     "solution": false,
     "task": false
    },
    "slideshow": {
     "slide_type": "-"
    },
    "tags": [
     "hide-input",
     "remove-output"
    ]
   },
   "outputs": [],
   "source": [
    "# tests\n",
    "assert np.isclose(\n",
    "    estimate_chance_of_winning_by_change(door_with_treasure[:10], initial_pick[:10]),\n",
    "    0.7,\n",
    ")"
   ]
  },
  {
   "cell_type": "code",
   "execution_count": null,
   "metadata": {
    "deletable": false,
    "editable": false,
    "nbgrader": {
     "cell_type": "code",
     "checksum": "4d5596f079ce618f7b208bfaa5df26e5",
     "grade": true,
     "grade_id": "h_test-switch",
     "locked": true,
     "points": 1,
     "schema_version": 3,
     "solution": false,
     "task": false
    },
    "tags": [
     "remove-cell"
    ]
   },
   "outputs": [],
   "source": [
    "# hidden tests"
   ]
  },
  {
   "cell_type": "markdown",
   "metadata": {
    "slideshow": {
     "slide_type": "subslide"
    }
   },
   "source": [
    "## Solving a 3-by-3 system of linear equations"
   ]
  },
  {
   "cell_type": "markdown",
   "metadata": {
    "slideshow": {
     "slide_type": "fragment"
    }
   },
   "source": [
    "`numpy` has a module `linalg` for linear algebra, and the module provides a function called `solve` that can solve a system of linear equations. For the example in the lecture\n",
    "\n",
    "$$\n",
    "\\begin{aligned}\n",
    "2 x_0 + 2 x_1 &= 1\\\\\n",
    "2 x_1 &= 1,\n",
    "\\end{aligned}\n",
    "$$\n",
    "we can obtain the solution as follows:"
   ]
  },
  {
   "cell_type": "code",
   "execution_count": null,
   "metadata": {
    "ExecuteTime": {
     "end_time": "2020-11-22T12:56:16.383153Z",
     "start_time": "2020-11-22T12:56:16.335722Z"
    },
    "slideshow": {
     "slide_type": "fragment"
    }
   },
   "outputs": [],
   "source": [
    "np.linalg.solve?\n",
    "A = np.array([[2.0, 2], [0, 2]])\n",
    "b = np.array([1.0, 1])\n",
    "x = np.linalg.solve(A, b)"
   ]
  },
  {
   "cell_type": "markdown",
   "metadata": {
    "slideshow": {
     "slide_type": "fragment"
    }
   },
   "source": [
    "As explained in the lecture, the arguments `A` and `b` are obtained from the matrix form of the system of linear equations:\n",
    "\n",
    "$$\n",
    "\\underbrace{\n",
    "\\begin{bmatrix}\n",
    "2 & 2\\\\\n",
    "0 & 2\n",
    "\\end{bmatrix}}_{\\mathbf{A}}\n",
    "\\underbrace{\n",
    "\\begin{bmatrix}\n",
    "x_0\\\\ x_1\n",
    "\\end{bmatrix}}_{\\mathbf{x}}\n",
    "= \n",
    "\\underbrace{\n",
    "\\begin{bmatrix}\n",
    "1 \\\\ 1\n",
    "\\end{bmatrix}\n",
    "}_{\\mathbf{b}}\n",
    "$$"
   ]
  },
  {
   "cell_type": "markdown",
   "metadata": {
    "slideshow": {
     "slide_type": "fragment"
    }
   },
   "source": [
    "However, the function returns an error when there is no unique solutions. "
   ]
  },
  {
   "cell_type": "code",
   "execution_count": null,
   "metadata": {
    "ExecuteTime": {
     "end_time": "2020-11-22T17:42:05.410488Z",
     "start_time": "2020-11-22T17:42:05.392109Z"
    },
    "slideshow": {
     "slide_type": "-"
    }
   },
   "outputs": [],
   "source": [
    "# Case with infinitely many solution\n",
    "A = np.array([[2.0, 2], [2, 2]])\n",
    "b = np.array([1.0, 1])\n",
    "x = np.linalg.solve(A, b)"
   ]
  },
  {
   "cell_type": "code",
   "execution_count": null,
   "metadata": {
    "ExecuteTime": {
     "end_time": "2020-11-22T17:42:06.874801Z",
     "start_time": "2020-11-22T17:42:06.861330Z"
    },
    "slideshow": {
     "slide_type": "-"
    }
   },
   "outputs": [],
   "source": [
    "# Case without solution\n",
    "A = np.array([[2.0, 2], [2, 2]])\n",
    "b = np.array([1.0, 0])\n",
    "x = np.linalg.solve(A, b)"
   ]
  },
  {
   "cell_type": "markdown",
   "metadata": {
    "slideshow": {
     "slide_type": "fragment"
    }
   },
   "source": [
    "A unique solution does not exist if and only if the [determinant](https://en.m.wikipedia.org/wiki/Determinant) of $\\mathbf{A}$ is $0$, in which case $\\mathbf{A}$ is called a singular matrix. For a $2$-by-$2$ matrix, the determinant is defined as follows:\n",
    "\n",
    "$$ \n",
    "\\begin{aligned}\n",
    "\\operatorname{det}(A) &:= \\left| \n",
    "\\begin{matrix}\n",
    "a_{00} & a_{01}\\\\\n",
    "a_{10} & a_{11}\n",
    "\\end{matrix}\n",
    "\\right|\\\\\n",
    "&= a_{00}\\times a_{11} - a_{01}\\times a_{10}.\n",
    "\\end{aligned}\n",
    "$$"
   ]
  },
  {
   "cell_type": "markdown",
   "metadata": {
    "slideshow": {
     "slide_type": "fragment"
    }
   },
   "source": [
    "For example, the first system has a unique solution because\n",
    "\n",
    "$$\n",
    "\\left|\n",
    "\\begin{matrix}\n",
    "2 & 2\\\\\n",
    "0 & 2\n",
    "\\end{matrix}\n",
    "\\right|\n",
    "= 2\\times 2 - 2\\times 0 = 4>0.\n",
    "$$\n",
    "The last two systems do not have unique solutions because\n",
    "\n",
    "$$\n",
    "\\left|\n",
    "\\begin{matrix}\n",
    "2 & 2\\\\\n",
    "2 & 2\n",
    "\\end{matrix}\n",
    "\\right|\n",
    "= 2\\times 2 - 2\\times 2 = 0.\n",
    "$$\n",
    "We can use the function `det` from `np.linalg` to compute the determinant as follows:"
   ]
  },
  {
   "cell_type": "code",
   "execution_count": null,
   "metadata": {},
   "outputs": [],
   "source": [
    "np.linalg.det?\n",
    "np.linalg.det(np.array([[2.0, 2], [0, 2]])), np.linalg.det(np.array([[2.0, 2], [2, 2]]))"
   ]
  },
  {
   "cell_type": "markdown",
   "metadata": {
    "slideshow": {
     "slide_type": "subslide"
    }
   },
   "source": [
    "**Exercise** Use the `det` and `solve` functions to assign `x` to the `numpy` array storing the solution of the following linear system if the solution is unique else `None`.\n",
    "\n",
    "$$\n",
    "\\begin{aligned}\n",
    "x_0 + 2 x_1 + 3x_2 &= 14\\\\\n",
    "2x_0 + x_1 + 2x_2 &= 10\\\\\n",
    "3 x_0 + 2x_1 + x_2 &= 10.\n",
    "\\end{aligned}\n",
    "$$"
   ]
  },
  {
   "cell_type": "code",
   "execution_count": null,
   "metadata": {
    "ExecuteTime": {
     "end_time": "2020-11-22T12:56:33.568116Z",
     "start_time": "2020-11-22T12:56:33.561294Z"
    },
    "deletable": false,
    "nbgrader": {
     "cell_type": "code",
     "checksum": "c08555513b5b41d8863530cc1d01888d",
     "grade": false,
     "grade_id": "linalg",
     "locked": false,
     "schema_version": 3,
     "solution": true,
     "task": false
    },
    "slideshow": {
     "slide_type": "-"
    },
    "tags": [
     "remove-output"
    ]
   },
   "outputs": [],
   "source": [
    "# YOUR CODE HERE\n",
    "raise NotImplementedError()\n",
    "x"
   ]
  },
  {
   "cell_type": "code",
   "execution_count": null,
   "metadata": {
    "ExecuteTime": {
     "end_time": "2020-11-22T12:56:33.583163Z",
     "start_time": "2020-11-22T12:56:33.571641Z"
    },
    "code_folding": [],
    "deletable": false,
    "editable": false,
    "nbgrader": {
     "cell_type": "code",
     "checksum": "f560fce9950282f5284df26adf91772c",
     "grade": true,
     "grade_id": "test-linalg",
     "locked": true,
     "points": 1,
     "schema_version": 3,
     "solution": false,
     "task": false
    },
    "slideshow": {
     "slide_type": "-"
    },
    "tags": [
     "hide-input",
     "remove-output"
    ]
   },
   "outputs": [],
   "source": [
    "# tests\n",
    "# As the main test must be hidden, you may want to verify your solution\n",
    "# as explained in the lecture using matrix multiplication.\n",
    "assert isinstance(x, np.ndarray) and x.shape == (3,)"
   ]
  },
  {
   "cell_type": "code",
   "execution_count": null,
   "metadata": {
    "deletable": false,
    "editable": false,
    "nbgrader": {
     "cell_type": "code",
     "checksum": "824c6e9697bed8dce93e16c5fe9d852f",
     "grade": true,
     "grade_id": "h_test-linalg",
     "locked": true,
     "points": 1,
     "schema_version": 3,
     "solution": false,
     "task": false
    },
    "tags": [
     "remove-cell"
    ]
   },
   "outputs": [],
   "source": [
    "# hidden tests"
   ]
  },
  {
   "cell_type": "markdown",
   "metadata": {
    "slideshow": {
     "slide_type": "subslide"
    }
   },
   "source": [
    "## Solving non-linear equations"
   ]
  },
  {
   "cell_type": "markdown",
   "metadata": {
    "slideshow": {
     "slide_type": "fragment"
    }
   },
   "source": [
    "Suppose we want to solve:\n",
    "\n",
    "$$\n",
    "f(x) = 0\n",
    "$$\n",
    "for some possibly non-linear real-valued function $f(x)$ in one real-valued variable $x$. Quadratic equation with an $x^2$ term is an example. The following is another example."
   ]
  },
  {
   "cell_type": "code",
   "execution_count": null,
   "metadata": {
    "ExecuteTime": {
     "end_time": "2020-11-22T12:56:34.352408Z",
     "start_time": "2020-11-22T12:56:33.751918Z"
    },
    "slideshow": {
     "slide_type": "-"
    }
   },
   "outputs": [],
   "source": [
    "%matplotlib inline\n",
    "import matplotlib.pyplot as plt\n",
    "import numpy as np\n",
    "\n",
    "f = lambda x: x * (x - 1) * (x - 2)\n",
    "x = np.linspace(-0.5, 2.5)\n",
    "plt.plot(x, f(x))\n",
    "plt.axhline(color=\"gray\", linestyle=\":\")\n",
    "plt.xlabel(r\"$x$\")\n",
    "plt.title(r\"Plot of $f(x)=x(x-1)(x-2)$\")\n",
    "plt.show()"
   ]
  },
  {
   "cell_type": "markdown",
   "metadata": {
    "slideshow": {
     "slide_type": "fragment"
    }
   },
   "source": [
    "While it is clear that the above function has three roots, namely, $x=0, 1, 2$, can we write a program to compute a root of any given continuous function $f$?"
   ]
  },
  {
   "cell_type": "code",
   "execution_count": null,
   "metadata": {
    "ExecuteTime": {
     "end_time": "2020-11-22T12:56:34.358746Z",
     "start_time": "2020-11-22T12:56:34.354260Z"
    },
    "slideshow": {
     "slide_type": "subslide"
    }
   },
   "outputs": [],
   "source": [
    "%%html\n",
    "<iframe width=\"800\" height=\"450\" src=\"https://www.youtube.com/embed/PXSLcEGkXkU\" frameborder=\"0\" allow=\"accelerometer; autoplay; clipboard-write; encrypted-media; gyroscope; picture-in-picture\" allowfullscreen></iframe>"
   ]
  },
  {
   "cell_type": "markdown",
   "metadata": {
    "slideshow": {
     "slide_type": "subslide"
    }
   },
   "source": [
    "The following function `bisection` \n",
    "- takes as arguments \n",
    "  - a continuous function `f`,\n",
    "  - two real values `a` and `b`, \n",
    "  - a positive integer `n` indicating the maximum depth of the recursion, and\n",
    "- returns a list `[xstart, xstop]` if the bisection succeeds in capturing a root in the interval `[xstart, xstop]` bounded by `a` and `b`, or else, returns a empty list `[]`."
   ]
  },
  {
   "cell_type": "code",
   "execution_count": null,
   "metadata": {
    "ExecuteTime": {
     "end_time": "2020-11-22T12:56:34.594223Z",
     "start_time": "2020-11-22T12:56:34.360732Z"
    },
    "code_folding": [
     13
    ],
    "slideshow": {
     "slide_type": "-"
    }
   },
   "outputs": [],
   "source": [
    "def bisection(f, a, b, n=10):\n",
    "    if f(a) * f(b) > 0:\n",
    "        return []  # because f(x) may not have a root between x=a and x=b\n",
    "    elif n <= 0:  # base case when recursion cannot go any deeper\n",
    "        return [a, b] if a <= b else [b, a]\n",
    "    else:\n",
    "        c = (a + b) / 2  # bisect the interval between a and b\n",
    "        return bisection(f, a, c, n - 1) or bisection(f, c, b, n - 1)  # recursion\n",
    "\n",
    "\n",
    "# bisection solver\n",
    "import ipywidgets as widgets\n",
    "\n",
    "\n",
    "@widgets.interact(a=(-0.5, 2.5, 0.5), b=(-0.5, 2.5, 0.5), n=(0, 10, 1))\n",
    "def bisection_solver(a=-0.5, b=0.5, n=0):\n",
    "    x = np.linspace(-0.5, 2.5)\n",
    "    plt.plot(x, f(x))\n",
    "    plt.axhline(color=\"gray\", linestyle=\":\")\n",
    "    plt.xlabel(r\"$x$\")\n",
    "    plt.title(r\"Bisection on $f(x)$\")\n",
    "    [xstart, xstop] = bisection(f, a, b, n)\n",
    "    plt.plot([xstart, xstop], [0, 0], \"r|-\")\n",
    "    print(\"Interval: \", [xstart, xstop])"
   ]
  },
  {
   "cell_type": "markdown",
   "metadata": {
    "slideshow": {
     "slide_type": "fragment"
    }
   },
   "source": [
    "Try setting the values of $a$ and $b$ as follows and change $n$ to see the change of the interval step-by-step."
   ]
  },
  {
   "cell_type": "code",
   "execution_count": null,
   "metadata": {
    "ExecuteTime": {
     "end_time": "2020-11-22T12:56:34.601549Z",
     "start_time": "2020-11-22T12:56:34.596170Z"
    },
    "slideshow": {
     "slide_type": "-"
    }
   },
   "outputs": [],
   "source": [
    "bisection(f, -0.5, 0.5), bisection(f, 1.5, 0.5), bisection(f, -0.1, 2.5)"
   ]
  },
  {
   "cell_type": "markdown",
   "metadata": {
    "slideshow": {
     "slide_type": "subslide"
    }
   },
   "source": [
    "**Exercise** Modify the function `bisection` to \n",
    "- take the floating point parameter `tol` instead of `n`, and\n",
    "- return the interval from the bisection method represented by a list `[xstart,xstop]` but as soon as the gap `xstop - xstart` is $\\leq$ `tol`."
   ]
  },
  {
   "cell_type": "code",
   "execution_count": null,
   "metadata": {
    "ExecuteTime": {
     "end_time": "2020-11-22T12:56:34.612478Z",
     "start_time": "2020-11-22T12:56:34.603264Z"
    },
    "deletable": false,
    "nbgrader": {
     "cell_type": "code",
     "checksum": "6a4aae6b76256c6f757465fd4a93bed5",
     "grade": false,
     "grade_id": "bisection",
     "locked": false,
     "schema_version": 3,
     "solution": true,
     "task": false
    },
    "slideshow": {
     "slide_type": "-"
    },
    "tags": [
     "remove-output"
    ]
   },
   "outputs": [],
   "source": [
    "def bisection(f, a, b, tol=1e-9):\n",
    "    # YOUR CODE HERE\n",
    "    raise NotImplementedError()"
   ]
  },
  {
   "cell_type": "code",
   "execution_count": null,
   "metadata": {
    "ExecuteTime": {
     "end_time": "2020-11-22T12:56:34.627595Z",
     "start_time": "2020-11-22T12:56:34.614456Z"
    },
    "deletable": false,
    "editable": false,
    "nbgrader": {
     "cell_type": "code",
     "checksum": "9a4773619b4121dae5ed5c59c984e0fb",
     "grade": true,
     "grade_id": "test-bisection",
     "locked": true,
     "points": 1,
     "schema_version": 3,
     "solution": false,
     "task": false
    },
    "slideshow": {
     "slide_type": "-"
    },
    "tags": [
     "hide-input",
     "remove-output"
    ]
   },
   "outputs": [],
   "source": [
    "# tests\n",
    "import numpy as np\n",
    "\n",
    "f = lambda x: x * (x - 1) * (x - 2)\n",
    "bisection(f, 1.5, 0.5)\n",
    "assert np.isclose(bisection(f, -0.5, 0.5), [-9.313225746154785e-10, 0.0]).all()\n",
    "assert np.isclose(bisection(f, 1.5, 0.5, 1e-2), [1.0, 1.0078125]).all()\n",
    "assert np.isclose(\n",
    "    bisection(f, -0.1, 2.5, 1e-3), [1.9998046875000002, 2.0004394531250003]\n",
    ").all()"
   ]
  },
  {
   "cell_type": "code",
   "execution_count": null,
   "metadata": {
    "deletable": false,
    "editable": false,
    "nbgrader": {
     "cell_type": "code",
     "checksum": "8160b43badb41f359045b5d097afe543",
     "grade": true,
     "grade_id": "h_test-bisection",
     "locked": true,
     "points": 1,
     "schema_version": 3,
     "solution": false,
     "task": false
    },
    "tags": [
     "remove-cell"
    ]
   },
   "outputs": [],
   "source": [
    "# hidden tests"
   ]
  }
 ],
 "metadata": {
  "kernelspec": {
   "display_name": "Python 3 (ipykernel)",
   "language": "python",
   "name": "python3"
  },
  "language_info": {
   "codemirror_mode": {
    "name": "ipython",
    "version": 3
   },
   "file_extension": ".py",
   "mimetype": "text/x-python",
   "name": "python",
   "nbconvert_exporter": "python",
   "pygments_lexer": "ipython3",
   "version": "3.8.12"
  },
  "latex_envs": {
   "LaTeX_envs_menu_present": true,
   "autoclose": false,
   "autocomplete": true,
   "bibliofile": "biblio.bib",
   "cite_by": "apalike",
   "current_citInitial": 1,
   "eqLabelWithNumbers": true,
   "eqNumInitial": 1,
   "hotkeys": {
    "equation": "Ctrl-E",
    "itemize": "Ctrl-I"
   },
   "labels_anchors": false,
   "latex_user_defs": false,
   "report_style_numbering": false,
   "user_envs_cfg": false
  },
  "rise": {
   "enable_chalkboard": true,
   "scroll": true,
   "theme": "white"
  },
  "toc": {
   "base_numbering": 1,
   "nav_menu": {
    "height": "195px",
    "width": "330px"
   },
   "number_sections": true,
   "sideBar": true,
   "skip_h1_title": true,
   "title_cell": "Table of Contents",
   "title_sidebar": "Contents",
   "toc_cell": false,
   "toc_position": {
    "height": "454.418px",
    "left": "1533px",
    "top": "110.284px",
    "width": "261px"
   },
   "toc_section_display": true,
   "toc_window_display": false
  },
  "widgets": {
   "application/vnd.jupyter.widget-state+json": {
    "state": {
     "0dde54b83c694d6bb4a5adace8f01d96": {
      "model_module": "@jupyter-widgets/controls",
      "model_module_version": "1.5.0",
      "model_name": "SliderStyleModel",
      "state": {
       "description_width": ""
      }
     },
     "0f989d124da24e8e8503288d791094f9": {
      "model_module": "@jupyter-widgets/base",
      "model_module_version": "1.2.0",
      "model_name": "LayoutModel",
      "state": {}
     },
     "1729e47705714741b073abe6625c0da7": {
      "model_module": "@jupyter-widgets/controls",
      "model_module_version": "1.5.0",
      "model_name": "FloatSliderModel",
      "state": {
       "description": "b",
       "layout": "IPY_MODEL_0f989d124da24e8e8503288d791094f9",
       "max": 2.5,
       "min": -0.5,
       "step": 0.5,
       "style": "IPY_MODEL_0dde54b83c694d6bb4a5adace8f01d96",
       "value": 0.5
      }
     },
     "1b2d8175d113491fbcc487c2e7e4cf96": {
      "model_module": "@jupyter-widgets/controls",
      "model_module_version": "1.5.0",
      "model_name": "VBoxModel",
      "state": {
       "_dom_classes": [
        "widget-interact"
       ],
       "children": [
        "IPY_MODEL_f99f1fa2710e473495ef01359245b2b4",
        "IPY_MODEL_70b617dc5dc6430f952fd74df2de4867",
        "IPY_MODEL_8b0d74bcadce49d384a2309f9de2e6e4",
        "IPY_MODEL_6251ce0b987248468a14c22e057c6f41"
       ],
       "layout": "IPY_MODEL_6fffada7a2884abb8176b7c271629dc2"
      }
     },
     "284595bfe9be48cb8be00de6856ab404": {
      "model_module": "@jupyter-widgets/controls",
      "model_module_version": "1.5.0",
      "model_name": "SliderStyleModel",
      "state": {
       "description_width": ""
      }
     },
     "34a7e5df137e465e85e3d4e8f2035736": {
      "model_module": "@jupyter-widgets/controls",
      "model_module_version": "1.5.0",
      "model_name": "SliderStyleModel",
      "state": {
       "description_width": ""
      }
     },
     "43d1027ec8774b258f03fd84aa4e2bda": {
      "model_module": "@jupyter-widgets/base",
      "model_module_version": "1.2.0",
      "model_name": "LayoutModel",
      "state": {}
     },
     "50344185515849e7926290be99a63b6e": {
      "model_module": "@jupyter-widgets/base",
      "model_module_version": "1.2.0",
      "model_name": "LayoutModel",
      "state": {}
     },
     "6251ce0b987248468a14c22e057c6f41": {
      "model_module": "@jupyter-widgets/output",
      "model_module_version": "1.0.0",
      "model_name": "OutputModel",
      "state": {
       "layout": "IPY_MODEL_50344185515849e7926290be99a63b6e",
       "outputs": [
        {
         "name": "stdout",
         "output_type": "stream",
         "text": "Interval:  [-0.03125, 0.015625]\n"
        },
        {
         "data": {
          "image/png": "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\n",
          "text/plain": "<Figure size 432x288 with 1 Axes>"
         },
         "metadata": {
          "needs_background": "light"
         },
         "output_type": "display_data"
        }
       ]
      }
     },
     "6fffada7a2884abb8176b7c271629dc2": {
      "model_module": "@jupyter-widgets/base",
      "model_module_version": "1.2.0",
      "model_name": "LayoutModel",
      "state": {}
     },
     "70b617dc5dc6430f952fd74df2de4867": {
      "model_module": "@jupyter-widgets/controls",
      "model_module_version": "1.5.0",
      "model_name": "FloatSliderModel",
      "state": {
       "description": "b",
       "layout": "IPY_MODEL_8bbba1864d4a42138880c4866469d886",
       "max": 2.5,
       "min": -0.5,
       "step": 0.5,
       "style": "IPY_MODEL_c900e2ac7f0e441aa76b2263987331ce",
       "value": 2.5
      }
     },
     "8994431477df4e7faf86f274a4eec0d1": {
      "model_module": "@jupyter-widgets/base",
      "model_module_version": "1.2.0",
      "model_name": "LayoutModel",
      "state": {}
     },
     "8b0d74bcadce49d384a2309f9de2e6e4": {
      "model_module": "@jupyter-widgets/controls",
      "model_module_version": "1.5.0",
      "model_name": "IntSliderModel",
      "state": {
       "description": "n",
       "layout": "IPY_MODEL_43d1027ec8774b258f03fd84aa4e2bda",
       "max": 10,
       "style": "IPY_MODEL_34a7e5df137e465e85e3d4e8f2035736",
       "value": 6
      }
     },
     "8bbba1864d4a42138880c4866469d886": {
      "model_module": "@jupyter-widgets/base",
      "model_module_version": "1.2.0",
      "model_name": "LayoutModel",
      "state": {}
     },
     "902def05c8504cc9814609b7c1d55999": {
      "model_module": "@jupyter-widgets/base",
      "model_module_version": "1.2.0",
      "model_name": "LayoutModel",
      "state": {}
     },
     "aab47383b06542adbd713a8a9ce9c2b0": {
      "model_module": "@jupyter-widgets/controls",
      "model_module_version": "1.5.0",
      "model_name": "SliderStyleModel",
      "state": {
       "description_width": ""
      }
     },
     "c168bb567d0541e6bcf0c33034f05737": {
      "model_module": "@jupyter-widgets/controls",
      "model_module_version": "1.5.0",
      "model_name": "VBoxModel",
      "state": {
       "_dom_classes": [
        "widget-interact"
       ],
       "children": [
        "IPY_MODEL_e4151565e61e41c592ef0dc815b95a57",
        "IPY_MODEL_1729e47705714741b073abe6625c0da7",
        "IPY_MODEL_c83dcecdf3c44309b97598b1c4b5808f",
        "IPY_MODEL_e3d7d63ccede44a8ba9a7b3d85e306e9"
       ],
       "layout": "IPY_MODEL_d01dd8a6cd57483dbfb2fa4de602351e"
      }
     },
     "c83dcecdf3c44309b97598b1c4b5808f": {
      "model_module": "@jupyter-widgets/controls",
      "model_module_version": "1.5.0",
      "model_name": "IntSliderModel",
      "state": {
       "description": "n",
       "layout": "IPY_MODEL_ec5b1a92ac124073a3b5b2376c883ce9",
       "max": 10,
       "style": "IPY_MODEL_ee9a81f257044a8cac74339435c47ade"
      }
     },
     "c900e2ac7f0e441aa76b2263987331ce": {
      "model_module": "@jupyter-widgets/controls",
      "model_module_version": "1.5.0",
      "model_name": "SliderStyleModel",
      "state": {
       "description_width": ""
      }
     },
     "cd8ac74e5acf418b858fb8633b750dfb": {
      "model_module": "@jupyter-widgets/base",
      "model_module_version": "1.2.0",
      "model_name": "LayoutModel",
      "state": {}
     },
     "d01dd8a6cd57483dbfb2fa4de602351e": {
      "model_module": "@jupyter-widgets/base",
      "model_module_version": "1.2.0",
      "model_name": "LayoutModel",
      "state": {}
     },
     "e3d7d63ccede44a8ba9a7b3d85e306e9": {
      "model_module": "@jupyter-widgets/output",
      "model_module_version": "1.0.0",
      "model_name": "OutputModel",
      "state": {
       "layout": "IPY_MODEL_902def05c8504cc9814609b7c1d55999",
       "outputs": [
        {
         "name": "stdout",
         "output_type": "stream",
         "text": "Interval:  [-0.5, 0.5]\n"
        },
        {
         "data": {
          "image/png": "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\n",
          "text/plain": "<Figure size 432x288 with 1 Axes>"
         },
         "metadata": {
          "needs_background": "light"
         },
         "output_type": "display_data"
        }
       ]
      }
     },
     "e4151565e61e41c592ef0dc815b95a57": {
      "model_module": "@jupyter-widgets/controls",
      "model_module_version": "1.5.0",
      "model_name": "FloatSliderModel",
      "state": {
       "description": "a",
       "layout": "IPY_MODEL_cd8ac74e5acf418b858fb8633b750dfb",
       "max": 2.5,
       "min": -0.5,
       "step": 0.5,
       "style": "IPY_MODEL_284595bfe9be48cb8be00de6856ab404",
       "value": -0.5
      }
     },
     "ec5b1a92ac124073a3b5b2376c883ce9": {
      "model_module": "@jupyter-widgets/base",
      "model_module_version": "1.2.0",
      "model_name": "LayoutModel",
      "state": {}
     },
     "ee9a81f257044a8cac74339435c47ade": {
      "model_module": "@jupyter-widgets/controls",
      "model_module_version": "1.5.0",
      "model_name": "SliderStyleModel",
      "state": {
       "description_width": ""
      }
     },
     "f99f1fa2710e473495ef01359245b2b4": {
      "model_module": "@jupyter-widgets/controls",
      "model_module_version": "1.5.0",
      "model_name": "FloatSliderModel",
      "state": {
       "description": "a",
       "layout": "IPY_MODEL_8994431477df4e7faf86f274a4eec0d1",
       "max": 2.5,
       "min": -0.5,
       "step": 0.5,
       "style": "IPY_MODEL_aab47383b06542adbd713a8a9ce9c2b0",
       "value": -0.5
      }
     }
    },
    "version_major": 2,
    "version_minor": 0
   }
  }
 },
 "nbformat": 4,
 "nbformat_minor": 4
}
