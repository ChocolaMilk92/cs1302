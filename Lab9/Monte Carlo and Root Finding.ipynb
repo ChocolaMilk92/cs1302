{
 "cells": [
  {
   "cell_type": "markdown",
   "metadata": {
    "slideshow": {
     "slide_type": "slide"
    }
   },
   "source": [
    "# Monte Carlo and Root Finding"
   ]
  },
  {
   "cell_type": "markdown",
   "metadata": {
    "slideshow": {
     "slide_type": "-"
    },
    "tags": [
     "remove-cell"
    ]
   },
   "source": [
    "**CS1302 Introduction to Computer Programming**\n",
    "___"
   ]
  },
  {
   "cell_type": "markdown",
   "metadata": {
    "slideshow": {
     "slide_type": "subslide"
    },
    "tags": []
   },
   "source": [
    "## The Monty-Hall Game"
   ]
  },
  {
   "cell_type": "code",
   "execution_count": null,
   "metadata": {
    "ExecuteTime": {
     "end_time": "2021-03-20T14:34:32.757241Z",
     "start_time": "2021-03-20T14:34:32.749359Z"
    },
    "slideshow": {
     "slide_type": "-"
    },
    "tags": [
     "hide-input"
    ]
   },
   "outputs": [],
   "source": [
    "%%html\n",
    "<iframe width=\"800\" height=\"450\" src=\"https://www.youtube.com/embed/rn1y-HrmA5c?end=23\" frameborder=\"0\" allow=\"accelerometer; autoplay; clipboard-write; encrypted-media; gyroscope; picture-in-picture\" allowfullscreen></iframe>"
   ]
  },
  {
   "cell_type": "markdown",
   "metadata": {
    "slideshow": {
     "slide_type": "subslide"
    }
   },
   "source": [
    "**Is it better to change the initial pick? What is the chance of winning if we change?**"
   ]
  },
  {
   "cell_type": "markdown",
   "metadata": {
    "slideshow": {
     "slide_type": "fragment"
    }
   },
   "source": [
    "*Hint:* There are two doors to choose from, and only one of the doors has treasure behind."
   ]
  },
  {
   "cell_type": "markdown",
   "metadata": {
    "slideshow": {
     "slide_type": "fragment"
    }
   },
   "source": [
    "Let's use the following program to play the game a couple of times."
   ]
  },
  {
   "cell_type": "code",
   "execution_count": null,
   "metadata": {
    "ExecuteTime": {
     "end_time": "2021-03-20T14:35:16.953731Z",
     "start_time": "2021-03-20T14:35:16.949245Z"
    },
    "code_folding": [],
    "slideshow": {
     "slide_type": "-"
    }
   },
   "outputs": [],
   "source": [
    "import random\n",
    "\n",
    "\n",
    "def play_monty_hall(num_of_doors=3):\n",
    "    \"\"\"Main function to run the Monty Hall game.\"\"\"\n",
    "    doors = {str(i) for i in range(num_of_doors)}\n",
    "    door_with_treasure = random.sample(doors, 1)[0]\n",
    "\n",
    "    # Input initial pick of the door.\n",
    "    while True:\n",
    "        initial_pick = input(f'Pick a door from {\", \".join(sorted(doors))}: ')\n",
    "        if initial_pick in doors:\n",
    "            break\n",
    "\n",
    "    # Open all but one other door. Opened door must have nothing.\n",
    "    doors_to_open = doors - {initial_pick, door_with_treasure}\n",
    "    other_door = (\n",
    "        door_with_treasure\n",
    "        if initial_pick != door_with_treasure\n",
    "        else doors_to_open.pop()\n",
    "    )\n",
    "    print(\"Door(s) with nothing behind:\", *doors_to_open)\n",
    "\n",
    "    # Allow player to change the initial pick the other (unopened) door.\n",
    "    change_pick = (\n",
    "        input(f\"Would you like to change your choice to {other_door}? [y/N] \").lower()\n",
    "        == \"y\"\n",
    "    )\n",
    "\n",
    "    # Check and record winning.\n",
    "    if not change_pick:\n",
    "        mh_stats[\"# no change\"] += 1\n",
    "        if door_with_treasure == initial_pick:\n",
    "            mh_stats[\"# win without changing\"] += 1\n",
    "            return print(\"You won!\")\n",
    "    else:\n",
    "        mh_stats[\"# change\"] += 1\n",
    "        if door_with_treasure == other_door:\n",
    "            mh_stats[\"# win by changing\"] += 1\n",
    "            return print(\"You won!\")\n",
    "    print(f\"You lost. The door with treasure is {door_with_treasure}.\")\n",
    "\n",
    "\n",
    "mh_stats = dict.fromkeys(\n",
    "    (\"# win by changing\", \"# win without changing\", \"# change\", \"# no change\"), 0\n",
    ")\n",
    "\n",
    "\n",
    "def monty_hall_statistics():\n",
    "    \"\"\"Print the statistics of the Monty Hall games.\"\"\"\n",
    "    print(\"-\" * 30, \"Statistics\", \"-\" * 30)\n",
    "    if mh_stats[\"# change\"]:\n",
    "        print(\n",
    "            f\"% win by changing: \\\n",
    "        {mh_stats['# win by changing'] / mh_stats['# change']:.0%}\"\n",
    "        )\n",
    "    if mh_stats[\"# no change\"]:\n",
    "        print(\n",
    "            f\"% win without changing: \\\n",
    "        {mh_stats['# win without changing']/mh_stats['# no change']:.0%}\"\n",
    "        )"
   ]
  },
  {
   "cell_type": "code",
   "execution_count": null,
   "metadata": {
    "ExecuteTime": {
     "end_time": "2020-11-25T01:23:30.120232Z",
     "start_time": "2020-11-25T01:23:24.086494Z"
    },
    "slideshow": {
     "slide_type": "subslide"
    },
    "tags": [
     "remove-output"
    ]
   },
   "outputs": [],
   "source": [
    "play_monty_hall()\n",
    "monty_hall_statistics()"
   ]
  },
  {
   "cell_type": "markdown",
   "metadata": {
    "slideshow": {
     "slide_type": "fragment"
    }
   },
   "source": [
    "You may also [play the game online](https://math.ucsd.edu/~crypto/Monty/monty.html)."
   ]
  },
  {
   "cell_type": "markdown",
   "metadata": {
    "slideshow": {
     "slide_type": "subslide"
    }
   },
   "source": [
    "To get a good estimate of the chance of winning, we need to play the game many times.  \n",
    "We can write a Monty-Carlo simulation instead."
   ]
  },
  {
   "cell_type": "code",
   "execution_count": null,
   "metadata": {
    "ExecuteTime": {
     "end_time": "2021-03-20T14:35:37.198841Z",
     "start_time": "2021-03-20T14:35:35.984213Z"
    },
    "deletable": false,
    "editable": false,
    "nbgrader": {
     "cell_type": "code",
     "checksum": "e8cf784178caa46c7fbd46c61ba83e54",
     "grade": false,
     "grade_id": "monty-hall",
     "locked": true,
     "schema_version": 3,
     "solution": false,
     "task": false
    },
    "slideshow": {
     "slide_type": "-"
    }
   },
   "outputs": [],
   "source": [
    "# Do not change any variables defined here, or some of the tests may fail.\n",
    "import numpy as np\n",
    "\n",
    "np.random.randint?\n",
    "\n",
    "np.random.seed(0)  # for reproducible result\n",
    "num_of_games = int(10e7)\n",
    "door_with_treasure = np.random.randint(1, 4, num_of_games, dtype=np.uint8)\n",
    "initial_pick = np.random.randint(1, 4, num_of_games, dtype=np.uint8)\n",
    "\n",
    "print(f\"{'Door with treasure:':>19}\", *door_with_treasure[:10], \"...\")\n",
    "print(f\"{'Initial pick:':>19}\", *initial_pick[:10], \"...\")"
   ]
  },
  {
   "cell_type": "markdown",
   "metadata": {
    "slideshow": {
     "slide_type": "fragment"
    }
   },
   "source": [
    "- `door_with_treasure` stores as 8-bit unsigned integers `uint8` the door numbers randomly chosen from $\\{1, 2, 3\\}$ as the doors with treasure behind for a number `num_of_games` of Monty-Hall games.\n",
    "- `initial_pick` stores the initial choices for the different games."
   ]
  },
  {
   "cell_type": "markdown",
   "metadata": {
    "slideshow": {
     "slide_type": "fragment"
    }
   },
   "source": [
    "If players do not change their initial pick, the chance of winning can be estimated as follows:"
   ]
  },
  {
   "cell_type": "code",
   "execution_count": null,
   "metadata": {
    "ExecuteTime": {
     "end_time": "2021-03-20T14:35:41.361942Z",
     "start_time": "2021-03-20T14:35:41.152117Z"
    },
    "code_folding": []
   },
   "outputs": [],
   "source": [
    "def estimate_chance_of_winning_without_change(door_with_treasure, initial_pick):\n",
    "    \"\"\"Estimate the chance of winning the Monty Hall game without changing\n",
    "    the initial pick using the Monte Carlo simulation of door_with_treasure\n",
    "    and initial_pick.\"\"\"\n",
    "    count_of_win = 0\n",
    "    for x, y in zip(door_with_treasure, initial_pick):\n",
    "        if x == y:\n",
    "            count_of_win += 1\n",
    "    return count_of_win / n\n",
    "\n",
    "\n",
    "n = num_of_games // 100\n",
    "estimate_chance_of_winning_without_change(door_with_treasure[:n], initial_pick[:n])"
   ]
  },
  {
   "cell_type": "markdown",
   "metadata": {},
   "source": [
    "However, the above code is inefficient and takes a long time to run. You may try running it on the entire sequences of `door_with_treasure` and `initial_pick` but **DO NOT** put the code in your notebook, as the server refuses to autograde notebooks that take too much time or memory to run."
   ]
  },
  {
   "cell_type": "markdown",
   "metadata": {
    "slideshow": {
     "slide_type": "fragment"
    }
   },
   "source": [
    "A simpler and also more efficient solution with well over 100 times speed up is as follows:"
   ]
  },
  {
   "cell_type": "code",
   "execution_count": null,
   "metadata": {
    "ExecuteTime": {
     "end_time": "2021-03-20T14:35:44.710183Z",
     "start_time": "2021-03-20T14:35:44.591395Z"
    },
    "slideshow": {
     "slide_type": "-"
    }
   },
   "outputs": [],
   "source": [
    "def estimate_chance_of_winning_without_change(door_with_treasure, initial_pick):\n",
    "    \"\"\"Estimate the chance of winning the Monty Hall game without changing\n",
    "    the initial pick using the Monte Carlo simulation of door_with_treasure\n",
    "    and initial_pick.\"\"\"\n",
    "    return (door_with_treasure == initial_pick).mean()\n",
    "\n",
    "\n",
    "estimate_chance_of_winning_without_change(door_with_treasure, initial_pick)"
   ]
  },
  {
   "cell_type": "markdown",
   "metadata": {
    "slideshow": {
     "slide_type": "fragment"
    }
   },
   "source": [
    "The code uses the method `mean` of `ndarray` that computes the mean of the `numpy` array.  \n",
    "In computing the mean, `True` and `False` are regarded as `1` and `0` respectively, as illustrated below."
   ]
  },
  {
   "cell_type": "code",
   "execution_count": null,
   "metadata": {
    "ExecuteTime": {
     "end_time": "2020-11-25T01:27:50.981923Z",
     "start_time": "2020-11-25T01:27:50.976334Z"
    },
    "slideshow": {
     "slide_type": "-"
    }
   },
   "outputs": [],
   "source": [
    "for i in True, False:\n",
    "    for j in True, False:\n",
    "        print(f\"{i} + {j} == {i + j}\")"
   ]
  },
  {
   "cell_type": "markdown",
   "metadata": {
    "slideshow": {
     "slide_type": "subslide"
    }
   },
   "source": [
    "**Exercise** Define the function `estimate_chance_of_winning_by_change` same as `estimate_chance_of_winning_without_change` above but returns the estimate of the chance of winning by changing the initial choice instead. Again, *implement efficiently or jupyterhub may refuse to autograde your entire notebook*.\n",
    "\n",
    "*Hint:* Since there are only two unopened doors at the end of each game, a player will win by changing the initial pick if the initially picked door is not the door with treasure behind."
   ]
  },
  {
   "cell_type": "code",
   "execution_count": null,
   "metadata": {
    "ExecuteTime": {
     "end_time": "2021-03-20T14:35:47.652739Z",
     "start_time": "2021-03-20T14:35:47.650310Z"
    },
    "deletable": false,
    "nbgrader": {
     "cell_type": "code",
     "checksum": "6b9be14256e67db2acf4f2ae073a57ae",
     "grade": false,
     "grade_id": "switch",
     "locked": false,
     "schema_version": 3,
     "solution": true,
     "task": false
    },
    "slideshow": {
     "slide_type": "-"
    },
    "tags": [
     "remove-output"
    ]
   },
   "outputs": [],
   "source": [
    "def estimate_chance_of_winning_by_change(door_with_treasure, initial_pick):\n",
    "    \"\"\"Estimate the chance of winning the Monty Hall game by changing\n",
    "    the initial pick using the Monte Carlo simulation of door_with_treasure\n",
    "    and initial_pick.\"\"\"\n",
    "    # YOUR CODE HERE\n",
    "    raise NotImplementedError()"
   ]
  },
  {
   "cell_type": "code",
   "execution_count": null,
   "metadata": {
    "ExecuteTime": {
     "end_time": "2021-03-20T14:35:48.640288Z",
     "start_time": "2021-03-20T14:35:48.518295Z"
    },
    "deletable": false,
    "editable": false,
    "nbgrader": {
     "cell_type": "code",
     "checksum": "29d0c3318c2c66dbf7c1792859a908ca",
     "grade": true,
     "grade_id": "test-switch",
     "locked": true,
     "points": 1,
     "schema_version": 3,
     "solution": false,
     "task": false
    },
    "slideshow": {
     "slide_type": "-"
    },
    "tags": [
     "hide-input",
     "remove-output"
    ]
   },
   "outputs": [],
   "source": [
    "# tests\n",
    "assert np.isclose(\n",
    "    estimate_chance_of_winning_by_change(door_with_treasure[:10], initial_pick[:10]),\n",
    "    0.7,\n",
    ")"
   ]
  },
  {
   "cell_type": "code",
   "execution_count": null,
   "metadata": {
    "deletable": false,
    "editable": false,
    "nbgrader": {
     "cell_type": "code",
     "checksum": "4d5596f079ce618f7b208bfaa5df26e5",
     "grade": true,
     "grade_id": "h_test-switch",
     "locked": true,
     "points": 1,
     "schema_version": 3,
     "solution": false,
     "task": false
    },
    "tags": [
     "remove-cell"
    ]
   },
   "outputs": [],
   "source": [
    "# hidden tests"
   ]
  },
  {
   "cell_type": "markdown",
   "metadata": {
    "slideshow": {
     "slide_type": "subslide"
    }
   },
   "source": [
    "## Solving a 3-by-3 system of linear equations"
   ]
  },
  {
   "cell_type": "markdown",
   "metadata": {
    "slideshow": {
     "slide_type": "fragment"
    }
   },
   "source": [
    "`numpy` has a module `linalg` for linear algebra, and the module provides a function called `solve` that can solve a system of linear equations. For the example in the lecture\n",
    "\n",
    "$$\n",
    "\\begin{aligned}\n",
    "2 x_0 + 2 x_1 &= 1\\\\\n",
    "2 x_1 &= 1,\n",
    "\\end{aligned}\n",
    "$$\n",
    "we can obtain the solution as follows:"
   ]
  },
  {
   "cell_type": "code",
   "execution_count": null,
   "metadata": {
    "ExecuteTime": {
     "end_time": "2020-11-22T12:56:16.383153Z",
     "start_time": "2020-11-22T12:56:16.335722Z"
    },
    "slideshow": {
     "slide_type": "fragment"
    }
   },
   "outputs": [],
   "source": [
    "np.linalg.solve?\n",
    "A = np.array([[2.0, 2], [0, 2]])\n",
    "b = np.array([1.0, 1])\n",
    "x = np.linalg.solve(A, b)"
   ]
  },
  {
   "cell_type": "markdown",
   "metadata": {
    "slideshow": {
     "slide_type": "fragment"
    }
   },
   "source": [
    "As explained in the lecture, the arguments `A` and `b` are obtained from the matrix form of the system of linear equations:\n",
    "\n",
    "$$\n",
    "\\underbrace{\n",
    "\\begin{bmatrix}\n",
    "2 & 2\\\\\n",
    "0 & 2\n",
    "\\end{bmatrix}}_{\\mathbf{A}}\n",
    "\\underbrace{\n",
    "\\begin{bmatrix}\n",
    "x_0\\\\ x_1\n",
    "\\end{bmatrix}}_{\\mathbf{x}}\n",
    "= \n",
    "\\underbrace{\n",
    "\\begin{bmatrix}\n",
    "1 \\\\ 1\n",
    "\\end{bmatrix}\n",
    "}_{\\mathbf{b}}\n",
    "$$"
   ]
  },
  {
   "cell_type": "markdown",
   "metadata": {
    "slideshow": {
     "slide_type": "fragment"
    }
   },
   "source": [
    "However, the function returns an error when there is no unique solution. "
   ]
  },
  {
   "cell_type": "code",
   "execution_count": null,
   "metadata": {
    "ExecuteTime": {
     "end_time": "2020-11-22T17:42:05.410488Z",
     "start_time": "2020-11-22T17:42:05.392109Z"
    },
    "slideshow": {
     "slide_type": "-"
    }
   },
   "outputs": [],
   "source": [
    "# Case with infinitely many solution\n",
    "A = np.array([[2.0, 2], [2, 2]])\n",
    "b = np.array([1.0, 1])\n",
    "x = np.linalg.solve(A, b)"
   ]
  },
  {
   "cell_type": "code",
   "execution_count": null,
   "metadata": {
    "ExecuteTime": {
     "end_time": "2020-11-22T17:42:06.874801Z",
     "start_time": "2020-11-22T17:42:06.861330Z"
    },
    "slideshow": {
     "slide_type": "-"
    }
   },
   "outputs": [],
   "source": [
    "# Case without solution\n",
    "A = np.array([[2.0, 2], [2, 2]])\n",
    "b = np.array([1.0, 0])\n",
    "x = np.linalg.solve(A, b)"
   ]
  },
  {
   "cell_type": "markdown",
   "metadata": {
    "slideshow": {
     "slide_type": "fragment"
    }
   },
   "source": [
    "A unique solution does not exist if and only if the [determinant](https://en.m.wikipedia.org/wiki/Determinant) of $\\mathbf{A}$ is $0$, in which case $\\mathbf{A}$ is called a singular matrix. For a $2$-by-$2$ matrix, the determinant is defined as follows:\n",
    "\n",
    "$$ \n",
    "\\begin{aligned}\n",
    "\\operatorname{det}(A) &:= \\left| \n",
    "\\begin{matrix}\n",
    "a_{00} & a_{01}\\\\\n",
    "a_{10} & a_{11}\n",
    "\\end{matrix}\n",
    "\\right|\\\\\n",
    "&= a_{00}\\times a_{11} - a_{01}\\times a_{10}.\n",
    "\\end{aligned}\n",
    "$$"
   ]
  },
  {
   "cell_type": "markdown",
   "metadata": {
    "slideshow": {
     "slide_type": "fragment"
    }
   },
   "source": [
    "For example, the first system has a unique solution because\n",
    "\n",
    "$$\n",
    "\\left|\n",
    "\\begin{matrix}\n",
    "2 & 2\\\\\n",
    "0 & 2\n",
    "\\end{matrix}\n",
    "\\right|\n",
    "= 2\\times 2 - 2\\times 0 = 4>0.\n",
    "$$\n",
    "The last two systems do not have unique solutions because\n",
    "\n",
    "$$\n",
    "\\left|\n",
    "\\begin{matrix}\n",
    "2 & 2\\\\\n",
    "2 & 2\n",
    "\\end{matrix}\n",
    "\\right|\n",
    "= 2\\times 2 - 2\\times 2 = 0.\n",
    "$$\n",
    "We can use the function `det` from `np.linalg` to compute the determinant as follows:"
   ]
  },
  {
   "cell_type": "code",
   "execution_count": null,
   "metadata": {},
   "outputs": [],
   "source": [
    "np.linalg.det?\n",
    "np.linalg.det(np.array([[2.0, 2], [0, 2]])), np.linalg.det(np.array([[2.0, 2], [2, 2]]))"
   ]
  },
  {
   "cell_type": "markdown",
   "metadata": {
    "slideshow": {
     "slide_type": "subslide"
    }
   },
   "source": [
    "**Exercise** Use the `det` and `solve` functions to assign `x` to the `numpy` array storing the solution of the following linear system if the solution is unique else `None`.\n",
    "\n",
    "$$\n",
    "\\begin{aligned}\n",
    "x_0 + 2 x_1 + 3x_2 &= 14\\\\\n",
    "2x_0 + x_1 + 2x_2 &= 10\\\\\n",
    "3 x_0 + 2x_1 + x_2 &= 10.\n",
    "\\end{aligned}\n",
    "$$"
   ]
  },
  {
   "cell_type": "code",
   "execution_count": null,
   "metadata": {
    "ExecuteTime": {
     "end_time": "2020-11-22T12:56:33.568116Z",
     "start_time": "2020-11-22T12:56:33.561294Z"
    },
    "deletable": false,
    "nbgrader": {
     "cell_type": "code",
     "checksum": "c08555513b5b41d8863530cc1d01888d",
     "grade": false,
     "grade_id": "linalg",
     "locked": false,
     "schema_version": 3,
     "solution": true,
     "task": false
    },
    "slideshow": {
     "slide_type": "-"
    },
    "tags": [
     "remove-output"
    ]
   },
   "outputs": [],
   "source": [
    "# YOUR CODE HERE\n",
    "raise NotImplementedError()\n",
    "x"
   ]
  },
  {
   "cell_type": "code",
   "execution_count": null,
   "metadata": {
    "ExecuteTime": {
     "end_time": "2020-11-22T12:56:33.583163Z",
     "start_time": "2020-11-22T12:56:33.571641Z"
    },
    "code_folding": [],
    "deletable": false,
    "editable": false,
    "nbgrader": {
     "cell_type": "code",
     "checksum": "f560fce9950282f5284df26adf91772c",
     "grade": true,
     "grade_id": "test-linalg",
     "locked": true,
     "points": 1,
     "schema_version": 3,
     "solution": false,
     "task": false
    },
    "slideshow": {
     "slide_type": "-"
    },
    "tags": [
     "hide-input",
     "remove-output"
    ]
   },
   "outputs": [],
   "source": [
    "# tests\n",
    "# As the main test must be hidden, you may want to verify your solution\n",
    "# as explained in the lecture using matrix multiplication.\n",
    "assert isinstance(x, np.ndarray) and x.shape == (3,)"
   ]
  },
  {
   "cell_type": "code",
   "execution_count": null,
   "metadata": {
    "deletable": false,
    "editable": false,
    "nbgrader": {
     "cell_type": "code",
     "checksum": "824c6e9697bed8dce93e16c5fe9d852f",
     "grade": true,
     "grade_id": "h_test-linalg",
     "locked": true,
     "points": 1,
     "schema_version": 3,
     "solution": false,
     "task": false
    },
    "tags": [
     "remove-cell"
    ]
   },
   "outputs": [],
   "source": [
    "# hidden tests"
   ]
  },
  {
   "cell_type": "markdown",
   "metadata": {
    "slideshow": {
     "slide_type": "subslide"
    }
   },
   "source": [
    "## Solving non-linear equations"
   ]
  },
  {
   "cell_type": "markdown",
   "metadata": {
    "slideshow": {
     "slide_type": "fragment"
    }
   },
   "source": [
    "Suppose we want to solve:\n",
    "\n",
    "$$\n",
    "f(x) = 0\n",
    "$$\n",
    "for some possibly non-linear real-valued function $f(x)$ in one real-valued variable $x$. Quadratic equation with an $x^2$ term is an example. The following is another example."
   ]
  },
  {
   "cell_type": "code",
   "execution_count": null,
   "metadata": {
    "ExecuteTime": {
     "end_time": "2020-11-22T12:56:34.352408Z",
     "start_time": "2020-11-22T12:56:33.751918Z"
    },
    "slideshow": {
     "slide_type": "-"
    }
   },
   "outputs": [],
   "source": [
    "%matplotlib inline\n",
    "import matplotlib.pyplot as plt\n",
    "import numpy as np\n",
    "\n",
    "f = lambda x: x * (x - 1) * (x - 2)\n",
    "x = np.linspace(-0.5, 2.5)\n",
    "plt.plot(x, f(x))\n",
    "plt.axhline(color=\"gray\", linestyle=\":\")\n",
    "plt.xlabel(r\"$x$\")\n",
    "plt.title(r\"Plot of $f(x)=x(x-1)(x-2)$\")\n",
    "plt.show()"
   ]
  },
  {
   "cell_type": "markdown",
   "metadata": {
    "slideshow": {
     "slide_type": "fragment"
    }
   },
   "source": [
    "While it is clear that the above function has three roots, namely, $x=0, 1, 2$, can we write a program to compute a root of any given continuous function $f$?"
   ]
  },
  {
   "cell_type": "code",
   "execution_count": null,
   "metadata": {
    "ExecuteTime": {
     "end_time": "2020-11-22T12:56:34.358746Z",
     "start_time": "2020-11-22T12:56:34.354260Z"
    },
    "slideshow": {
     "slide_type": "subslide"
    }
   },
   "outputs": [],
   "source": [
    "%%html\n",
    "<iframe width=\"800\" height=\"450\" src=\"https://www.youtube.com/embed/PXSLcEGkXkU\" frameborder=\"0\" allow=\"accelerometer; autoplay; clipboard-write; encrypted-media; gyroscope; picture-in-picture\" allowfullscreen></iframe>"
   ]
  },
  {
   "cell_type": "markdown",
   "metadata": {
    "slideshow": {
     "slide_type": "subslide"
    }
   },
   "source": [
    "The following function `bisection` \n",
    "- takes as arguments \n",
    "  - a continuous function `f`,\n",
    "  - two real values `a` and `b`, \n",
    "  - a positive integer `n` indicating the maximum depth of the recursion, and\n",
    "- returns a list `[xstart, xstop]` if the bisection succeeds in capturing a root in the interval `[xstart, xstop]` bounded by `a` and `b`, or else, returns a empty list `[]`."
   ]
  },
  {
   "cell_type": "code",
   "execution_count": null,
   "metadata": {
    "ExecuteTime": {
     "end_time": "2020-11-22T12:56:34.594223Z",
     "start_time": "2020-11-22T12:56:34.360732Z"
    },
    "code_folding": [
     13
    ],
    "slideshow": {
     "slide_type": "-"
    }
   },
   "outputs": [],
   "source": [
    "def bisection(f, a, b, n=10):\n",
    "    if f(a) * f(b) > 0:\n",
    "        return []  # because f(x) may not have a root between x=a and x=b\n",
    "    elif n <= 0:  # base case when recursion cannot go any deeper\n",
    "        return [a, b] if a <= b else [b, a]\n",
    "    else:\n",
    "        c = (a + b) / 2  # bisect the interval between a and b\n",
    "        return bisection(f, a, c, n - 1) or bisection(f, c, b, n - 1)  # recursion\n",
    "\n",
    "\n",
    "# bisection solver\n",
    "import ipywidgets as widgets\n",
    "\n",
    "\n",
    "@widgets.interact(a=(-0.5, 2.5, 0.5), b=(-0.5, 2.5, 0.5), n=(0, 10, 1))\n",
    "def bisection_solver(a=-0.5, b=0.5, n=0):\n",
    "    x = np.linspace(-0.5, 2.5)\n",
    "    plt.plot(x, f(x))\n",
    "    plt.axhline(color=\"gray\", linestyle=\":\")\n",
    "    plt.xlabel(r\"$x$\")\n",
    "    plt.title(r\"Bisection on $f(x)$\")\n",
    "    [xstart, xstop] = bisection(f, a, b, n)\n",
    "    plt.plot([xstart, xstop], [0, 0], \"r|-\")\n",
    "    print(\"Interval: \", [xstart, xstop])"
   ]
  },
  {
   "cell_type": "markdown",
   "metadata": {
    "slideshow": {
     "slide_type": "fragment"
    }
   },
   "source": [
    "Try setting the values of $a$ and $b$ as follows and change $n$ to see the change of the interval step-by-step."
   ]
  },
  {
   "cell_type": "code",
   "execution_count": null,
   "metadata": {
    "ExecuteTime": {
     "end_time": "2020-11-22T12:56:34.601549Z",
     "start_time": "2020-11-22T12:56:34.596170Z"
    },
    "slideshow": {
     "slide_type": "-"
    }
   },
   "outputs": [],
   "source": [
    "bisection(f, -0.5, 0.5), bisection(f, 1.5, 0.5), bisection(f, -0.1, 2.5)"
   ]
  },
  {
   "cell_type": "markdown",
   "metadata": {
    "slideshow": {
     "slide_type": "subslide"
    }
   },
   "source": [
    "**Exercise** Modify the function `bisection` to \n",
    "- take the floating point parameter `tol` instead of `n`, and\n",
    "- return the interval from the bisection method represented by a list `[xstart,xstop]` but as soon as the gap `xstop - xstart` is $\\leq$ `tol`."
   ]
  },
  {
   "cell_type": "code",
   "execution_count": null,
   "metadata": {
    "ExecuteTime": {
     "end_time": "2020-11-22T12:56:34.612478Z",
     "start_time": "2020-11-22T12:56:34.603264Z"
    },
    "deletable": false,
    "nbgrader": {
     "cell_type": "code",
     "checksum": "6a4aae6b76256c6f757465fd4a93bed5",
     "grade": false,
     "grade_id": "bisection",
     "locked": false,
     "schema_version": 3,
     "solution": true,
     "task": false
    },
    "slideshow": {
     "slide_type": "-"
    },
    "tags": [
     "remove-output"
    ]
   },
   "outputs": [],
   "source": [
    "def bisection(f, a, b, tol=1e-9):\n",
    "    # YOUR CODE HERE\n",
    "    raise NotImplementedError()"
   ]
  },
  {
   "cell_type": "code",
   "execution_count": null,
   "metadata": {
    "ExecuteTime": {
     "end_time": "2020-11-22T12:56:34.627595Z",
     "start_time": "2020-11-22T12:56:34.614456Z"
    },
    "deletable": false,
    "editable": false,
    "nbgrader": {
     "cell_type": "code",
     "checksum": "a47780044fab40faea56393c61f7dcd9",
     "grade": true,
     "grade_id": "test-bisection",
     "locked": true,
     "points": 1,
     "schema_version": 3,
     "solution": false,
     "task": false
    },
    "slideshow": {
     "slide_type": "-"
    },
    "tags": [
     "hide-input",
     "remove-output"
    ]
   },
   "outputs": [],
   "source": [
    "# tests\n",
    "import numpy as np\n",
    "\n",
    "f = lambda x: x * (x - 1) * (x - 2)\n",
    "bisection(f, 1.5, 0.5)\n",
    "assert np.isclose(bisection(f, -0.5, 0.5), [-9.313225746154785e-10, 0.0]).all()\n",
    "_ = bisection(f, 1.5, 0.5, 1e-2)\n",
    "assert np.isclose(_, [1.0, 1.0078125]).all() or np.isclose(_, [0.9921875, 1.0]).all()\n",
    "assert np.isclose(\n",
    "    bisection(f, -0.1, 2.5, 1e-3), [1.9998046875000002, 2.0004394531250003]\n",
    ").all()"
   ]
  },
  {
   "cell_type": "code",
   "execution_count": null,
   "metadata": {
    "deletable": false,
    "editable": false,
    "nbgrader": {
     "cell_type": "code",
     "checksum": "8160b43badb41f359045b5d097afe543",
     "grade": true,
     "grade_id": "h_test-bisection",
     "locked": true,
     "points": 1,
     "schema_version": 3,
     "solution": false,
     "task": false
    },
    "tags": [
     "remove-cell"
    ]
   },
   "outputs": [],
   "source": [
    "# hidden tests"
   ]
  }
 ],
 "metadata": {
  "kernelspec": {
   "display_name": "Python 3 (ipykernel)",
   "language": "python",
   "name": "python3"
  },
  "language_info": {
   "codemirror_mode": {
    "name": "ipython",
    "version": 3
   },
   "file_extension": ".py",
   "mimetype": "text/x-python",
   "name": "python",
   "nbconvert_exporter": "python",
   "pygments_lexer": "ipython3",
   "version": "3.8.12"
  },
  "latex_envs": {
   "LaTeX_envs_menu_present": true,
   "autoclose": false,
   "autocomplete": true,
   "bibliofile": "biblio.bib",
   "cite_by": "apalike",
   "current_citInitial": 1,
   "eqLabelWithNumbers": true,
   "eqNumInitial": 1,
   "hotkeys": {
    "equation": "Ctrl-E",
    "itemize": "Ctrl-I"
   },
   "labels_anchors": false,
   "latex_user_defs": false,
   "report_style_numbering": false,
   "user_envs_cfg": false
  },
  "rise": {
   "enable_chalkboard": true,
   "scroll": true,
   "theme": "white"
  },
  "toc": {
   "base_numbering": 1,
   "nav_menu": {
    "height": "195px",
    "width": "330px"
   },
   "number_sections": true,
   "sideBar": true,
   "skip_h1_title": true,
   "title_cell": "Table of Contents",
   "title_sidebar": "Contents",
   "toc_cell": false,
   "toc_position": {
    "height": "454.418px",
    "left": "1533px",
    "top": "110.284px",
    "width": "261px"
   },
   "toc_section_display": true,
   "toc_window_display": false
  },
  "widgets": {
   "application/vnd.jupyter.widget-state+json": {
    "state": {},
    "version_major": 2,
    "version_minor": 0
   }
  }
 },
 "nbformat": 4,
 "nbformat_minor": 4
}
