{
 "cells": [
  {
   "cell_type": "markdown",
   "metadata": {
    "slideshow": {
     "slide_type": "slide"
    }
   },
   "source": [
    "# Improved Quadratic Equation Solver"
   ]
  },
  {
   "cell_type": "markdown",
   "metadata": {
    "slideshow": {
     "slide_type": "-"
    },
    "tags": [
     "remove-cell"
    ]
   },
   "source": [
    "**CS1302 Introduction to Computer Programming**\n",
    "___"
   ]
  },
  {
   "cell_type": "markdown",
   "metadata": {
    "ExecuteTime": {
     "end_time": "2020-09-13T01:19:41.712043Z",
     "start_time": "2020-09-13T01:19:41.704733Z"
    },
    "slideshow": {
     "slide_type": "subslide"
    }
   },
   "source": [
    "In this notebook, we will improve the quadratic equation solver in the previous lab using conditional executions.  \n",
    "First of all, run the following to setup the environment."
   ]
  },
  {
   "cell_type": "code",
   "execution_count": null,
   "metadata": {
    "ExecuteTime": {
     "end_time": "2021-03-20T14:26:24.264060Z",
     "start_time": "2021-03-20T14:26:24.200032Z"
    },
    "slideshow": {
     "slide_type": "skip"
    }
   },
   "outputs": [],
   "source": [
    "from ipywidgets import interact\n",
    "import math\n",
    "import numpy as np"
   ]
  },
  {
   "cell_type": "markdown",
   "metadata": {
    "slideshow": {
     "slide_type": "subslide"
    }
   },
   "source": [
    "## Discriminant"
   ]
  },
  {
   "cell_type": "markdown",
   "metadata": {
    "slideshow": {
     "slide_type": "fragment"
    }
   },
   "source": [
    "Recall that a quadratic equation is\n",
    "\n",
    "$$\n",
    "ax^2+bx+c=0\n",
    "$$\n",
    "\n",
    "where $a$, $b$, and $c$ are real-valued coefficients, and $x$ is the unknown variable."
   ]
  },
  {
   "cell_type": "markdown",
   "metadata": {},
   "source": [
    "---\n",
    "\n",
    "**Definition**\n",
    "\n",
    "The disciminant of a quadratic equation is defined as\n",
    "\n",
    "$$\n",
    "\\Delta := b^2 - 4ac.\n",
    "$$ (discriminant)\n",
    "\n",
    "---"
   ]
  },
  {
   "cell_type": "markdown",
   "metadata": {},
   "source": [
    "The discriminant $\\Delta$ discriminates the roots $\\frac{-b\\pm \\sqrt{\\Delta}}{2a}$ of a quadratic equation:"
   ]
  },
  {
   "cell_type": "markdown",
   "metadata": {
    "slideshow": {
     "slide_type": "fragment"
    }
   },
   "source": [
    "---\n",
    "\n",
    "**Proposition**\n",
    "\n",
    "The roots of a quadratic equation {eq}`quadratic` are the same (repeated) equal to $-\\frac{b}{2a}$ when the discriminant is zero, i.e., $\\Delta=0$.\n",
    "\n",
    "---"
   ]
  },
  {
   "cell_type": "markdown",
   "metadata": {
    "slideshow": {
     "slide_type": "subslide"
    }
   },
   "source": [
    "**Exercise** Complete the following function by assigning `roots` only one root when the discriminant is zero. E.g., if $(a,b,c)=(1,-2,1)$, then `roots` should be assigned the value `1.0` instead of `1.0, 1.0`."
   ]
  },
  {
   "cell_type": "code",
   "execution_count": null,
   "metadata": {
    "ExecuteTime": {
     "end_time": "2021-03-20T14:26:27.169016Z",
     "start_time": "2021-03-20T14:26:27.165022Z"
    },
    "deletable": false,
    "nbgrader": {
     "cell_type": "code",
     "checksum": "ab6fbcdff876e3cfc8767e7377284ccb",
     "grade": false,
     "grade_id": "zero_determininant",
     "locked": false,
     "schema_version": 3,
     "solution": true,
     "task": false
    },
    "slideshow": {
     "slide_type": "fragment"
    }
   },
   "outputs": [],
   "source": [
    "def get_roots(a, b, c):\n",
    "    d = b ** 2 - 4 * a * c  # discriminant\n",
    "    if math.isclose(d, 0):\n",
    "        # YOUR CODE HERE\n",
    "        raise NotImplementedError()\n",
    "    return roots"
   ]
  },
  {
   "cell_type": "markdown",
   "metadata": {
    "slideshow": {
     "slide_type": "fragment"
    }
   },
   "source": [
    "---\n",
    "\n",
    "**Hint**\n",
    "\n",
    "Consider using the [if statement](https://docs.python.org/3/reference/compound_stmts.html#if) as follows:\n",
    "\n",
    "```Python\n",
    "def get_roots(a, b, c):\n",
    "    d = b ** 2 - 4 * a * c  # discriminant\n",
    "    if math.isclose(d, 0):\n",
    "        roots = ___  # repeated root\n",
    "    else:\n",
    "        d **= 0.5\n",
    "        roots = ___, ___\n",
    "    return roots\n",
    "```\n",
    "\n",
    "This is a solution template where `___` needs to be filled in with appropriate code. If you are a more efficient/simpler implementation, you need *not* follow the solution template. E.g., to challenge your understanding of short-circuit evaluation, you can write your solution using boolean operations without any if statement.\n",
    "\n",
    "---"
   ]
  },
  {
   "cell_type": "code",
   "execution_count": null,
   "metadata": {
    "ExecuteTime": {
     "end_time": "2021-03-20T14:26:27.728735Z",
     "start_time": "2021-03-20T14:26:27.725235Z"
    },
    "code_folding": [
     0
    ],
    "deletable": false,
    "editable": false,
    "nbgrader": {
     "cell_type": "code",
     "checksum": "16860060eb7229216c52e0e6c7e96484",
     "grade": true,
     "grade_id": "test-zero_determinant",
     "locked": true,
     "points": 1,
     "schema_version": 3,
     "solution": false,
     "task": false
    }
   },
   "outputs": [],
   "source": [
    "# tests\n",
    "def test_get_roots(roots, a, b, c):\n",
    "    def mysort(c):\n",
    "        return c.real, c.imag\n",
    "\n",
    "    roots_ = get_roots(a, b, c)\n",
    "    assert (\n",
    "        hasattr(roots, \"__len__\")\n",
    "        and np.isclose(\n",
    "            sorted(list(roots), key=mysort), sorted(list(roots_), key=mysort)\n",
    "        ).all()\n",
    "        or roots == roots_ or np.isclose(roots, roots_)\n",
    "    )\n",
    "\n",
    "\n",
    "test_get_roots((-1.0, 0.0), 1, 1, 0)\n",
    "test_get_roots(0.0, 1, 0, 0)"
   ]
  },
  {
   "cell_type": "code",
   "execution_count": null,
   "metadata": {
    "code_folding": [
     0
    ],
    "deletable": false,
    "editable": false,
    "nbgrader": {
     "cell_type": "code",
     "checksum": "ea74289e50129048beb923088ce499c8",
     "grade": true,
     "grade_id": "hidden_test-zero_determinant",
     "locked": true,
     "points": 1,
     "schema_version": 3,
     "solution": false,
     "task": false
    }
   },
   "outputs": [],
   "source": [
    "# hidden tests"
   ]
  },
  {
   "cell_type": "markdown",
   "metadata": {
    "slideshow": {
     "slide_type": "fragment"
    }
   },
   "source": [
    "**Exercise** Why use `math.isclose(d, 0)` instead of `d == 0`?"
   ]
  },
  {
   "cell_type": "markdown",
   "metadata": {
    "deletable": false,
    "nbgrader": {
     "cell_type": "markdown",
     "checksum": "12889805830e3af64988ae0de141f1b7",
     "grade": true,
     "grade_id": "isclose",
     "locked": false,
     "points": 1,
     "schema_version": 3,
     "solution": true,
     "task": false
    },
    "slideshow": {
     "slide_type": "fragment"
    }
   },
   "source": [
    "YOUR ANSWER HERE"
   ]
  },
  {
   "cell_type": "markdown",
   "metadata": {
    "slideshow": {
     "slide_type": "slide"
    }
   },
   "source": [
    "## Linear equation"
   ]
  },
  {
   "cell_type": "markdown",
   "metadata": {
    "slideshow": {
     "slide_type": "fragment"
    }
   },
   "source": [
    "If $a=0$, the earlier formula for the roots are invalid due to division by zero. Nevertheless, the equation remains valid:\n",
    "\n",
    "$$\n",
    "bx + c=0.\n",
    "$$"
   ]
  },
  {
   "cell_type": "markdown",
   "metadata": {},
   "source": [
    "**Exercise** Improve the function `get_roots` to return the root $-\\frac{c}{b}$ when $a=0$."
   ]
  },
  {
   "cell_type": "code",
   "execution_count": null,
   "metadata": {
    "ExecuteTime": {
     "end_time": "2021-03-20T14:26:30.430592Z",
     "start_time": "2021-03-20T14:26:30.426171Z"
    },
    "deletable": false,
    "nbgrader": {
     "cell_type": "code",
     "checksum": "790fe0b27e9e6efe7e54afa74e32dbad",
     "grade": false,
     "grade_id": "linear",
     "locked": false,
     "schema_version": 3,
     "solution": true,
     "task": false
    }
   },
   "outputs": [],
   "source": [
    "def get_roots(a, b, c):\n",
    "    d = b ** 2 - 4 * a * c\n",
    "    # YOUR CODE HERE\n",
    "    raise NotImplementedError()\n",
    "    return roots"
   ]
  },
  {
   "cell_type": "markdown",
   "metadata": {},
   "source": [
    "---\n",
    "\n",
    "**Hint** \n",
    "\n",
    "Solution template:\n",
    "```Python\n",
    "def get_roots(a, b, c):\n",
    "    d = b ** 2 - 4 * a * c    # discriminant\n",
    "    if ___:\n",
    "        roots = ___\n",
    "    elif math.isclose(d, 0):\n",
    "        roots = ___  # repeated root\n",
    "    else:\n",
    "        d **= 0.5\n",
    "        roots = ___\n",
    "    return roots\n",
    "```\n",
    "\n",
    "---"
   ]
  },
  {
   "cell_type": "code",
   "execution_count": null,
   "metadata": {
    "ExecuteTime": {
     "end_time": "2021-03-20T14:26:30.800530Z",
     "start_time": "2021-03-20T14:26:30.796874Z"
    },
    "code_folding": [],
    "deletable": false,
    "editable": false,
    "nbgrader": {
     "cell_type": "code",
     "checksum": "5c1bddf43ef773f22d90ffad549ccc45",
     "grade": true,
     "grade_id": "test-linear",
     "locked": true,
     "points": 1,
     "schema_version": 3,
     "solution": false,
     "task": false
    }
   },
   "outputs": [],
   "source": [
    "# tests\n",
    "test_get_roots((-1.0, -0.0), 1, 1, 0)\n",
    "test_get_roots(0.0, 1, 0, 0)\n",
    "test_get_roots(0.5, 0, -2, 1)"
   ]
  },
  {
   "cell_type": "code",
   "execution_count": null,
   "metadata": {
    "code_folding": [
     0
    ],
    "deletable": false,
    "editable": false,
    "nbgrader": {
     "cell_type": "code",
     "checksum": "0b77d8b49baaccd677119a45a0a2a230",
     "grade": true,
     "grade_id": "hidden_test-linear",
     "locked": true,
     "points": 1,
     "schema_version": 3,
     "solution": false,
     "task": false
    }
   },
   "outputs": [],
   "source": [
    "# hidden tests"
   ]
  },
  {
   "cell_type": "markdown",
   "metadata": {},
   "source": [
    "## Degenerate cases"
   ]
  },
  {
   "cell_type": "markdown",
   "metadata": {},
   "source": [
    "What if $a=b=0$? In that case, the equation becomes\n",
    "\n",
    "$$\n",
    "c = 0\n",
    "$$\n",
    "which is always satisfied if $c=0$ but never satisfied if $c\\neq 0$. "
   ]
  },
  {
   "cell_type": "markdown",
   "metadata": {
    "slideshow": {
     "slide_type": "fragment"
    }
   },
   "source": [
    "**Exercise** Improve the function `get_roots` to return root(s) under all cases:\n",
    "- If $a=0$ and $b\\neq 0$, assign `roots` to the single root $-\\frac{c}{b}$. \n",
    "- If $a=b=0$ and $c\\neq 0$, assign `roots` to `None`.  \n",
    "    Note that `None` is an object, not a string.\n",
    "- If $a=b=c=0$, there are infinitely many roots. Assign to `roots` the tuple `-float('inf'), float('inf')`.  \n",
    "    Note that `float('inf')` converts the string `'inf'` to a floating point value that represents $\\infty$."
   ]
  },
  {
   "cell_type": "code",
   "execution_count": null,
   "metadata": {
    "ExecuteTime": {
     "end_time": "2021-03-20T14:26:33.456700Z",
     "start_time": "2021-03-20T14:26:33.451234Z"
    },
    "deletable": false,
    "nbgrader": {
     "cell_type": "code",
     "checksum": "474f601f43c279d150f959b1672c2f86",
     "grade": false,
     "grade_id": "degenerate",
     "locked": false,
     "schema_version": 3,
     "solution": true,
     "task": false
    },
    "slideshow": {
     "slide_type": "skip"
    }
   },
   "outputs": [],
   "source": [
    "def get_roots(a, b, c):\n",
    "    d = b ** 2 - 4 * a * c\n",
    "    # YOUR CODE HERE\n",
    "    raise NotImplementedError()\n",
    "    return roots"
   ]
  },
  {
   "cell_type": "markdown",
   "metadata": {
    "slideshow": {
     "slide_type": "fragment"
    }
   },
   "source": [
    "---\n",
    "\n",
    "**Hint** \n",
    "\n",
    "Use nested `if` statements as in the solution template:\n",
    "\n",
    "```Python\n",
    "def get_roots(a, b, c):\n",
    "    d = b**2 - 4 * a * c\n",
    "    if ___:\n",
    "        if ___:\n",
    "            if ___:\n",
    "                roots = -float('inf'), float('inf')\n",
    "            else:\n",
    "                roots = None\n",
    "        else:\n",
    "            ___\n",
    "    elif math.isclose(d, 0):\n",
    "        roots = ___  # repeated root\n",
    "    else:\n",
    "        d **= 0.5\n",
    "        roots = ___\n",
    "    return roots\n",
    "```\n",
    "\n",
    "---"
   ]
  },
  {
   "cell_type": "code",
   "execution_count": null,
   "metadata": {
    "ExecuteTime": {
     "end_time": "2021-03-20T14:26:33.700946Z",
     "start_time": "2021-03-20T14:26:33.696771Z"
    },
    "code_folding": [
     0
    ],
    "deletable": false,
    "editable": false,
    "nbgrader": {
     "cell_type": "code",
     "checksum": "5d991e44c6b5378dbe741263bcf09984",
     "grade": true,
     "grade_id": "test-degenerate",
     "locked": true,
     "points": 1,
     "schema_version": 3,
     "solution": false,
     "task": false
    },
    "slideshow": {
     "slide_type": "skip"
    }
   },
   "outputs": [],
   "source": [
    "# tests\n",
    "test_get_roots((-1.0, 0.0), 1, 1, 0)\n",
    "test_get_roots(0.0, 1, 0, 0)\n",
    "test_get_roots((-float('inf'), float('inf')), 0, 0, 0)\n",
    "test_get_roots(None, 0, 0, 1)\n",
    "test_get_roots(0.5, 0, -2, 1)\n",
    "test_get_roots(1.0, 1, -2, 1)"
   ]
  },
  {
   "cell_type": "code",
   "execution_count": null,
   "metadata": {
    "code_folding": [
     0
    ],
    "deletable": false,
    "editable": false,
    "nbgrader": {
     "cell_type": "code",
     "checksum": "8ee8bbfeb16c1bf80e555537f093154d",
     "grade": true,
     "grade_id": "test_test-degenerate",
     "locked": true,
     "points": 1,
     "schema_version": 3,
     "solution": false,
     "task": false
    }
   },
   "outputs": [],
   "source": [
    "# hidden tests"
   ]
  },
  {
   "cell_type": "markdown",
   "metadata": {},
   "source": [
    "After you have complete the exercises, you can run your robust solver below:"
   ]
  },
  {
   "cell_type": "code",
   "execution_count": null,
   "metadata": {
    "ExecuteTime": {
     "end_time": "2021-03-20T14:26:37.374157Z",
     "start_time": "2021-03-20T14:26:37.344554Z"
    },
    "code_folding": [
     0
    ],
    "slideshow": {
     "slide_type": "-"
    }
   },
   "outputs": [],
   "source": [
    "# quadratic equations solver\n",
    "@interact(a=(-10,10,1),b=(-10,10,1),c=(-10,10,1))\n",
    "def quadratic_equation_solver(a=1,b=2,c=1):\n",
    "    print('Root(s):',get_roots(a,b,c))"
   ]
  },
  {
   "cell_type": "markdown",
   "metadata": {},
   "source": [
    "## Flowcharts (optional)"
   ]
  },
  {
   "cell_type": "markdown",
   "metadata": {},
   "source": [
    "Let's play a game to test your understanding of boolean expressions. Run the following program and choose your input so that 1, 2, 3 are each printed in a separate line as follows:\n",
    "``` \n",
    "1\n",
    "2\n",
    "3\n",
    "```"
   ]
  },
  {
   "cell_type": "code",
   "execution_count": null,
   "metadata": {},
   "outputs": [],
   "source": [
    "input(1) or input(2) and input(3)"
   ]
  },
  {
   "cell_type": "markdown",
   "metadata": {},
   "source": [
    "---\n",
    "\n",
    "**Hint**\n",
    "\n",
    "The following flowchart describes the [short-circuit evaluation](https://docs.python.org/3/reference/expressions.html?highlight=precedence#boolean-operations) for the boolean expression as follows:\n",
    "\n",
    "![1or2and3](images/1or2and3.svg)\n",
    "\n",
    "---"
   ]
  },
  {
   "cell_type": "markdown",
   "metadata": {},
   "source": [
    "**How to read the flowchart?**"
   ]
  },
  {
   "cell_type": "markdown",
   "metadata": {},
   "source": [
    "A flowchart uses arrows to connects a set of [annotated blocks][bb]. The rules were first specified by ANSI and later adopted in [ISO 5807][iso].\n",
    "\n",
    "[bb]: https://en.wikipedia.org/wiki/Flowchart#Building_blocks\n",
    "[iso]: https://webstore.ansi.org/Standards/ISO/ISO58071985"
   ]
  },
  {
   "cell_type": "markdown",
   "metadata": {},
   "source": [
    "For the above game, start from the first decision block at the top and choose the input appropriately to transition along the `yes` arrows."
   ]
  },
  {
   "cell_type": "markdown",
   "metadata": {},
   "source": [
    "**Why use a program flowchart?**"
   ]
  },
  {
   "cell_type": "markdown",
   "metadata": {},
   "source": [
    "A program flowchart is a powerful way of describing an algorithm quickly: Unlike a text-based programming language, \n",
    "- The rules governing the program flow can be shown explicitly by arrows.\n",
    "- The annotated graphical blocks can convey the meaning faster using both visual clues. "
   ]
  },
  {
   "cell_type": "markdown",
   "metadata": {},
   "source": [
    "A programmer can draft a program in flowchart without worrying about syntax (indentation, colon, ...). E.g., the above flow chart can be implement as follows using the if statement instead of the boolean operators."
   ]
  },
  {
   "cell_type": "code",
   "execution_count": null,
   "metadata": {},
   "outputs": [],
   "source": [
    "if not input(1):\n",
    "    if input(2):\n",
    "        input(3)"
   ]
  },
  {
   "cell_type": "markdown",
   "metadata": {},
   "source": [
    "**How to convert the program to a flowchart automatically?**"
   ]
  },
  {
   "cell_type": "markdown",
   "metadata": {},
   "source": [
    "We can use [PyFlowchart](https://github.com/cdfmlr/pyflowchart):"
   ]
  },
  {
   "cell_type": "code",
   "execution_count": null,
   "metadata": {},
   "outputs": [],
   "source": [
    "from pyflowchart import Flowchart\n",
    "\n",
    "def code2flow(code):\n",
    "    '''\n",
    "    Given input code (as a string), returns the flowchart (as a string) that can be rendered by\n",
    "    http://flowchart.js.org\n",
    "    '''\n",
    "    return Flowchart.from_code(code, simplify=False).flowchart()"
   ]
  },
  {
   "cell_type": "markdown",
   "metadata": {},
   "source": [
    "Pass the code as a string to `code2flow`:"
   ]
  },
  {
   "cell_type": "code",
   "execution_count": null,
   "metadata": {},
   "outputs": [],
   "source": [
    "fc = code2flow('''\n",
    "if not input(1):\n",
    "    if input(2):\n",
    "        input(3)\n",
    "''')\n",
    "print(fc)"
   ]
  },
  {
   "cell_type": "markdown",
   "metadata": {},
   "source": [
    "The output is a string in a [domain-specific language (DSL)][dsl] that can be [rendered here with flowchart.js][fc]. Simply overwrite a demo textbox there with the printed flowchart code above.\n",
    "\n",
    "[dsl]: https://en.wikipedia.org/wiki/Domain-specific_language\n",
    "[fc]: http://flowchart.js.org"
   ]
  },
  {
   "cell_type": "markdown",
   "metadata": {},
   "source": [
    "**How to write a documentation with flowcharts?  \n",
    "What about other DSL for special contents such as diagrams, equations, lists, ...?**"
   ]
  },
  {
   "cell_type": "markdown",
   "metadata": {},
   "source": [
    "[Markdown](https://en.wikipedia.org/wiki/Markdown) is becoming popular in writing documentations. jupyter notebooks, jupyterbook, github, ... all supports markdown, but to different extents:\n",
    "\n",
    "- Jupyter notebook such as this one supports [CommonMark](https://commonmark.org).\n",
    "- Our [cs1302 jupyterbook](https://www.cs.cityu.edu.hk/~ccha23/cs1302book) is written in [MyST](https://myst-parser.readthedocs.io/en/latest/syntax/syntax.html) markdown.\n",
    "- Github uses [Github Flavored Markdown (GFM).](https://github.github.com/gfm/)\n",
    "\n",
    "Unfortunately, none of them support the flowchart code currently."
   ]
  },
  {
   "cell_type": "markdown",
   "metadata": {},
   "source": [
    "Nevertheless, many editors such as [Typora](https://typora.io) supports advanced Markdown language with live preview. We can also extend VS Code to do the same using [Markdown Preview Enhanced](https://shd101wyy.github.io/markdown-preview-enhanced/#/) as follows:"
   ]
  },
  {
   "cell_type": "markdown",
   "metadata": {},
   "source": [
    "---\n",
    "\n",
    "**Tip**\n",
    "\n",
    "You can install any extension on the VS Code interface of the JupyterHub server. To render flowchart code:\n",
    "\n",
    "1. Open `Launcher` (click on the **+** sign in the top left or press `Shift + Ctrl + L`) and click on `VS Code` to create a VSCode tab\n",
    "2. Click the extension tab on the left and search for *Markdown Preview Enhanced*.\n",
    "3. Click install and refresh the browser.\n",
    "4. Click the file explorer tab and create a new file say `test.md` file.\n",
    "5. Insert the flowchart in DSL to the `test.md` [as follows](https://shd101wyy.github.io/markdown-preview-enhanced/#/diagrams?id=flow-charts):  \n",
    "    ````Markdown\n",
    "    ```flow\n",
    "    cond3=>condition: if (not input(1))\n",
    "    cond8=>condition: if input(2)\n",
    "    sub12=>subroutine: input(3)\n",
    "\n",
    "    cond3(yes)->cond8\n",
    "    cond8(yes)->sub12\n",
    "    ```\n",
    "    ````\n",
    "6. To show the live preview, click the `open preview` button of Markdown Preview Enhanced located on the tool bar at the top right-hand corner.\n",
    "\n",
    "---"
   ]
  }
 ],
 "metadata": {
  "kernelspec": {
   "display_name": "Python 3 (ipykernel)",
   "language": "python",
   "name": "python3"
  },
  "language_info": {
   "codemirror_mode": {
    "name": "ipython",
    "version": 3
   },
   "file_extension": ".py",
   "mimetype": "text/x-python",
   "name": "python",
   "nbconvert_exporter": "python",
   "pygments_lexer": "ipython3",
   "version": "3.8.8"
  },
  "latex_envs": {
   "LaTeX_envs_menu_present": true,
   "autoclose": false,
   "autocomplete": true,
   "bibliofile": "biblio.bib",
   "cite_by": "apalike",
   "current_citInitial": 1,
   "eqLabelWithNumbers": true,
   "eqNumInitial": 1,
   "hotkeys": {
    "equation": "Ctrl-E",
    "itemize": "Ctrl-I"
   },
   "labels_anchors": false,
   "latex_user_defs": false,
   "report_style_numbering": false,
   "user_envs_cfg": false
  },
  "rise": {
   "enable_chalkboard": true,
   "scroll": true,
   "theme": "white"
  },
  "toc": {
   "base_numbering": 1,
   "nav_menu": {
    "height": "195px",
    "width": "330px"
   },
   "number_sections": true,
   "sideBar": true,
   "skip_h1_title": true,
   "title_cell": "Table of Contents",
   "title_sidebar": "Contents",
   "toc_cell": false,
   "toc_position": {
    "height": "454.418px",
    "left": "1533px",
    "top": "110.284px",
    "width": "435.327px"
   },
   "toc_section_display": true,
   "toc_window_display": false
  },
  "widgets": {
   "application/vnd.jupyter.widget-state+json": {
    "state": {
     "0c84b2d29ec74396a053907b30e35e0d": {
      "model_module": "@jupyter-widgets/output",
      "model_module_version": "1.0.0",
      "model_name": "OutputModel",
      "state": {
       "layout": "IPY_MODEL_bf1da852b4534490b70eb07c7139c3fb",
       "outputs": [
        {
         "name": "stdout",
         "output_type": "stream",
         "text": "Root(s): -1.0\n"
        }
       ]
      }
     },
     "0f91895494ac48d8bd2a79235bc7cbdf": {
      "model_module": "@jupyter-widgets/controls",
      "model_module_version": "1.5.0",
      "model_name": "SliderStyleModel",
      "state": {
       "description_width": ""
      }
     },
     "2696baf3ebc74bc8a7ab75fe52a96fb0": {
      "model_module": "@jupyter-widgets/controls",
      "model_module_version": "1.5.0",
      "model_name": "IntSliderModel",
      "state": {
       "description": "a",
       "layout": "IPY_MODEL_8a36f0a7e25c479083d7c56bce26a103",
       "max": 10,
       "min": -10,
       "style": "IPY_MODEL_0f91895494ac48d8bd2a79235bc7cbdf",
       "value": 1
      }
     },
     "3ddacef7250044efa2fcb1f8beef5bd5": {
      "model_module": "@jupyter-widgets/base",
      "model_module_version": "1.2.0",
      "model_name": "LayoutModel",
      "state": {}
     },
     "3e4835ae227049019f0783bd0bb87a9a": {
      "model_module": "@jupyter-widgets/controls",
      "model_module_version": "1.5.0",
      "model_name": "VBoxModel",
      "state": {
       "_dom_classes": [
        "widget-interact"
       ],
       "children": [
        "IPY_MODEL_2696baf3ebc74bc8a7ab75fe52a96fb0",
        "IPY_MODEL_baf1110de2744f6298c5488a6581293d",
        "IPY_MODEL_7fbbaba678534da7992b38c44406af10",
        "IPY_MODEL_0c84b2d29ec74396a053907b30e35e0d"
       ],
       "layout": "IPY_MODEL_80076ddfa73f4d989131fde54f02969f"
      }
     },
     "69961253e7544198b15ad90c74b83582": {
      "model_module": "@jupyter-widgets/base",
      "model_module_version": "1.2.0",
      "model_name": "LayoutModel",
      "state": {}
     },
     "6c25ab841a7146feaa14d7ff01d53cd1": {
      "model_module": "@jupyter-widgets/controls",
      "model_module_version": "1.5.0",
      "model_name": "SliderStyleModel",
      "state": {
       "description_width": ""
      }
     },
     "7fbbaba678534da7992b38c44406af10": {
      "model_module": "@jupyter-widgets/controls",
      "model_module_version": "1.5.0",
      "model_name": "IntSliderModel",
      "state": {
       "description": "c",
       "layout": "IPY_MODEL_3ddacef7250044efa2fcb1f8beef5bd5",
       "max": 10,
       "min": -10,
       "style": "IPY_MODEL_6c25ab841a7146feaa14d7ff01d53cd1",
       "value": 1
      }
     },
     "80076ddfa73f4d989131fde54f02969f": {
      "model_module": "@jupyter-widgets/base",
      "model_module_version": "1.2.0",
      "model_name": "LayoutModel",
      "state": {}
     },
     "8a36f0a7e25c479083d7c56bce26a103": {
      "model_module": "@jupyter-widgets/base",
      "model_module_version": "1.2.0",
      "model_name": "LayoutModel",
      "state": {}
     },
     "baf1110de2744f6298c5488a6581293d": {
      "model_module": "@jupyter-widgets/controls",
      "model_module_version": "1.5.0",
      "model_name": "IntSliderModel",
      "state": {
       "description": "b",
       "layout": "IPY_MODEL_69961253e7544198b15ad90c74b83582",
       "max": 10,
       "min": -10,
       "style": "IPY_MODEL_d883d294857347289fbe2dd1afed5201",
       "value": 2
      }
     },
     "bf1da852b4534490b70eb07c7139c3fb": {
      "model_module": "@jupyter-widgets/base",
      "model_module_version": "1.2.0",
      "model_name": "LayoutModel",
      "state": {}
     },
     "d883d294857347289fbe2dd1afed5201": {
      "model_module": "@jupyter-widgets/controls",
      "model_module_version": "1.5.0",
      "model_name": "SliderStyleModel",
      "state": {
       "description_width": ""
      }
     }
    },
    "version_major": 2,
    "version_minor": 0
   }
  }
 },
 "nbformat": 4,
 "nbformat_minor": 4
}
